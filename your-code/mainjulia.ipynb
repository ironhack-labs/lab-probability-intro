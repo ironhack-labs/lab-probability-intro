{
 "cells": [
  {
   "cell_type": "markdown",
   "metadata": {},
   "source": [
    "# Probability"
   ]
  },
  {
   "cell_type": "markdown",
   "metadata": {},
   "source": [
    "## Challenge 1\n",
    "There is a box with 10 white balls, 12 red balls and 8 black balls. Calculate the probability of:\n",
    "* Taking a white ball out.\n",
    "* Taking a white ball on first extraction and a black ball out on second extraction without replacing the first one.\n",
    "* Taking a white ball on first extraction and a black ball out on second extraction replacing the first one.\n",
    "* Taking 3 balls and them being all different colours."
   ]
  },
  {
   "cell_type": "code",
   "execution_count": 9,
   "metadata": {},
   "outputs": [
    {
     "name": "stdout",
     "output_type": "stream",
     "text": [
      "0.3333333333333333\n",
      "0.09195402298850575\n",
      "0.08888888888888888\n",
      "0.013136288998357962\n"
     ]
    }
   ],
   "source": [
    "from scipy import stats\n",
    "import numpy as np\n",
    "import matplotlib.pyplot as plt\n",
    "import math\n",
    "\n",
    "# overall number of balls = 30 - white balls: 10\n",
    "# probability to take a white ball out: \n",
    "p = 10 / 30\n",
    "print(p)\n",
    "\n",
    "# white ball first and black ball second without replacing first one:\n",
    "p2 = p * (8 / 29)\n",
    "print(p2)\n",
    "\n",
    "# with replacing first one:\n",
    "p3 = p * (8 / 30)\n",
    "print(p3)\n",
    "\n",
    "# taking 3 balls and all being different colors\n",
    "p4 = p * p2 * (12/28)\n",
    "print(p4)"
   ]
  },
  {
   "cell_type": "markdown",
   "metadata": {},
   "source": [
    "## Challenge 2\n",
    "\n",
    "You want to go on picnic on Saturday. You hate rain, and would know to plan your weekend. To help you make a decision, you gather the following data about rainy days:\n",
    "\n",
    "* 40% of all days are cloudy.\n",
    "* About 50% of cloudy days are rainy. \n",
    "* About 20% of non-cloudy days are rainy.\n",
    "\n",
    "What is the chance of rain during next Saturday?"
   ]
  },
  {
   "cell_type": "code",
   "execution_count": 16,
   "metadata": {},
   "outputs": [
    {
     "name": "stdout",
     "output_type": "stream",
     "text": [
      "0.2 percent of all days are rainy and cloudy.\n",
      "The percentage that Saturday is gonna be a rainy day is 4.571428571428571.\n"
     ]
    }
   ],
   "source": [
    "# How many days are rainy?\n",
    "# probability that a day is rainy:\n",
    "p5 = (0.4 * 0.5)# cloudy, rainy day\n",
    "print(f\"{p5} percent of all days are rainy and cloudy.\")\n",
    "\n",
    "p6 = (1 - 0.4)*0.2\n",
    "\n",
    "p7 = (p5 + p6)/7*100\n",
    "print(f\"The percentage that Saturday is gonna be a rainy day is {p7}.\")\n"
   ]
  },
  {
   "cell_type": "markdown",
   "metadata": {},
   "source": [
    "## Challenge 3\n",
    "\n",
    "A and B are events of a probability such that $P(A) = 0.3$, $P(B) = 0.6$ and $P(A \\cap B) = 0.1$\n",
    "\n",
    "Which of the following statements are true?  \n",
    "**HINT: draw a big Venn Diagram by your side**  \n",
    "* $P(\\overline{A}) = 0.7$\n",
    "* $P(A \\cup B) = 0.6$\n",
    "* $P(A \\cap \\overline{B}) = 0.2$\n",
    "* $P(A \\cup \\overline{A}) = 1$  \n",
    "* $P(A \\cap (B \\cup \\overline{B})) = 0.4$\n",
    "* $P(\\overline{A} \\cap \\overline{B}) = 0.3$\n",
    "* $P(\\overline{A \\cap B}) = 0.9$"
   ]
  },
  {
   "cell_type": "code",
   "execution_count": null,
   "metadata": {},
   "outputs": [],
   "source": [
    "# first one: False\n",
    "# second one: False\n",
    "# third one: False\n",
    "# fourth one: True\n",
    "# fifth one: False\n",
    "# sixth one: True"
   ]
  },
  {
   "cell_type": "markdown",
   "metadata": {},
   "source": [
    "## Challenge 4\n",
    "\n",
    " * If someone flies to China, the probability of getting Covid is 1%  \n",
    " * If someone flies to Italy, the probability of getting Covid is 20%  \n",
    "\n",
    "I roll 1 dice with numbers 1, 2, 3, 4, 5, 6:  \n",
    " * If 1: I fly to Italy\n",
    " * If not 1: I fly to China\n",
    "\n",
    "During my trip, I got Covid. What is the probability that I flew to China?"
   ]
  },
  {
   "cell_type": "code",
   "execution_count": 20,
   "metadata": {},
   "outputs": [
    {
     "name": "stdout",
     "output_type": "stream",
     "text": [
      "The probility that you flew to China is 0.2 or 20.0%.\n"
     ]
    }
   ],
   "source": [
    "# Probility to fly to China: 5/6 (P(A))\n",
    "# Probability to fly to Italy: 1/6 (P(B))\n",
    "# Pobability to get Covid: (0,2 * 1/6) + (0,01 * 5/6) (P(C))\n",
    "\n",
    "# Bayes' Theorem:\n",
    "# calculate P(A/C) = P(C/A) * P(A) / P(C)\n",
    "pac = (0.01 * 5/6)/((0.2*1/6)+(0.01*5/6))\n",
    "pac_percent = pac * 100\n",
    "print(f\"The probility that you flew to China is {pac} or {pac_percent}%.\")"
   ]
  },
  {
   "cell_type": "markdown",
   "metadata": {},
   "source": [
    "## BONUS\n",
    "\n",
    "You roll 2 dice. What is the probability that the sum of the numbers is 7? And 8? And 9? Then simulate 10000 times and draw a countplot."
   ]
  },
  {
   "cell_type": "markdown",
   "metadata": {},
   "source": [
    "your explanation here"
   ]
  },
  {
   "cell_type": "code",
   "execution_count": 26,
   "metadata": {},
   "outputs": [
    {
     "name": "stdout",
     "output_type": "stream",
     "text": [
      "The probability to get 7 as sum is 16.666666666666664 percent.\n",
      "The probability to get 8 as sum is 13.88888888888889 percent.\n"
     ]
    },
    {
     "data": {
      "image/png": "[encoded data removed]",
      "text/plain": [
       "<Figure size 1000x600 with 1 Axes>"
      ]
     },
     "metadata": {},
     "output_type": "display_data"
    }
   ],
   "source": [
    "# For sum of numbers = 7\n",
    "p7 = 6/36*100\n",
    "\n",
    "# For sum of numbers = 8\n",
    "p8 = 5/36*100\n",
    "\n",
    "print(f\"The probability to get 7 as sum is {p7} percent.\")\n",
    "print(f\"The probability to get 8 as sum is {p8} percent.\")\n",
    "\n",
    "import random\n",
    "import pandas as pd\n",
    "import numpy as np\n",
    "import matplotlib.pyplot as plt\n",
    "import seaborn as sns\n",
    "\n",
    "\n",
    "number_of_rolls = 10000\n",
    "\n",
    "# Roll two dice n_simulations times\n",
    "roll1 = np.random.randint(1, 7, number_of_rolls)\n",
    "roll2 = np.random.randint(1, 7, number_of_rolls)\n",
    "\n",
    "# Calculate the sum of both dice\n",
    "sums = roll1 + roll2\n",
    "\n",
    "# Plot the results\n",
    "plt.figure(figsize=(10, 6))\n",
    "sns.countplot(x=sums)\n",
    "plt.title(\"Sum of Two Dice Rolls with 1000 simulations\")\n",
    "plt.xlabel(\"Sum\")\n",
    "plt.ylabel(\"Count\")\n",
    "plt.show()"
   ]
  }
 ],
 "metadata": {
  "kernelspec": {
   "display_name": "Python 3 (ipykernel)",
   "language": "python",
   "name": "python3"
  },
  "language_info": {
   "codemirror_mode": {
    "name": "ipython",
    "version": 3
   },
   "file_extension": ".py",
   "mimetype": "text/x-python",
   "name": "python",
   "nbconvert_exporter": "python",
   "pygments_lexer": "ipython3",
   "version": "3.12.0"
  },
  "toc": {
   "base_numbering": 1,
   "nav_menu": {},
   "number_sections": false,
   "sideBar": true,
   "skip_h1_title": false,
   "title_cell": "Table of Contents",
   "title_sidebar": "Contents",
   "toc_cell": false,
   "toc_position": {
    "height": "calc(100% - 180px)",
    "left": "10px",
    "top": "150px",
    "width": "296.475px"
   },
   "toc_section_display": true,
   "toc_window_display": false
  },
  "varInspector": {
   "cols": {
    "lenName": 16,
    "lenType": 16,
    "lenVar": 40
   },
   "kernels_config": {
    "python": {
     "delete_cmd_postfix": "",
     "delete_cmd_prefix": "del ",
     "library": "var_list.py",
     "varRefreshCmd": "print(var_dic_list())"
    },
    "r": {
     "delete_cmd_postfix": ") ",
     "delete_cmd_prefix": "rm(",
     "library": "var_list.r",
     "varRefreshCmd": "cat(var_dic_list()) "
    }
   },
   "types_to_exclude": [
    "module",
    "function",
    "builtin_function_or_method",
    "instance",
    "_Feature"
   ],
   "window_display": false
  }
 },
 "nbformat": 4,
 "nbformat_minor": 2
}
