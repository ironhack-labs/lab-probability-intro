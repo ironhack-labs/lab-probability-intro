{
 "cells": [
  {
   "cell_type": "markdown",
   "metadata": {},
   "source": [
    "# Probability"
   ]
  },
  {
   "cell_type": "markdown",
   "metadata": {},
   "source": [
    "## Challenge 1\n",
    "There is a box with 10 white balls, 12 red balls and 8 black balls. Calculate the probability of:\n",
    "* Taking a white ball out.\n",
    "* Taking a white ball on first extraction and a black ball out on second extraction without replacing the first one.\n",
    "* Taking a white ball on first extraction and a black ball out on second extraction replacing the first one.\n",
    "* Taking 3 balls and them being all different colours."
   ]
  },
  {
   "cell_type": "code",
   "execution_count": 2,
   "metadata": {},
   "outputs": [
    {
     "name": "stdout",
     "output_type": "stream",
     "text": [
      "1. Probability of taking a white ball out: 0.3333\n",
      "2. Probability of white first and black second (no replacement): 0.0920\n",
      "3. Probability of white first and black second (with replacement): 0.0889\n",
      "4. Probability of 3 balls all different colors: 0.2365\n"
     ]
    }
   ],
   "source": [
    "from math import factorial\n",
    "\n",
    "\n",
    "white_balls = 10\n",
    "red_balls = 12\n",
    "black_balls = 8\n",
    "total_balls = white_balls + red_balls + black_balls\n",
    "\n",
    "# taking a white ball out\n",
    "p_white = white_balls / total_balls\n",
    "print(f\"1. Probability of taking a white ball out: {p_white:.4f}\")\n",
    "\n",
    "# white first and black second without replacement\n",
    "p_white_first = white_balls / total_balls\n",
    "p_black_second_no_replace = black_balls / (total_balls - 1)\n",
    "p_white_black_no_replace = p_white_first * p_black_second_no_replace\n",
    "print(f\"2. Probability of white first and black second (no replacement): {p_white_black_no_replace:.4f}\")\n",
    "\n",
    "# white first and black second with replacement\n",
    "p_black_second_replace = black_balls / total_balls\n",
    "p_white_black_replace = p_white_first * p_black_second_replace\n",
    "print(f\"3. Probability of white first and black second (with replacement): {p_white_black_replace:.4f}\")\n",
    "\n",
    "# 3 balls of all different colors (without replacement)\n",
    "# (White first, Red second, Black third)\n",
    "p_white_first = white_balls / total_balls\n",
    "p_red_second = red_balls / (total_balls - 1)\n",
    "p_black_third = black_balls / (total_balls - 2)\n",
    "p_white_red_black = p_white_first * p_red_second * p_black_third\n",
    "\n",
    "# 6 permutations \n",
    "p_all_different = 6 * p_white_red_black\n",
    "print(f\"4. Probability of 3 balls all different colors: {p_all_different:.4f}\")\n"
   ]
  },
  {
   "cell_type": "markdown",
   "metadata": {},
   "source": [
    "## Challenge 2\n",
    "\n",
    "You want to go on picnic on Saturday. You hate rain, and would know to plan your weekend. To help you make a decision, you gather the following data about rainy days:\n",
    "\n",
    "* 40% of all days are cloudy.\n",
    "* About 50% of cloudy days are rainy. \n",
    "* About 20% of non-cloudy days are rainy.\n",
    "\n",
    "What is the chance of rain during next Saturday?"
   ]
  },
  {
   "cell_type": "code",
   "execution_count": 8,
   "metadata": {},
   "outputs": [
    {
     "name": "stdout",
     "output_type": "stream",
     "text": [
      "The chance of rain on the next Saturday is: 32%\n"
     ]
    }
   ],
   "source": [
    "P_C = 0.4 #cloudy\n",
    "P_R_given_C = 0.5 #cloudy and rainy\n",
    "P_not_C = 1 - P_C\n",
    "P_R_given_not_C = 0.2 #not cloudy but rainy\n",
    "\n",
    "P_R = (P_C * P_R_given_C) + (P_not_C * P_R_given_not_C)\n",
    "\n",
    "print(f\"The chance of rain on the next Saturday is: {int(P_R * 100)}%\")\n"
   ]
  },
  {
   "cell_type": "markdown",
   "metadata": {},
   "source": [
    "## Challenge 3\n",
    "\n",
    "A and B are events of a probability such that $P(A) = 0.3$, $P(B) = 0.6$ and $P(A \\cap B) = 0.1$\n",
    "\n",
    "Which of the following statements are true?  \n",
    "**HINT: draw a big Venn Diagram by your side**  \n",
    "* $P(\\overline{A}) = 0.7$\n",
    "* $P(A \\cup B) = 0.6$\n",
    "* $P(A \\cap \\overline{B}) = 0.2$\n",
    "* $P(A \\cup \\overline{A}) = 1$  \n",
    "* $P(A \\cap (B \\cup \\overline{B})) = 0.4$\n",
    "* $P(\\overline{A} \\cap \\overline{B}) = 0.3$\n",
    "* $P(\\overline{A \\cap B}) = 0.9$"
   ]
  },
  {
   "cell_type": "code",
   "execution_count": null,
   "metadata": {},
   "outputs": [],
   "source": [
    "# 1-0.3=0.7 true\n",
    "# 0.3+0.6-0.1= 0.8 false\n",
    "# 0.3-0.1=0.2 true\n",
    "# true\n",
    "# 0.4!=0.3 false\n",
    "# false\n",
    "# true"
   ]
  },
  {
   "cell_type": "markdown",
   "metadata": {},
   "source": [
    "## Challenge 4\n",
    "\n",
    " * If someone flies to China, the probability of getting Covid is 1%  \n",
    " * If someone flies to Italy, the probability of getting Covid is 20%  \n",
    "\n",
    "I roll 1 dice with numbers 1, 2, 3, 4, 5, 6:  \n",
    " * If 1: I fly to Italy\n",
    " * If not 1: I fly to China\n",
    "\n",
    "During my trip, I got Covid. What is the probability that I flew to China?"
   ]
  },
  {
   "cell_type": "code",
   "execution_count": 11,
   "metadata": {},
   "outputs": [
    {
     "data": {
      "text/plain": [
       "0.7142857142857143"
      ]
     },
     "execution_count": 11,
     "metadata": {},
     "output_type": "execute_result"
    }
   ],
   "source": [
    "Italyf = 1/6\n",
    "Chinaf = 5/6\n",
    "covidI = 0.2\n",
    "covidC = 0.1\n",
    "\n",
    "covidpro = (covidI * Italyf) + (covidC * Chinaf)\n",
    "\n",
    "chinapro = (covidC * Chinaf) / covidpro\n",
    "\n",
    "chinapro"
   ]
  },
  {
   "cell_type": "markdown",
   "metadata": {},
   "source": [
    "## BONUS\n",
    "\n",
    "You roll 2 dice. What is the probability that the sum of the numbers is 7? And 8? And 9? Then simulate 10000 times and draw a countplot."
   ]
  },
  {
   "cell_type": "markdown",
   "metadata": {},
   "source": [
    "your explanation here"
   ]
  },
  {
   "cell_type": "code",
   "execution_count": 13,
   "metadata": {},
   "outputs": [
    {
     "name": "stderr",
     "output_type": "stream",
     "text": [
      "C:\\Users\\igriz\\AppData\\Local\\Temp\\ipykernel_2668\\1487633489.py:11: FutureWarning: \n",
      "\n",
      "Passing `palette` without assigning `hue` is deprecated and will be removed in v0.14.0. Assign the `x` variable to `hue` and set `legend=False` for the same effect.\n",
      "\n",
      "  sns.countplot(x=rolls, palette='Blues')\n"
     ]
    },
    {
     "data": {
      "text/plain": [
       "Text(0, 0.5, 'Frequency')"
      ]
     },
     "execution_count": 13,
     "metadata": {},
     "output_type": "execute_result"
    },
    {
     "data": {
      "image/png": "[encoded data removed]",
      "text/plain": [
       "<Figure size 640x480 with 1 Axes>"
      ]
     },
     "metadata": {},
     "output_type": "display_data"
    }
   ],
   "source": [
    "import random\n",
    "import seaborn as sns\n",
    "import matplotlib.pyplot as plt\n",
    "rolls = []\n",
    "for _ in range(10000):\n",
    "    die1 = random.randint(1,6)\n",
    "    die2 = random.randint(1,6)\n",
    "    rolls.append(die1+die2)\n",
    "\n",
    "sns.set(style='whitegrid')\n",
    "sns.countplot(x=rolls, palette='Blues')\n",
    "plt.title('Sum of Two Dice Rolled 10,000 times', fontsize=15)\n",
    "plt.xlabel('Sum of Rolls', fontsize=12)\n",
    "plt.ylabel('Frequency', fontsize=12)"
   ]
  },
  {
   "cell_type": "code",
   "execution_count": null,
   "metadata": {},
   "outputs": [],
   "source": []
  }
 ],
 "metadata": {
  "kernelspec": {
   "display_name": "Python 3 (ipykernel)",
   "language": "python",
   "name": "python3"
  },
  "language_info": {
   "codemirror_mode": {
    "name": "ipython",
    "version": 3
   },
   "file_extension": ".py",
   "mimetype": "text/x-python",
   "name": "python",
   "nbconvert_exporter": "python",
   "pygments_lexer": "ipython3",
   "version": "3.12.7"
  },
  "toc": {
   "base_numbering": 1,
   "nav_menu": {},
   "number_sections": false,
   "sideBar": true,
   "skip_h1_title": false,
   "title_cell": "Table of Contents",
   "title_sidebar": "Contents",
   "toc_cell": false,
   "toc_position": {
    "height": "calc(100% - 180px)",
    "left": "10px",
    "top": "150px",
    "width": "296.475px"
   },
   "toc_section_display": true,
   "toc_window_display": false
  },
  "varInspector": {
   "cols": {
    "lenName": 16,
    "lenType": 16,
    "lenVar": 40
   },
   "kernels_config": {
    "python": {
     "delete_cmd_postfix": "",
     "delete_cmd_prefix": "del ",
     "library": "var_list.py",
     "varRefreshCmd": "print(var_dic_list())"
    },
    "r": {
     "delete_cmd_postfix": ") ",
     "delete_cmd_prefix": "rm(",
     "library": "var_list.r",
     "varRefreshCmd": "cat(var_dic_list()) "
    }
   },
   "types_to_exclude": [
    "module",
    "function",
    "builtin_function_or_method",
    "instance",
    "_Feature"
   ],
   "window_display": false
  }
 },
 "nbformat": 4,
 "nbformat_minor": 4
}
