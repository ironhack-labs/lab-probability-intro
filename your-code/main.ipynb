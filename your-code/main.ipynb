{
 "cells": [
  {
   "cell_type": "markdown",
   "metadata": {},
   "source": [
    "# Probability"
   ]
  },
  {
   "cell_type": "markdown",
   "metadata": {},
   "source": [
    "## Challenge 1\n",
    "There is a box with 10 white balls, 12 red balls and 8 black balls. Calculate the probability of:\n",
    "* Taking a white ball out.\n",
    "* Taking a white ball on first extraction and a black ball out on second extraction without replacing the first one.\n",
    "* Taking a white ball on first extraction and a black ball out on second extraction replacing the first one.\n",
    "* Taking 3 balls and them being all different colours."
   ]
  },
  {
   "cell_type": "code",
   "execution_count": 9,
   "metadata": {},
   "outputs": [
    {
     "name": "stdout",
     "output_type": "stream",
     "text": [
      "Probability of taking a white ball is: 0.33\n",
      "Probability of taking a white ball on first extraction and a black ball out on second extraction without replacing the first one: 0.09\n",
      "Probability of taking a white ball on first extraction and a black ball out on second extraction replacing the first one: 0.09\n",
      "Probability of taking 3 balls and them being all different colours: 4060.0\n"
     ]
    }
   ],
   "source": [
    "# YOUR CODE HERE\n",
    "white_b = 10\n",
    "red_b = 12\n",
    "black_b = 8\n",
    "\n",
    "# P(white)\n",
    "prob_1 = white_b / (white_b + red_b + black_b)\n",
    "\n",
    "print(f'Probability of taking a white ball is: {round(prob_1, 2)}')\n",
    "\n",
    "# P(white) * P(black | white)\n",
    "prob_2 = ( white_b / (white_b + red_b + black_b) ) * (black_b / ((white_b - 1) + red_b + black_b))\n",
    "print(f'Probability of taking a white ball on first extraction and a black ball out on second extraction without replacing the first one: {round(prob_2, 2)}')\n",
    "\n",
    "# P(white) * P(black)\n",
    "prob_3 = ( white_b / (white_b + red_b + black_b) ) * (black_b / (white_b + red_b + black_b))\n",
    "print(f'Probability of taking a white ball on first extraction and a black ball out on second extraction replacing the first one: {round(prob_3, 2)}')\n",
    "\n",
    "# P(All different colors)\n",
    "# 3! = 6\n",
    "prob_4 = (30 * 29 * 28)/6 \n",
    "print(f'Probability of taking 3 balls and them being all different colours: {round(prob_4,2)}')\n",
    "\n",
    "\n",
    "\n"
   ]
  },
  {
   "cell_type": "markdown",
   "metadata": {},
   "source": [
    "## Challenge 2\n",
    "\n",
    "You want to go on picnic on Saturday. You hate rain, and would know to plan your weekend. To help you make a decision, you gather the following data about rainy days:\n",
    "\n",
    "* 40% of all days are cloudy.\n",
    "* About 50% of cloudy days are rainy. \n",
    "* About 20% of non-cloudy days are rainy.\n",
    "\n",
    "What is the chance of rain during next Saturday?"
   ]
  },
  {
   "cell_type": "code",
   "execution_count": 16,
   "metadata": {},
   "outputs": [
    {
     "name": "stdout",
     "output_type": "stream",
     "text": [
      "The probability that it will rain is: 0.32\n"
     ]
    }
   ],
   "source": [
    "# YOUR CODE HERE\n",
    "# Data: P = prob, C = cloudy, R = Rain, n = NOT\n",
    "PC = 0.4\n",
    "PnC = 1 - Pc\n",
    "PRC = 0.5\n",
    "PRnC = 0.2\n",
    "\n",
    "prob_rain = PRC * PC + PRnC * PnC\n",
    "\n",
    "print(f\"The probability that it will rain is: {prob_rain}\")"
   ]
  },
  {
   "cell_type": "markdown",
   "metadata": {},
   "source": [
    "## Challenge 3\n",
    "\n",
    "A and B are events of a probability such that $P(A) = 0.3$, $P(B) = 0.6$ and $P(A \\cap B) = 0.1$\n",
    "\n",
    "Which of the following statements are true?  \n",
    "**HINT: draw a big Venn Diagram by your side**  \n",
    "* $P(\\overline{A}) = 0.7$\n",
    "* $P(A \\cup B) = 0.6$\n",
    "* $P(A \\cap \\overline{B}) = 0.2$\n",
    "* $P(A \\cup \\overline{A}) = 1$  \n",
    "* $P(A \\cap (B \\cup \\overline{B})) = 0.4$\n",
    "* $P(\\overline{A} \\cap \\overline{B}) = 0.3$\n",
    "* $P(\\overline{A \\cap B}) = 0.9$"
   ]
  },
  {
   "cell_type": "code",
   "execution_count": 23,
   "metadata": {},
   "outputs": [
    {
     "name": "stdout",
     "output_type": "stream",
     "text": [
      "P(A`) = 0.7: True\n",
      "P(A cup B) = 0.6: False\n",
      "P(A cap B`) = 0.2: False\n",
      "P(A cup A`) = 1: True\n",
      "P(A cap (B cup B`)) = 0.4: False\n",
      "P(A` cap B`) = 0.3: False\n",
      "P(A cap B)` = 0.9: True\n"
     ]
    }
   ],
   "source": [
    "# YOUR CODE HERE\n",
    "\n",
    "# Given probabilities\n",
    "P_A = 0.3\n",
    "P_B = 0.6\n",
    "P_A_and_B = 0.1\n",
    "\n",
    "def calculate_probabilities():\n",
    "    P_not_A = 1 - P_A\n",
    "\n",
    "    P_A_or_B = P_A + P_B - P_A_and_B\n",
    "\n",
    "    P_A_and_not_B = P_A - P_A_and_B\n",
    "\n",
    "    P_A_or_not_A = 1\n",
    "\n",
    "    P_A_and_B_or_not_B = P_A\n",
    "\n",
    "    P_not_A_and_not_B = 1 - P_A - P_B + P_A_and_B\n",
    "\n",
    "    P_not_A_and_B = 1 - P_A_and_B\n",
    "\n",
    "    return {\n",
    "        \"P_not_A\": P_not_A,\n",
    "        \"P_A_or_B\": P_A_or_B,\n",
    "        \"P_A_and_not_B\": P_A_and_not_B,\n",
    "        \"P_A_or_not_A\": P_A_or_not_A,\n",
    "        \"P_A_and_B_or_not_B\": P_A_and_B_or_not_B,\n",
    "        \"P_not_A_and_not_B\": P_not_A_and_not_B,\n",
    "        \"P_not_A_and_B\": P_not_A_and_B,\n",
    "    }\n",
    "\n",
    "results = calculate_probabilities()\n",
    "\n",
    "statements = {\n",
    "    \"P(A`) = 0.7\": results[\"P_not_A\"] == 0.7,\n",
    "    \"P(A cup B) = 0.6\": results[\"P_A_or_B\"] == 0.6,\n",
    "    \"P(A cap B`) = 0.2\": results[\"P_A_and_not_B\"] == 0.2,\n",
    "    \"P(A cup A`) = 1\": results[\"P_A_or_not_A\"] == 1,\n",
    "    \"P(A cap (B cup B`)) = 0.4\": results[\"P_A_and_B_or_not_B\"] == 0.4,\n",
    "    \"P(A` cap B`) = 0.3\": results[\"P_not_A_and_not_B\"] == 0.3,\n",
    "    \"P(A cap B)` = 0.9\": results[\"P_not_A_and_B\"] == 0.9,\n",
    "}\n",
    "\n",
    "for statement, is_true in statements.items():\n",
    "    print(f\"{statement}: {'True' if is_true else 'False'}\")"
   ]
  },
  {
   "cell_type": "markdown",
   "metadata": {},
   "source": [
    "## Challenge 4\n",
    "\n",
    " * If someone flies to China, the probability of getting Covid is 1%  \n",
    " * If someone flies to Italy, the probability of getting Covid is 20%  \n",
    "\n",
    "I roll 1 dice with numbers 1, 2, 3, 4, 5, 6:  \n",
    " * If 1: I fly to Italy\n",
    " * If not 1: I fly to China\n",
    "\n",
    "During my trip, I got Covid. What is the probability that I flew to China?"
   ]
  },
  {
   "cell_type": "code",
   "execution_count": 26,
   "metadata": {},
   "outputs": [
    {
     "name": "stdout",
     "output_type": "stream",
     "text": [
      "Probability of flying to China given Covid: 0.2\n"
     ]
    }
   ],
   "source": [
    "# YOUR CODE HERE\n",
    "P_C = 5 / 6 \n",
    "P_I = 1 / 6 \n",
    "P_D_given_C = 0.01 \n",
    "P_D_given_I = 0.20 \n",
    "\n",
    "# Total probability of getting Covid\n",
    "P_D = (P_D_given_C * P_C) + (P_D_given_I * P_I)\n",
    "\n",
    "# Probability of flying to China given Covid\n",
    "P_C_given_D = (P_D_given_C * P_C) / P_D\n",
    "\n",
    "print(\"Probability of flying to China given Covid:\", P_C_given_D)\n"
   ]
  },
  {
   "cell_type": "markdown",
   "metadata": {},
   "source": [
    "## BONUS\n",
    "\n",
    "You roll 2 dice. What is the probability that the sum of the numbers is 7? And 8? And 9? Then simulate 10000 times and draw a countplot."
   ]
  },
  {
   "cell_type": "markdown",
   "metadata": {},
   "source": [
    "your explanation here"
   ]
  },
  {
   "cell_type": "code",
   "execution_count": 36,
   "metadata": {},
   "outputs": [
    {
     "name": "stdout",
     "output_type": "stream",
     "text": [
      "Probability of sum 7: 0.167\n",
      "Probability of sum 8: 0.139\n",
      "Probability of sum 9: 0.111\n"
     ]
    },
    {
     "data": {
      "image/png": "[encoded data removed]",
      "text/plain": [
       "<Figure size 1000x600 with 1 Axes>"
      ]
     },
     "metadata": {},
     "output_type": "display_data"
    }
   ],
   "source": [
    "# YOUR CODE HERE\n",
    "import random\n",
    "import matplotlib.pyplot as plt\n",
    "import seaborn as sns\n",
    "\n",
    "def dice_probabilities():\n",
    "    outcomes = [(i, j) for i in range(1, 7) for j in range(1, 7)]\n",
    "    total_outcomes = len(outcomes)\n",
    "\n",
    "    sum_counts = {7: 0, 8: 0, 9: 0}\n",
    "\n",
    "    for i, j in outcomes:\n",
    "        dice_sum = i + j\n",
    "        if dice_sum in sum_counts:\n",
    "            sum_counts[dice_sum] += 1\n",
    "\n",
    "    for s in sum_counts:\n",
    "        print(f\"Probability of sum {s}: {round(sum_counts[s] / total_outcomes,3)}\")\n",
    "\n",
    "dice_probabilities()\n",
    "\n",
    "def simulate_dice_rolls():\n",
    "    rolls = [random.randint(1, 6) + random.randint(1, 6) for _ in range(10000)]\n",
    "\n",
    "    # Plot the results\n",
    "    plt.figure(figsize=(10, 6))\n",
    "    sns.countplot(x=rolls, order=range(2, 13))\n",
    "    plt.title(\"Distribution of Dice Sums in 10,000 Simulations\")\n",
    "    plt.xlabel(\"Sum of Two Dice\")\n",
    "    plt.ylabel(\"Frequency\")\n",
    "    plt.show()\n",
    "\n",
    "simulate_dice_rolls()\n"
   ]
  },
  {
   "cell_type": "code",
   "execution_count": null,
   "metadata": {},
   "outputs": [],
   "source": []
  }
 ],
 "metadata": {
  "kernelspec": {
   "display_name": "Python [conda env:base] *",
   "language": "python",
   "name": "conda-base-py"
  },
  "language_info": {
   "codemirror_mode": {
    "name": "ipython",
    "version": 3
   },
   "file_extension": ".py",
   "mimetype": "text/x-python",
   "name": "python",
   "nbconvert_exporter": "python",
   "pygments_lexer": "ipython3",
   "version": "3.12.7"
  },
  "toc": {
   "base_numbering": 1,
   "nav_menu": {},
   "number_sections": false,
   "sideBar": true,
   "skip_h1_title": false,
   "title_cell": "Table of Contents",
   "title_sidebar": "Contents",
   "toc_cell": false,
   "toc_position": {
    "height": "calc(100% - 180px)",
    "left": "10px",
    "top": "150px",
    "width": "296.475px"
   },
   "toc_section_display": true,
   "toc_window_display": false
  },
  "varInspector": {
   "cols": {
    "lenName": 16,
    "lenType": 16,
    "lenVar": 40
   },
   "kernels_config": {
    "python": {
     "delete_cmd_postfix": "",
     "delete_cmd_prefix": "del ",
     "library": "var_list.py",
     "varRefreshCmd": "print(var_dic_list())"
    },
    "r": {
     "delete_cmd_postfix": ") ",
     "delete_cmd_prefix": "rm(",
     "library": "var_list.r",
     "varRefreshCmd": "cat(var_dic_list()) "
    }
   },
   "types_to_exclude": [
    "module",
    "function",
    "builtin_function_or_method",
    "instance",
    "_Feature"
   ],
   "window_display": false
  }
 },
 "nbformat": 4,
 "nbformat_minor": 4
}
