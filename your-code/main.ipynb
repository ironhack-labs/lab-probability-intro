{
 "cells": [
  {
   "cell_type": "markdown",
   "metadata": {},
   "source": [
    "# Probability"
   ]
  },
  {
   "cell_type": "markdown",
   "metadata": {},
   "source": [
    "## Challenge 1\n",
    "There is a box with 10 white balls, 12 red balls and 8 black balls. Calculate the probability of:\n",
    "* Taking a white ball out.\n",
    "* Taking a white ball on first extraction and a black ball out on second extraction without replacing the first one.\n",
    "* Taking a white ball on first extraction and a black ball out on second extraction replacing the first one.\n",
    "* Taking 3 balls and them being all different colours."
   ]
  },
  {
   "cell_type": "code",
   "execution_count": 5,
   "metadata": {},
   "outputs": [
    {
     "name": "stdout",
     "output_type": "stream",
     "text": [
      "0.3333333333333333\n"
     ]
    }
   ],
   "source": [
    "# YOUR CODE HERE\n",
    "\n",
    "white = 10 \n",
    "red = 12\n",
    "black = 8 \n",
    "\n",
    "taking_white_first = white/(white+red+black)\n",
    "print(taking_white_first)\n"
   ]
  },
  {
   "cell_type": "code",
   "execution_count": 6,
   "metadata": {},
   "outputs": [
    {
     "name": "stdout",
     "output_type": "stream",
     "text": [
      "0.27586206896551724\n"
     ]
    }
   ],
   "source": [
    "#white ball first and then black \n",
    "\n",
    "taking_black_second = black / (white-1+red+black)\n",
    "print(taking_black_second)\n",
    "\n",
    "white_first_black_second_noreplace = taking_white_first*taking_black_second"
   ]
  },
  {
   "cell_type": "code",
   "execution_count": 8,
   "metadata": {},
   "outputs": [
    {
     "name": "stdout",
     "output_type": "stream",
     "text": [
      "0.08888888888888888\n"
     ]
    }
   ],
   "source": [
    "#white ball first and then black with replaceing \n",
    "taking_black_first = black / (white+red+black)\n",
    "\n",
    "white_first_black_second_replace = taking_white_first*taking_black_first\n",
    "\n",
    "print(white_first_black_second_replace)"
   ]
  },
  {
   "cell_type": "code",
   "execution_count": 9,
   "metadata": {},
   "outputs": [
    {
     "data": {
      "text/plain": [
       "0.23645320197044334"
      ]
     },
     "execution_count": 9,
     "metadata": {},
     "output_type": "execute_result"
    }
   ],
   "source": [
    "#3 balls from different colours \n",
    "\n",
    "import math\n",
    "\n",
    "# Total number of balls\n",
    "total_balls = 30\n",
    "\n",
    "# Combinations for total ways to pick 3 balls\n",
    "total_ways = math.comb(total_balls, 3)\n",
    "\n",
    "# Ways to choose 1 white, 1 red, and 1 black\n",
    "white_balls = 10\n",
    "red_balls = 12\n",
    "black_balls = 8\n",
    "\n",
    "favorable_ways = white_balls * red_balls * black_balls\n",
    "\n",
    "# Probability calculation\n",
    "probability = favorable_ways / total_ways\n",
    "\n",
    "probability\n"
   ]
  },
  {
   "cell_type": "markdown",
   "metadata": {},
   "source": [
    "## Challenge 2\n",
    "\n",
    "You want to go on picnic on Saturday. You hate rain, and would know to plan your weekend. To help you make a decision, you gather the following data about rainy days:\n",
    "\n",
    "* 40% of all days are cloudy.\n",
    "* About 50% of cloudy days are rainy. \n",
    "* About 20% of non-cloudy days are rainy.\n",
    "\n",
    "What is the chance of rain during next Saturday?"
   ]
  },
  {
   "cell_type": "code",
   "execution_count": 14,
   "metadata": {},
   "outputs": [
    {
     "name": "stdout",
     "output_type": "stream",
     "text": [
      "4.571428571428571\n"
     ]
    }
   ],
   "source": [
    "# YOUR CODE HERE\n",
    "\n",
    "rainy_cloudy = 0.4*0.5 \n",
    "rainy_non_cloudy = 0.6*0.2\n",
    "rainy_day = rainy_cloudy+rainy_non_cloudy\n",
    "rainy_saturday = rainy_day*(1/7)*100\n",
    "print(rainy_saturday)"
   ]
  },
  {
   "cell_type": "markdown",
   "metadata": {},
   "source": [
    "## Challenge 3\n",
    "\n",
    "A and B are events of a probability such that $P(A) = 0.3$, $P(B) = 0.6$ and $P(A \\cap B) = 0.1$\n",
    "\n",
    "Which of the following statements are true?  \n",
    "**HINT: draw a big Venn Diagram by your side**  \n",
    "* $P(\\overline{A}) = 0.7$\n",
    "* $P(A \\cup B) = 0.6$\n",
    "* $P(A \\cap \\overline{B}) = 0.2$\n",
    "* $P(A \\cup \\overline{A}) = 1$  \n",
    "* $P(A \\cap (B \\cup \\overline{B})) = 0.4$\n",
    "* $P(\\overline{A} \\cap \\overline{B}) = 0.3$\n",
    "* $P(\\overline{A \\cap B}) = 0.9$"
   ]
  },
  {
   "cell_type": "code",
   "execution_count": 15,
   "metadata": {},
   "outputs": [],
   "source": [
    "# YOUR CODE HERE \n",
    "\n",
    "#1 \n",
    "p_a_not_happening = 1 - 0.3  # true - 1\n",
    "# 2\n",
    "p_a_or_b_happening = 0.3+0.6-0.1 # false - 2 \n",
    "#3\n",
    "p_a_happening_b_not_happening = 0.3 - 0.1#a and b happening at the same time # true - 3\n",
    "#4\n",
    "p_a_happening_a_not_happening = 0.3+0.7 # true\n",
    "# 5\n",
    "# False it's 0.3\n",
    "#6\n",
    "#0.9 it's false     \n",
    "\n",
    "\n"
   ]
  },
  {
   "cell_type": "code",
   "execution_count": 17,
   "metadata": {},
   "outputs": [
    {
     "name": "stdout",
     "output_type": "stream",
     "text": [
      "P(A ∪ B): 0.7999999999999999\n",
      "P(A^c): 0.7\n",
      "P(A ∩ B^c): 0.19999999999999998\n",
      "P(A ∪ A^c): 1\n"
     ]
    }
   ],
   "source": [
    "# Import necessary library\n",
    "import sympy as sp\n",
    "\n",
    "# Given probabilities\n",
    "P_A = 0.3        # P(A)\n",
    "P_B = 0.6        # P(B)\n",
    "P_A_intersection_B = 0.1  # P(A ∩ B)\n",
    "\n",
    "# Step 1: Calculate P(A ∪ B)\n",
    "# P(A ∪ B) = P(A) + P(B) - P(A ∩ B)\n",
    "P_A_union_B = P_A + P_B - P_A_intersection_B\n",
    "\n",
    "# Step 2: Calculate P(A^c) - Complement of A\n",
    "P_A_complement = 1 - P_A\n",
    "\n",
    "# Step 3: Calculate P(A ∩ B^c) - Probability of A and not B\n",
    "P_A_intersection_B_complement = P_A - P_A_intersection_B\n",
    "\n",
    "# Step 4: Calculate P(A ∪ A^c)\n",
    "# P(A ∪ A^c) is always 1 because it covers the entire sample space\n",
    "P_A_union_A_complement = 1\n",
    "\n",
    "# Step 5: Calculate P(A ∩ (B ∪ B^c))\n",
    "# B ∪ B^c is always the entire sample space, so this is just P(A)\n",
    "P_A_intersection_B_union_B_complement = P_A\n",
    "\n",
    "# Step 6: Calculate P(Complement of A ∩ Complement of B)\n",
    "# Using De Morgan's law: P(Complement of A ∩ Complement of B) = 1 - P(A ∪ B)\n",
    "P_A_complement_intersection_B_complement = 1 - P_A_union_B\n",
    "\n",
    "# Step 7: Calculate P(Complement of (A ∩ B))\n",
    "# P(Complement of (A ∩ B)) = 1 - P(A ∩ B)\n",
    "P_complement_A_intersection_B = 1 - P_A_intersection_B\n",
    "\n",
    "# Display results\n",
    "print(f\"P(A ∪ B): {P_A_union_B}\")\n",
    "print(f\"P(A^c): {P_A_complement}\")\n",
    "print(f\"P(A ∩ B^c): {P_A_intersection_B_complement}\")\n",
    "print(f\"P(A ∪ A^c): {P_A_union_A_complement}\")\n"
   ]
  },
  {
   "cell_type": "markdown",
   "metadata": {},
   "source": [
    "## Challenge 4\n",
    "\n",
    " * If someone flies to China, the probability of getting Covid is 1%  \n",
    " * If someone flies to Italy, the probability of getting Covid is 20%  \n",
    "\n",
    "I roll 1 dice with numbers 1, 2, 3, 4, 5, 6:  \n",
    " * If 1: I fly to Italy\n",
    " * If not 1: I fly to China\n",
    "\n",
    "During my trip, I got Covid. What is the probability that I flew to China?"
   ]
  },
  {
   "cell_type": "code",
   "execution_count": 24,
   "metadata": {},
   "outputs": [
    {
     "name": "stdout",
     "output_type": "stream",
     "text": [
      "0.2\n"
     ]
    }
   ],
   "source": [
    "# YOUR CODE HERE\n",
    "\n",
    "probability_of_goingtoItaly = 1/6\n",
    "gointoitaly_and_covid = 0.2 \n",
    "italy=probability_of_goingtoItaly*gointoitaly_and_covid\n",
    "\n",
    "probability_of_goingtoChina = 5/6\n",
    "gointochina_and_covid = 0.01 \n",
    "china=probability_of_goingtoChina*gointochina_and_covid\n",
    "\n",
    "probility_of_china_covid = china/(china+italy)\n",
    "\n",
    "print(probility_of_china_covid)\n"
   ]
  },
  {
   "cell_type": "markdown",
   "metadata": {},
   "source": [
    "## BONUS\n",
    "\n",
    "You roll 2 dice. What is the probability that the sum of the numbers is 7? And 8? And 9? Then simulate 10000 times and draw a countplot."
   ]
  },
  {
   "cell_type": "markdown",
   "metadata": {},
   "source": [
    "your explanation here"
   ]
  },
  {
   "cell_type": "code",
   "execution_count": null,
   "metadata": {},
   "outputs": [],
   "source": [
    "# YOUR CODE HERE"
   ]
  }
 ],
 "metadata": {
  "kernelspec": {
   "display_name": "Python 3 (ipykernel)",
   "language": "python",
   "name": "python3"
  },
  "language_info": {
   "codemirror_mode": {
    "name": "ipython",
    "version": 3
   },
   "file_extension": ".py",
   "mimetype": "text/x-python",
   "name": "python",
   "nbconvert_exporter": "python",
   "pygments_lexer": "ipython3",
   "version": "3.11.2"
  },
  "toc": {
   "base_numbering": 1,
   "nav_menu": {},
   "number_sections": false,
   "sideBar": true,
   "skip_h1_title": false,
   "title_cell": "Table of Contents",
   "title_sidebar": "Contents",
   "toc_cell": false,
   "toc_position": {
    "height": "calc(100% - 180px)",
    "left": "10px",
    "top": "150px",
    "width": "296.475px"
   },
   "toc_section_display": true,
   "toc_window_display": false
  },
  "varInspector": {
   "cols": {
    "lenName": 16,
    "lenType": 16,
    "lenVar": 40
   },
   "kernels_config": {
    "python": {
     "delete_cmd_postfix": "",
     "delete_cmd_prefix": "del ",
     "library": "var_list.py",
     "varRefreshCmd": "print(var_dic_list())"
    },
    "r": {
     "delete_cmd_postfix": ") ",
     "delete_cmd_prefix": "rm(",
     "library": "var_list.r",
     "varRefreshCmd": "cat(var_dic_list()) "
    }
   },
   "types_to_exclude": [
    "module",
    "function",
    "builtin_function_or_method",
    "instance",
    "_Feature"
   ],
   "window_display": false
  }
 },
 "nbformat": 4,
 "nbformat_minor": 2
}
