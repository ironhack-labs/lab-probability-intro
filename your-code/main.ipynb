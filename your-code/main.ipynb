{
 "cells": [
  {
   "cell_type": "markdown",
   "metadata": {},
   "source": [
    "# Probability"
   ]
  },
  {
   "cell_type": "markdown",
   "metadata": {},
   "source": [
    "## Challenge 1\n",
    "There is a box with 10 white balls, 12 red balls and 8 black balls. Calculate the probability of:\n",
    "* Taking a white ball out.\n",
    "* Taking a white ball on first extraction and a black ball out on second extraction without replacing the first one.\n",
    "* Taking a white ball on first extraction and a black ball out on second extraction replacing the first one.\n",
    "* Taking 3 balls and them being all different colours."
   ]
  },
  {
   "cell_type": "code",
   "execution_count": 35,
   "metadata": {},
   "outputs": [
    {
     "data": {
      "text/plain": [
       "0.03333333333333333"
      ]
     },
     "execution_count": 35,
     "metadata": {},
     "output_type": "execute_result"
    }
   ],
   "source": [
    "white = 10\n",
    "red = 12\n",
    "black = 8\n",
    "box = white + red + black  # White balls, red balls, black balls \n",
    "box # 30 total balls\n",
    "\n",
    "white_ball = 1 / 30 \n",
    "white_ball"
   ]
  },
  {
   "cell_type": "code",
   "execution_count": 105,
   "metadata": {},
   "outputs": [
    {
     "name": "stdout",
     "output_type": "stream",
     "text": [
      "the probability of taking a white_ball is: 33.33 %\n",
      "the probability of taking a white and then a black without replace is: 9.2 %\n",
      "the probability of taking a white and then a black with replace is: 8.89 %\n",
      "the probability of taking 3 balls and them being all different colours without replace is: 6.57 %\n"
     ]
    }
   ],
   "source": [
    "# YOUR CODE HERE\n",
    "# * Taking a white ball out.\n",
    "white = 10\n",
    "red = 12\n",
    "black = 8\n",
    "box = white + red + black  # White balls, red balls, black balls \n",
    "box # 30 total balls\n",
    "\n",
    "white_ball = white / box \n",
    "print(f\"the probability of taking a white_ball is:\", round(white_ball*100, 2), \"%\")\n",
    "\n",
    "# * Taking a white ball on first extraction and a black ball out on second extraction without replacing the first one.\n",
    "prob2 = (white / box ) * (black / ( box -1))\n",
    "print(f\"the probability of taking a white and then a black without replace is:\", round(prob2*100,2 ), \"%\")\n",
    "\n",
    "# * Taking a white ball on first extraction and a black ball out on second extraction replacing the first one.\n",
    "prob3 = (white / box ) * (black / ( box))\n",
    "print(f\"the probability of taking a white and then a black with replace is:\", round(prob3*100,2), \"%\")\n",
    "\n",
    "# * Taking 3 balls and them being all different colours.\n",
    "prob_2different = (red + black) / (box -1)\n",
    "prob_3different = (black) / (box - 2) if white else red / (total -2 )\n",
    "prob_all_dif = white_ball * prob_2different * prob_3different\n",
    "print(f\"the probability of taking 3 balls and them being all different colours without replace is:\", round(prob_all_dif*100, 2), \"%\")"
   ]
  },
  {
   "cell_type": "markdown",
   "metadata": {},
   "source": [
    "## Challenge 2\n",
    "\n",
    "You want to go on picnic on Saturday. You hate rain, and would know to plan your weekend. To help you make a decision, you gather the following data about rainy days:\n",
    "\n",
    "* 40% of all days are cloudy.\n",
    "* About 50% of cloudy days are rainy. \n",
    "* About 20% of non-cloudy days are rainy.\n",
    "\n",
    "What is the chance of rain during next Saturday?"
   ]
  },
  {
   "cell_type": "code",
   "execution_count": 89,
   "metadata": {},
   "outputs": [
    {
     "name": "stdout",
     "output_type": "stream",
     "text": [
      "the chance of rain during next Saturday is: 32.0 %\n"
     ]
    }
   ],
   "source": [
    "# YOUR CODE HERE\n",
    "cloudy_d = 0.4   # * 40% of all days are cloudy.\n",
    "cloudy_d_with_rain = 0.5  # * About 50% of cloudy days are rainy. \n",
    "just_rain = 0.2  # * About 20% of non-cloudy days are rainy.\n",
    "\n",
    "# What is the chance of rain during next Saturday?\n",
    "saturday_rain = (cloudy_d_with_rain * cloudy_d) + (just_rain * (1 - cloudy_d))\n",
    "print(f\"the chance of rain during next Saturday is:\", (saturday_rain*100), \"%\") "
   ]
  },
  {
   "cell_type": "markdown",
   "metadata": {
    "jp-MarkdownHeadingCollapsed": true
   },
   "source": [
    "## Challenge 3\n",
    "\n",
    "A and B are events of a probability such that $P(A) = 0.3$, $P(B) = 0.6$ and $P(A \\cap B) = 0.1$\n",
    "\n",
    "Which of the following statements are true?  \n",
    "**HINT: draw a big Venn Diagram by your side**  \n",
    "* $P(\\overline{A}) = 0.7$   # question_1\n",
    "* $P(A \\cup B) = 0.6$       # question_2\n",
    "* $P(A \\cap \\overline{B}) = 0.2$  # question_3\n",
    "* $P(A \\cup \\overline{A}) = 1$    # question_4\n",
    "* $P(A \\cap (B \\cup \\overline{B})) = 0.4$    # question_5\n",
    "* $P(\\overline{A} \\cap \\overline{B}) = 0.3$  # question_6\n",
    "* $P(\\overline{A \\cap B}) = 0.9$   # question_7\n",
    "\n",
    "  ######  https://editor.codecogs.com/"
   ]
  },
  {
   "cell_type": "code",
   "execution_count": 213,
   "metadata": {},
   "outputs": [
    {
     "name": "stdout",
     "output_type": "stream",
     "text": [
      "question1: True\n",
      "question2: False\n",
      "question3: False\n",
      "question4: True\n",
      "question5: False\n",
      "question6: False\n",
      "question7: True\n"
     ]
    }
   ],
   "source": [
    "# YOUR CODE HERE\n",
    "P_A = 0.3\n",
    "P_B = 0.6\n",
    "P_A_and_B = 0.1\n",
    "\n",
    "P_not_A = 1-P_A == 0.7   # 1. TRUE\n",
    "P_A_or_B = P_A + P_B - P_A_and_B == 0.6  # 2. FALSE \n",
    "# P_A_or_B = P_A + P_B - P_A_and_B  # 2. Right answer \n",
    "P_A_and_not_B = P_A - P_A_and_B == 0.2  # 3. FALSE\n",
    "# P_A_and_not_B = P_A - P_A_and_B  # 3. Right answer\n",
    "P_A_or_not_A = 1  == 1  # 4. TRUE \n",
    "P_A_and_B_or_not_B = P_A  == 0.4  # 5. FALSE\n",
    "# P_A_and_B_or_not_B = P_A  # 5. Right answer\n",
    "P_not_A_and_not_B = 1 - P_A_or_B == 0.3  # 6 FALSE\n",
    "# P_not_A_and_not_B = 1 - P_A_or_B  # Right answer \n",
    "P_not_A_and_B = 1 - P_A_and_B == 0.9  # 7 TRUE\n",
    "\n",
    "print(\"question1:\", P_not_A)\n",
    "print(\"question2:\", P_A_or_B)\n",
    "print(\"question3:\", P_A_and_not_B)\n",
    "print(\"question4:\", P_A_or_not_A)\n",
    "print(\"question5:\", P_A_and_B_or_not_B)\n",
    "print(\"question6:\", P_not_A_and_not_B)\n",
    "print(\"question7:\", P_not_A_and_B)"
   ]
  },
  {
   "cell_type": "markdown",
   "metadata": {
    "jp-MarkdownHeadingCollapsed": true
   },
   "source": [
    "## Challenge 4\n",
    "\n",
    " * If someone flies to China, the probability of getting Covid is 1%  \n",
    " * If someone flies to Italy, the probability of getting Covid is 20%  \n",
    "\n",
    "I roll 1 dice with numbers 1, 2, 3, 4, 5, 6:  \n",
    " * If 1: I fly to Italy\n",
    " * If not 1: I fly to China\n",
    "\n",
    "During my trip, I got Covid. What is the probability that I flew to China?"
   ]
  },
  {
   "cell_type": "code",
   "execution_count": 227,
   "metadata": {},
   "outputs": [
    {
     "name": "stdout",
     "output_type": "stream",
     "text": [
      "The probability that I catch Covid when flying to China  0.2\n",
      "The probability that I flew to China is:  0.83\n"
     ]
    }
   ],
   "source": [
    "# YOUR CODE HERE\n",
    "fly_china = 5/6\n",
    "fly_italy = 1/6\n",
    "\n",
    "get_covid_china = 0.01\n",
    "get_covid_italy = 0.2\n",
    "\n",
    "covid_prob = (get_covid_china * fly_china) + (get_covid_italy * fly_italy)\n",
    "china_get_covid_prob = (get_covid_china * fly_china) / covid_prob\n",
    "print(f\"The probability that I catch Covid when flying to China \", china_get_covid_prob)\n",
    "print(f\"The probability that I flew to China is: \", round(fly_china,2))"
   ]
  },
  {
   "cell_type": "markdown",
   "metadata": {},
   "source": [
    "## BONUS\n",
    "\n",
    "You roll 2 dice. What is the probability that the sum of the numbers is 7? And 8? And 9? Then simulate 10000 times and draw a countplot."
   ]
  },
  {
   "cell_type": "markdown",
   "metadata": {},
   "source": [
    "your explanation here"
   ]
  },
  {
   "cell_type": "code",
   "execution_count": 261,
   "metadata": {},
   "outputs": [
    {
     "name": "stdout",
     "output_type": "stream",
     "text": [
      "Empirical Probability of Sum = 7: 17.03 %\n",
      "Empirical Probability of Sum = 8: 13.34 %\n",
      "Empirical Probability of Sum = 9: 11.37 %\n"
     ]
    }
   ],
   "source": [
    "# YOUR CODE HERE\n",
    "import numpy as np\n",
    "import seaborn as sns\n",
    "import matplotlib.pyplot as plt\n",
    "\n",
    "num_simulations = 10000\n",
    "dice1 = np.random.randint(1, 7, num_simulations)  \n",
    "dice2 = np.random.randint(1, 7, num_simulations)  \n",
    "sums = dice1 + dice2\n",
    "\n",
    "prob_sum_7 = np.sum(sums == 7) / num_simulations\n",
    "prob_sum_8 = np.sum(sums == 8) / num_simulations\n",
    "prob_sum_9 = np.sum(sums == 9) / num_simulations\n",
    "\n",
    "print(f\"Probability of Sum = 7: {prob_sum_7*100} %\")\n",
    "print(f\"Probability of Sum = 8: {prob_sum_8*100} %\")\n",
    "print(f\"Probability of Sum = 9: {prob_sum_9*100} %\")"
   ]
  },
  {
   "cell_type": "code",
   "execution_count": 233,
   "metadata": {},
   "outputs": [
    {
     "name": "stderr",
     "output_type": "stream",
     "text": [
      "C:\\Users\\ggsan\\AppData\\Local\\Temp\\ipykernel_23680\\1686341360.py:1: FutureWarning: \n",
      "\n",
      "Passing `palette` without assigning `hue` is deprecated and will be removed in v0.14.0. Assign the `x` variable to `hue` and set `legend=False` for the same effect.\n",
      "\n",
      "  sns.countplot(x=sums, palette=\"viridis\", order=range(2, 13))\n"
     ]
    },
    {
     "data": {
      "image/png": "[encoded data removed]",
      "text/plain": [
       "<Figure size 640x480 with 1 Axes>"
      ]
     },
     "metadata": {},
     "output_type": "display_data"
    }
   ],
   "source": [
    "sns.countplot(x=sums, palette=\"viridis\", order=range(2, 13))\n",
    "plt.title(\"Distribution of Dice Sums '10,000 Rolls'\")\n",
    "plt.xlabel(\"Sum of Two Dice\")\n",
    "plt.ylabel(\"Count\")\n",
    "plt.show()"
   ]
  }
 ],
 "metadata": {
  "kernelspec": {
   "display_name": "Python 3 (ipykernel)",
   "language": "python",
   "name": "python3"
  },
  "language_info": {
   "codemirror_mode": {
    "name": "ipython",
    "version": 3
   },
   "file_extension": ".py",
   "mimetype": "text/x-python",
   "name": "python",
   "nbconvert_exporter": "python",
   "pygments_lexer": "ipython3",
   "version": "3.12.4"
  },
  "toc": {
   "base_numbering": 1,
   "nav_menu": {},
   "number_sections": false,
   "sideBar": true,
   "skip_h1_title": false,
   "title_cell": "Table of Contents",
   "title_sidebar": "Contents",
   "toc_cell": false,
   "toc_position": {
    "height": "calc(100% - 180px)",
    "left": "10px",
    "top": "150px",
    "width": "296.475px"
   },
   "toc_section_display": true,
   "toc_window_display": false
  },
  "varInspector": {
   "cols": {
    "lenName": 16,
    "lenType": 16,
    "lenVar": 40
   },
   "kernels_config": {
    "python": {
     "delete_cmd_postfix": "",
     "delete_cmd_prefix": "del ",
     "library": "var_list.py",
     "varRefreshCmd": "print(var_dic_list())"
    },
    "r": {
     "delete_cmd_postfix": ") ",
     "delete_cmd_prefix": "rm(",
     "library": "var_list.r",
     "varRefreshCmd": "cat(var_dic_list()) "
    }
   },
   "types_to_exclude": [
    "module",
    "function",
    "builtin_function_or_method",
    "instance",
    "_Feature"
   ],
   "window_display": false
  }
 },
 "nbformat": 4,
 "nbformat_minor": 4
}
