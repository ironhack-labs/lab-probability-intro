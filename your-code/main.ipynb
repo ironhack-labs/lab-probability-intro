{
 "cells": [
  {
   "cell_type": "markdown",
   "metadata": {},
   "source": [
    "# Probability"
   ]
  },
  {
   "cell_type": "markdown",
   "metadata": {},
   "source": [
    "## Challenge 1\n",
    "There is a box with 10 white balls, 12 red balls and 8 black balls. Calculate the probability of:\n",
    "* Taking a white ball out.\n",
    "* Taking a white ball on first extraction and a black ball out on second extraction without replacing the first one.\n",
    "* Taking a white ball on first extraction and a black ball out on second extraction replacing the first one.\n",
    "* Taking 3 balls and them being all different colours."
   ]
  },
  {
   "cell_type": "code",
   "execution_count": 5,
   "metadata": {},
   "outputs": [
    {
     "name": "stdout",
     "output_type": "stream",
     "text": [
      "0.3333333333333333\n",
      "0.09195402298850575\n",
      "0.08888888888888888\n",
      "0.23645320197044334\n"
     ]
    }
   ],
   "source": [
    "white_b = 10\n",
    "red_b = 12\n",
    "black_b = 8\n",
    "total = 30\n",
    "\n",
    "#1 Taking white ball out \n",
    "prob_1 = white_b / total\n",
    "print(prob_1)\n",
    "\n",
    "\n",
    "#2 white on first, black on second, no replacing first\n",
    "Pa = 1/3 # prob of white first\n",
    "Pb = black_b/ (total -1) #black on second, no replacement\n",
    "prob_2 = Pa * Pb\n",
    "print(prob_2)\n",
    "\n",
    "#3 white on first, black on second, replacing the frist\n",
    "#Pc = # prob of black with replacement \n",
    "Pd = 8/30 # taking black out with replacement\n",
    "prob_3 = Pa * Pd\n",
    "print(prob_3)\n",
    "\n",
    "#4 taking 1 of each,without replacing\n",
    "# Sequence white, red, black\n",
    "Pa = 1/3 # prob of white first\n",
    "Pr = 12/29 # red ball\n",
    "Pe = 8/28 # taking black out\n",
    "\n",
    "#3! = 6 # the amount of combinations we can do with the balls\n",
    "\n",
    "prob_4 = (Pa * Pr * Pe) *6\n",
    "print(prob_4)\n",
    "\n",
    "\n"
   ]
  },
  {
   "cell_type": "markdown",
   "metadata": {},
   "source": [
    "## Challenge 2\n",
    "\n",
    "You want to go on picnic on Saturday. You hate rain, and would know to plan your weekend. To help you make a decision, you gather the following data about rainy days:\n",
    "\n",
    "* 40% of all days are cloudy.\n",
    "* About 50% of cloudy days are rainy. \n",
    "* About 20% of non-cloudy days are rainy.\n",
    "\n",
    "What is the chance of rain during next Saturday?"
   ]
  },
  {
   "cell_type": "code",
   "execution_count": 7,
   "metadata": {},
   "outputs": [
    {
     "name": "stdout",
     "output_type": "stream",
     "text": [
      "0.32\n"
     ]
    }
   ],
   "source": [
    "cloudy = 0.40 \n",
    "rain_cloudy = 0.50\n",
    "noncloudy_rain = 0.20\n",
    "\n",
    "non_cloudy = 1 - cloudy # the probability of a non cloudy day\n",
    "\n",
    "# calculate the prob of rain for cloudy and non cloudy and add as they are mutually exclusive \n",
    "P_rain = (rain_cloudy * cloudy) + (noncloudy_rain * non_cloudy)\n",
    "\n",
    "\n",
    "print(P_rain)\n",
    "\n"
   ]
  },
  {
   "cell_type": "markdown",
   "metadata": {},
   "source": [
    "## Challenge 3\n",
    "\n",
    "A and B are events of a probability such that $P(A) = 0.3$, $P(B) = 0.6$ and $P(A \\cap B) = 0.1$\n",
    "\n",
    "Which of the following statements are true?  \n",
    "**HINT: draw a big Venn Diagram by your side**  \n",
    "* $P(\\overline{A}) = 0.7$\n",
    "* $P(A \\cup B) = 0.6$\n",
    "* $P(A \\cap \\overline{B}) = 0.2$\n",
    "* $P(A \\cup \\overline{A}) = 1$  \n",
    "* $P(A \\cap (B \\cup \\overline{B})) = 0.4$\n",
    "* $P(\\overline{A} \\cap \\overline{B}) = 0.3$\n",
    "* $P(\\overline{A \\cap B}) = 0.9$"
   ]
  },
  {
   "cell_type": "code",
   "execution_count": 18,
   "metadata": {},
   "outputs": [
    {
     "name": "stdout",
     "output_type": "stream",
     "text": [
      "0.7\n",
      "0.7999999999999999\n",
      "0.19999999999999998\n",
      "1.0\n",
      "0.3\n",
      "0.20000000000000007\n",
      "0.9\n"
     ]
    }
   ],
   "source": [
    "ProbA = 0.3 # probablity of A\n",
    "ProbB = 0.6# probablity of B\n",
    "ProbAandB = 0.1 # probablity of A and B occur simultaneously\n",
    "\n",
    "#1 A is not A\n",
    "Pa_notA = 1 - ProbA\n",
    "print(Pa_notA) # TRUE\n",
    "\n",
    "#2 Prob of union A and B being 0.6\n",
    "Prob_5 = ProbA + ProbB - ProbAandB\n",
    "print(Prob_5) #FALSE\n",
    "\n",
    "#3 Prob of A occuring and B not occuring (b is not b)\n",
    "Prob_6 = ProbA - ProbAandB\n",
    "print(Prob_6) #Close enoiugh TRUE\n",
    "\n",
    "#4 union of A happening and A not happening\n",
    "Prob_7 = ProbA + Pa_notA\n",
    "print(Prob_7) #True coz one will have to happen\n",
    "\n",
    "#5 from the inside to outside: Union of B happening and b not happening so 1 as analogical to previos task, \n",
    "# from the ouside intersection of A and 1 so we just need A\n",
    "Prob_8 = ProbA\n",
    "print(Prob_8) # False, result is 0.3 not 0.4\n",
    "\n",
    "#6 intersection of A is not occuring and B is not occuring\n",
    "Prob_9 = 1 - Prob_5 \n",
    "print(Prob_9) # False\n",
    "# Because Uniono A and B not occuring is the same as intersection of A is not occuring and B is not occuring\n",
    "\n",
    "#7 All outcomes of intersection of A and B do not occur at the same time. So no A and no B, A occurs but B not, B occurs but A not\n",
    "Prob_10 = 1 - ProbAandB\n",
    "print(Prob_10) #True \n",
    "\n",
    "True_statements = [Pa_notA, Prob_6, Prob_7,Prob_10]"
   ]
  },
  {
   "cell_type": "markdown",
   "metadata": {},
   "source": [
    "## Challenge 4\n",
    "\n",
    " * If someone flies to China, the probability of getting Covid is 1%  \n",
    " * If someone flies to Italy, the probability of getting Covid is 20%  \n",
    "\n",
    "I roll 1 dice with numbers 1, 2, 3, 4, 5, 6:  \n",
    " * If 1: I fly to Italy\n",
    " * If not 1: I fly to China\n",
    "\n",
    "During my trip, I got Covid. What is the probability that I flew to China?"
   ]
  },
  {
   "cell_type": "code",
   "execution_count": 23,
   "metadata": {},
   "outputs": [
    {
     "name": "stdout",
     "output_type": "stream",
     "text": [
      "Probability you flew to China: 0.2\n"
     ]
    }
   ],
   "source": [
    "Pcovid_c = 0.01 #you got coivd china\n",
    "Pcovid_i = 0.2 # you got covid italy\n",
    "\n",
    "Pi = 1/6 # you flew to italy\n",
    "Pcc = 5/6 # you flew to china\n",
    "\n",
    "# Total prob of getting Covid\n",
    "P_covid = (Pcovid_c * Pcc) + (Pcovid_i * Pi) # we add the events as they are mutially exclusive, you either travelled to chian or italy\n",
    "\n",
    "# use bayes theory of flying to china and getting covid\n",
    "P_covid_from_china = (Pcovid_c *Pcc) / P_covid\n",
    "\n",
    "print(\"Probability you flew to China:\", P_covid_from_china)\n",
    "\n"
   ]
  },
  {
   "cell_type": "markdown",
   "metadata": {},
   "source": [
    "## BONUS\n",
    "\n",
    "You roll 2 dice. What is the probability that the sum of the numbers is 7? And 8? And 9? Then simulate 10000 times and draw a countplot."
   ]
  },
  {
   "cell_type": "markdown",
   "metadata": {},
   "source": [
    "your explanation here"
   ]
  },
  {
   "cell_type": "code",
   "execution_count": 24,
   "metadata": {},
   "outputs": [],
   "source": [
    "import numpy as np\n",
    "import matplotlib.pyplot as plt\n",
    "import seaborn as sns"
   ]
  },
  {
   "cell_type": "markdown",
   "metadata": {},
   "source": [
    "Total number of possible outcomes when rolling two dice\n",
    "total_outcomes = 6 * 6 = 36\n",
    "\n",
    "Cobinations for 7: (1,6), (2,5), (3,4), (4,3), (5,2), (6,1)\n",
    "\n",
    "For the sum of 7, there are 6 combinations, each with a probability of 1/6 * 1/6\n",
    "\n",
    "For the sum of 8, there are 5 combinations, each with a probability of 1/6 * 1/6\n",
    "\n",
    "For the sum of 9, there are 4 combinations, each with a probability of 1/6 * 1/6\n",
    "\n"
   ]
  },
  {
   "cell_type": "code",
   "execution_count": 27,
   "metadata": {},
   "outputs": [
    {
     "name": "stdout",
     "output_type": "stream",
     "text": [
      "Probability of sum 7: 0.1647\n",
      "Probability of sum 8: 0.14\n",
      "Probability of sum 9: 0.1107\n"
     ]
    }
   ],
   "source": [
    "#function to simulate rolling 2 dices\n",
    "def roll_dice():\n",
    "    return np.random.randint(1, 7), np.random.randint(1, 7)\n",
    "\n",
    "# Simulate 10000 rolls and put the results in a list\n",
    "number_of_simulations = 10000\n",
    "sum_simulations = []\n",
    "\n",
    "#iterate over simulations and add the results to the list\n",
    "for _ in range(number_of_simulations): \n",
    "    dice1, dice2 = roll_dice()\n",
    "    sum_simulations.append(dice1 + dice2)\n",
    "\n",
    "# Calculate the probabilities of getting sums 7, 8, and 9\n",
    "prob_sum_7 = sum_simulations.count(7) / number_of_simulations\n",
    "prob_sum_8 = sum_simulations.count(8) / number_of_simulations\n",
    "prob_sum_9 = sum_simulations.count(9) / number_of_simulations\n",
    "\n",
    "\n",
    "print(\"Probability of sum 7:\", prob_sum_7)\n",
    "print(\"Probability of sum 8:\", prob_sum_8)\n",
    "print(\"Probability of sum 9:\", prob_sum_9)"
   ]
  },
  {
   "cell_type": "code",
   "execution_count": 32,
   "metadata": {},
   "outputs": [
    {
     "name": "stderr",
     "output_type": "stream",
     "text": [
      "c:\\Users\\adria\\anaconda3\\Lib\\site-packages\\seaborn\\_oldcore.py:1765: FutureWarning: unique with argument that is not not a Series, Index, ExtensionArray, or np.ndarray is deprecated and will raise in a future version.\n",
      "  order = pd.unique(vector)\n"
     ]
    },
    {
     "data": {
      "image/png": "[encoded data removed]",
      "text/plain": [
       "<Figure size 1000x600 with 1 Axes>"
      ]
     },
     "metadata": {},
     "output_type": "display_data"
    }
   ],
   "source": [
    "plt.figure(figsize=(10, 6))\n",
    "sns.countplot(x=sum_simulations, palette=\"pink\")\n",
    "plt.title(\"Distribution of the SUM of Two Dice Rolls\")\n",
    "plt.xlabel(\"Sum of Two Dices\")\n",
    "plt.ylabel(\"Count\")\n",
    "plt.show()"
   ]
  },
  {
   "cell_type": "code",
   "execution_count": null,
   "metadata": {},
   "outputs": [],
   "source": []
  }
 ],
 "metadata": {
  "kernelspec": {
   "display_name": "Python 3 (ipykernel)",
   "language": "python",
   "name": "python3"
  },
  "language_info": {
   "codemirror_mode": {
    "name": "ipython",
    "version": 3
   },
   "file_extension": ".py",
   "mimetype": "text/x-python",
   "name": "python",
   "nbconvert_exporter": "python",
   "pygments_lexer": "ipython3",
   "version": "3.11.7"
  },
  "toc": {
   "base_numbering": 1,
   "nav_menu": {},
   "number_sections": false,
   "sideBar": true,
   "skip_h1_title": false,
   "title_cell": "Table of Contents",
   "title_sidebar": "Contents",
   "toc_cell": false,
   "toc_position": {
    "height": "calc(100% - 180px)",
    "left": "10px",
    "top": "150px",
    "width": "296.475px"
   },
   "toc_section_display": true,
   "toc_window_display": false
  },
  "varInspector": {
   "cols": {
    "lenName": 16,
    "lenType": 16,
    "lenVar": 40
   },
   "kernels_config": {
    "python": {
     "delete_cmd_postfix": "",
     "delete_cmd_prefix": "del ",
     "library": "var_list.py",
     "varRefreshCmd": "print(var_dic_list())"
    },
    "r": {
     "delete_cmd_postfix": ") ",
     "delete_cmd_prefix": "rm(",
     "library": "var_list.r",
     "varRefreshCmd": "cat(var_dic_list()) "
    }
   },
   "types_to_exclude": [
    "module",
    "function",
    "builtin_function_or_method",
    "instance",
    "_Feature"
   ],
   "window_display": false
  }
 },
 "nbformat": 4,
 "nbformat_minor": 2
}
