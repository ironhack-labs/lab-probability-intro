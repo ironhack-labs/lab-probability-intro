{
 "cells": [
  {
   "cell_type": "markdown",
   "metadata": {},
   "source": [
    "# Probability"
   ]
  },
  {
   "cell_type": "markdown",
   "metadata": {},
   "source": [
    "## Challenge 1\n",
    "There is a box with 10 white balls, 12 red balls and 8 black balls. Calculate the probability of:\n",
    "* Taking a white ball out.\n",
    "* Taking a white ball on first extraction and a black ball out on second extraction without replacing the first one.\n",
    "* Taking a white ball on first extraction and a black ball out on second extraction replacing the first one.\n",
    "* Taking 3 balls and them being all different colours."
   ]
  },
  {
   "cell_type": "code",
   "execution_count": null,
   "metadata": {},
   "outputs": [
    {
     "data": {
      "text/plain": [
       "0.035555555555555556"
      ]
     },
     "execution_count": 12,
     "metadata": {},
     "output_type": "execute_result"
    }
   ],
   "source": [
    "import pandas as pd\n",
    "import numpy as np\n",
    "\n",
    "white_balls = 10\n",
    "red_balls = 12\n",
    "black_balls = 8\n",
    "\n",
    "total_balls = white_balls+ red_balls+ black_balls\n",
    "total_balls\n",
    "\n",
    "# white balls\n",
    "X_white = white_balls / total_balls\n",
    "X_white\n",
    "\n",
    "# Taking a white ball on first extraction and a black ball out on second extraction without replacing the first one.\n",
    "white_balls +  black_balls / total_balls\n",
    "n1 = white_balls / total_balls\n",
    "n2 = black_balls / (total_balls -1) \n",
    "p_combined = n1* n2 \n",
    "p_combined\n",
    "\n",
    "# Taking a white ball on first extraction and a black ball out on second extraction replacing the first one.\n",
    "n1_new_prob = white_balls / total_balls\n",
    "n2_new_prob = black_balls / total_balls\n",
    "p_new_combined = n1_new_prob* n2_new_prob\n",
    "p_new_combined\n",
    "\n",
    "\n",
    "# Taking 3 balls and them being all different colours.\n",
    "n1_white_color = white_balls / total_balls\n",
    "n2_black_color = black_balls / total_balls\n",
    "n3_red_color = red_balls / total_balls\n",
    "\n",
    "p_new_colors_combined = n1_white_color* n2_black_color* n3_red_color\n",
    "p_new_colors_combined\n"
   ]
  },
  {
   "cell_type": "markdown",
   "metadata": {},
   "source": [
    "## Challenge 2\n",
    "\n",
    "You want to go on picnic on Saturday. You hate rain, and would know to plan your weekend. To help you make a decision, you gather the following data about rainy days:\n",
    "\n",
    "* 40% of all days are cloudy.\n",
    "* About 50% of cloudy days are rainy. \n",
    "* About 20% of non-cloudy days are rainy.\n",
    "\n",
    "What is the chance of rain during next Saturday?"
   ]
  },
  {
   "cell_type": "code",
   "execution_count": null,
   "metadata": {},
   "outputs": [
    {
     "data": {
      "text/plain": [
       "0.32"
      ]
     },
     "execution_count": 18,
     "metadata": {},
     "output_type": "execute_result"
    }
   ],
   "source": [
    "cloudy = 0.40\n",
    "cloudy_rainy = 0.50\n",
    "non_cloudy_rainy = 0.20\n",
    "\n",
    "# cloudy + rainy\n",
    "p_rainy_and_cloudy = cloudy * cloudy_rainy \n",
    "\n",
    "# non-cloudy +rainy\n",
    "non_cloudy = 1 - cloudy\n",
    "p_rainy_and_non_cloudy = non_cloudy * non_cloudy_rainy\n",
    "\n",
    "# rain\n",
    "p_rain = p_rainy_and_cloudy + p_rainy_and_non_cloudy\n",
    "p_rain\n",
    "\n"
   ]
  },
  {
   "cell_type": "markdown",
   "metadata": {},
   "source": [
    "## Challenge 3\n",
    "\n",
    "A and B are events of a probability such that $P(A) = 0.3$, $P(B) = 0.6$ and $P(A \\cap B) = 0.1$\n",
    "\n",
    "Which of the following statements are true?  \n",
    "**HINT: draw a big Venn Diagram by your side**  \n",
    "* $P(\\overline{A}) = 0.7$\n",
    "* $P(A \\cup B) = 0.6$\n",
    "* $P(A \\cap \\overline{B}) = 0.2$\n",
    "* $P(A \\cup \\overline{A}) = 1$  \n",
    "* $P(A \\cap (B \\cup \\overline{B})) = 0.4$\n",
    "* $P(\\overline{A} \\cap \\overline{B}) = 0.3$\n",
    "* $P(\\overline{A \\cap B}) = 0.9$"
   ]
  },
  {
   "cell_type": "code",
   "execution_count": null,
   "metadata": {},
   "outputs": [
    {
     "data": {
      "image/png": "[encoded data removed]",
      "text/plain": [
       "<Figure size 640x480 with 1 Axes>"
      ]
     },
     "metadata": {},
     "output_type": "display_data"
    },
    {
     "name": "stdout",
     "output_type": "stream",
     "text": [
      "P(A only) = 0.2\n",
      "P(B only) = 0.5\n",
      "P(A and B) = 0.1\n",
      "P(Neither A nor B) = 0.2\n"
     ]
    }
   ],
   "source": [
    "import matplotlib.pyplot as plt\n",
    "from matplotlib_venn import venn2\n",
    "\n",
    "P_A = 0.3 \n",
    "P_B = 0.6  \n",
    "P_A_and_B = 0.1 # both event\n",
    "\n",
    "\n",
    "P_A_only = P_A - P_A_and_B  # Only A, not B\n",
    "P_B_only = P_B - P_A_and_B  # Only B, not A\n",
    "P_neither = 1 - (P_A + P_B - P_A_and_B)\n",
    "\n",
    "P_A_only = round(P_A_only, 2)\n",
    "P_B_only = round(P_B_only, 2)\n",
    "P_A_and_B = round(P_A_and_B, 2)\n",
    "P_neither = round(P_neither, 2)\n",
    "\n",
    "\n",
    "venn = venn2(subsets=(P_A_only, P_B_only, P_A_and_B), set_labels=('A', 'B'))\n",
    "plt.title(\"Venn Diagram for Events A and B\")\n",
    "\n",
    "plt.show()\n",
    "print(f\"P(A only) = {P_A_only}\")\n",
    "print(f\"P(B only) = {P_B_only}\")\n",
    "print(f\"P(A and B) = {P_A_and_B}\")\n",
    "print(f\"P(Neither A nor B) = {P_neither}\")\n"
   ]
  },
  {
   "cell_type": "markdown",
   "metadata": {},
   "source": [
    "## Challenge 4\n",
    "\n",
    " * If someone flies to China, the probability of getting Covid is 1%  \n",
    " * If someone flies to Italy, the probability of getting Covid is 20%  \n",
    "\n",
    "I roll 1 dice with numbers 1, 2, 3, 4, 5, 6:  \n",
    " * If 1: I fly to Italy\n",
    " * If not 1: I fly to China\n",
    "\n",
    "During my trip, I got Covid. What is the probability that I flew to China?"
   ]
  },
  {
   "cell_type": "code",
   "execution_count": 43,
   "metadata": {},
   "outputs": [
    {
     "name": "stdout",
     "output_type": "stream",
     "text": [
      "P(China | Covid) = 0.2\n"
     ]
    }
   ],
   "source": [
    "\n",
    "P_Covid_given_China = 0.01\n",
    "P_Covid_given_Italy = 0.20\n",
    "\n",
    "P_China = 5 / 6\n",
    "P_Italy = 1 / 6\n",
    "\n",
    "\n",
    "P_Covid = (P_Covid_given_China * P_China) + (P_Covid_given_Italy * P_Italy)\n",
    "P_China_given_Covid = (P_Covid_given_China * P_China) / P_Covid\n",
    "P_China_given_Covid_rounded = round(P_China_given_Covid, 2)\n",
    "print(f\"P(China | Covid) = {P_China_given_Covid_rounded}\")\n",
    "\n",
    "\n"
   ]
  },
  {
   "cell_type": "markdown",
   "metadata": {},
   "source": [
    "## BONUS\n",
    "\n",
    "You roll 2 dice. What is the probability that the sum of the numbers is 7? And 8? And 9? Then simulate 10000 times and draw a countplot."
   ]
  },
  {
   "cell_type": "markdown",
   "metadata": {},
   "source": [
    "your explanation here"
   ]
  },
  {
   "cell_type": "code",
   "execution_count": null,
   "metadata": {},
   "outputs": [],
   "source": [
    "# YOUR CODE HERE"
   ]
  }
 ],
 "metadata": {
  "kernelspec": {
   "display_name": "Python 3",
   "language": "python",
   "name": "python3"
  },
  "language_info": {
   "codemirror_mode": {
    "name": "ipython",
    "version": 3
   },
   "file_extension": ".py",
   "mimetype": "text/x-python",
   "name": "python",
   "nbconvert_exporter": "python",
   "pygments_lexer": "ipython3",
   "version": "3.12.8"
  },
  "toc": {
   "base_numbering": 1,
   "nav_menu": {},
   "number_sections": false,
   "sideBar": true,
   "skip_h1_title": false,
   "title_cell": "Table of Contents",
   "title_sidebar": "Contents",
   "toc_cell": false,
   "toc_position": {
    "height": "calc(100% - 180px)",
    "left": "10px",
    "top": "150px",
    "width": "296.475px"
   },
   "toc_section_display": true,
   "toc_window_display": false
  },
  "varInspector": {
   "cols": {
    "lenName": 16,
    "lenType": 16,
    "lenVar": 40
   },
   "kernels_config": {
    "python": {
     "delete_cmd_postfix": "",
     "delete_cmd_prefix": "del ",
     "library": "var_list.py",
     "varRefreshCmd": "print(var_dic_list())"
    },
    "r": {
     "delete_cmd_postfix": ") ",
     "delete_cmd_prefix": "rm(",
     "library": "var_list.r",
     "varRefreshCmd": "cat(var_dic_list()) "
    }
   },
   "types_to_exclude": [
    "module",
    "function",
    "builtin_function_or_method",
    "instance",
    "_Feature"
   ],
   "window_display": false
  }
 },
 "nbformat": 4,
 "nbformat_minor": 2
}
