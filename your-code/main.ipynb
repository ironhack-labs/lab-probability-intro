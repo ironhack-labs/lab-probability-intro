{
 "cells": [
  {
   "cell_type": "markdown",
   "metadata": {},
   "source": [
    "# Probability"
   ]
  },
  {
   "cell_type": "markdown",
   "metadata": {},
   "source": [
    "## Challenge 1\n",
    "There is a box with 10 white balls, 12 red balls and 8 black balls. Calculate the probability of:\n",
    "* Taking a white ball out.\n",
    "* Taking a white ball on first extraction and a black ball out on second extraction without replacing the first one.\n",
    "* Taking a white ball on first extraction and a black ball out on second extraction replacing the first one.\n",
    "* Taking 3 balls and them being all different colours."
   ]
  },
  {
   "cell_type": "code",
   "execution_count": 14,
   "metadata": {},
   "outputs": [
    {
     "data": {
      "text/plain": [
       "0.3333333333333333"
      ]
     },
     "execution_count": 14,
     "metadata": {},
     "output_type": "execute_result"
    }
   ],
   "source": [
    "# YOUR CODE HERE\n",
    "\n",
    "# probability function\n",
    "def probability_calc (total, c_balls):\n",
    "    return c_balls / total\n",
    "\n",
    "total = 10 + 12 + 8\n",
    "\n",
    "# Taking a white ball out.\n",
    "\n",
    "white = 10\n",
    "\n",
    "probability_calc(total, white)"
   ]
  },
  {
   "cell_type": "code",
   "execution_count": 13,
   "metadata": {},
   "outputs": [
    {
     "data": {
      "text/plain": [
       "0.09195402298850575"
      ]
     },
     "metadata": {},
     "output_type": "display_data"
    }
   ],
   "source": [
    "\n",
    "# Taking a white ball on first extraction and a black ball out on second extraction without replacing the first one.\n",
    "total = 30\n",
    "white  = 10 \n",
    "black = 8\n",
    "prob = 1\n",
    "wished_result = (white, black)\n",
    "\n",
    "for i in wished_result:\n",
    "    prob *= probability_calc(total, i)\n",
    "    total -= 1\n",
    "\n",
    "display(prob)\n"
   ]
  },
  {
   "cell_type": "code",
   "execution_count": 11,
   "metadata": {},
   "outputs": [
    {
     "data": {
      "text/plain": [
       "0.08888888888888888"
      ]
     },
     "metadata": {},
     "output_type": "display_data"
    }
   ],
   "source": [
    "# Taking a white ball on first extraction and a black ball out on second extraction replacing the first one.\n",
    "\n",
    "total = 30\n",
    "white  = 10 \n",
    "black = 8\n",
    "prob = 1\n",
    "wished_result = (white, black)\n",
    "\n",
    "for i in wished_result:\n",
    "    prob *= probability_calc(total, i)\n",
    "\n",
    "display(prob)\n"
   ]
  },
  {
   "cell_type": "code",
   "execution_count": 15,
   "metadata": {},
   "outputs": [
    {
     "data": {
      "text/plain": [
       "0.23645320197044334"
      ]
     },
     "metadata": {},
     "output_type": "display_data"
    }
   ],
   "source": [
    "# Taking 3 balls and them being all different colours.\n",
    "\n",
    "\n",
    "total = 30\n",
    "white  = 10\n",
    "red = 12\n",
    "black = 8\n",
    "prob = 1\n",
    "wished_result = (white, red, black)\n",
    "\n",
    "for i in wished_result:\n",
    "    prob *= probability_calc(total, i)\n",
    "    total -=1\n",
    "\n",
    "# There are 3! (6) different ways to draw the three balls in any order\n",
    "prob = 6*prob    \n",
    "\n",
    "display(prob)"
   ]
  },
  {
   "cell_type": "markdown",
   "metadata": {},
   "source": [
    "## Challenge 2\n",
    "\n",
    "You want to go on picnic on Saturday. You hate rain, and would know to plan your weekend. To help you make a decision, you gather the following data about rainy days:\n",
    "\n",
    "* 40% of all days are cloudy.\n",
    "* About 50% of cloudy days are rainy. \n",
    "* About 20% of non-cloudy days are rainy.\n",
    "\n",
    "What is the chance of rain during next Saturday?"
   ]
  },
  {
   "cell_type": "code",
   "execution_count": 16,
   "metadata": {},
   "outputs": [
    {
     "data": {
      "text/plain": [
       "0.32"
      ]
     },
     "metadata": {},
     "output_type": "display_data"
    }
   ],
   "source": [
    "# YOUR CODE HERE\n",
    "P_cloudy = 0.4\n",
    "P_Cloudy_and_Rain = 0.5\n",
    "P_Rain_not_Cloudy = 0.2\n",
    "\n",
    "Prob_rain = 0.4 * 0.5 + 0.6 * 0.2\n",
    "display(Prob_rain)"
   ]
  },
  {
   "cell_type": "markdown",
   "metadata": {},
   "source": [
    "## Challenge 3\n",
    "\n",
    "A and B are events of a probability such that $P(A) = 0.3$, $P(B) = 0.6$ and $P(A \\cap B) = 0.1$\n",
    "\n",
    "Which of the following statements are true?  \n",
    "**HINT: draw a big Venn Diagram by your side**  \n",
    "* $P(\\overline{A}) = 0.7$\n",
    "* $P(A \\cup B) = 0.6$\n",
    "* $P(A \\cap \\overline{B}) = 0.2$\n",
    "* $P(A \\cup \\overline{A}) = 1$  \n",
    "* $P(A \\cap (B \\cup \\overline{B})) = 0.4$\n",
    "* $P(\\overline{A} \\cap \\overline{B}) = 0.3$\n",
    "* $P(\\overline{A \\cap B}) = 0.9$"
   ]
  },
  {
   "cell_type": "code",
   "execution_count": 22,
   "metadata": {},
   "outputs": [
    {
     "name": "stdout",
     "output_type": "stream",
     "text": [
      "0.7\n",
      "0.7999999999999999\n",
      "0.19999999999999998\n",
      "1.0\n",
      "0.3\n",
      "0.20000000000000007\n",
      "0.9\n"
     ]
    }
   ],
   "source": [
    "# YOUR CODE HERE\n",
    "\n",
    "P_A = 0.3\n",
    "P_B = 0.6\n",
    "P_A_and_B = 0.1\n",
    "\n",
    "P_not_A = 1- P_A\n",
    "print(P_not_A)\n",
    "\n",
    "P_A_or_B = P_A + P_B - P_A_and_B\n",
    "print(P_A_or_B)\n",
    "\n",
    "P_A_and_not_B = P_A - P_A_and_B\n",
    "print(P_A_and_not_B)\n",
    "\n",
    "P_A_or_not_A = P_A + (1-P_A)\n",
    "print(P_A_or_not_A)\n",
    "\n",
    "P_A_and_B_or_not_B = P_A\n",
    "print(P_A_and_B_or_not_B)\n",
    "\n",
    "P_not_A_and_not_B = 1- P_A_or_B\n",
    "print(P_not_A_and_not_B)\n",
    "\n",
    "P_not_A_and_B = 1- P_A_and_B\n",
    "print(P_not_A_and_B)\n"
   ]
  },
  {
   "cell_type": "markdown",
   "metadata": {},
   "source": [
    "## Challenge 4\n",
    "\n",
    " * If someone flies to China, the probability of getting Covid is 1%  \n",
    " * If someone flies to Italy, the probability of getting Covid is 20%  \n",
    "\n",
    "I roll 1 dice with numbers 1, 2, 3, 4, 5, 6:  \n",
    " * If 1: I fly to Italy\n",
    " * If not 1: I fly to China\n",
    "\n",
    "During my trip, I got Covid. What is the probability that I flew to China?"
   ]
  },
  {
   "cell_type": "code",
   "execution_count": 27,
   "metadata": {},
   "outputs": [
    {
     "name": "stdout",
     "output_type": "stream",
     "text": [
      "0.2\n"
     ]
    }
   ],
   "source": [
    "covid_ch = 0.01\n",
    "covid_it = 0.2\n",
    "not_covid_ch = 0.99\n",
    "\n",
    "if_1 = 1/6\n",
    "if_not_1 = 5/6\n",
    "\n",
    "P_A = 5/6\n",
    "P_not_A = 1/6\n",
    "P_B_A = 0.01\n",
    "P_B_not_A = 0.2\n",
    "\n",
    "P_A_B = (P_B_A * P_A) / ((P_B_A * P_A) + P_B_not_A * P_not_A)\n",
    "print(P_A_B)\n",
    "\n"
   ]
  },
  {
   "cell_type": "markdown",
   "metadata": {},
   "source": [
    "## BONUS\n",
    "\n",
    "You roll 2 dice. What is the probability that the sum of the numbers is 7? And 8? And 9? Then simulate 10000 times and draw a countplot."
   ]
  },
  {
   "cell_type": "markdown",
   "metadata": {},
   "source": [
    "your explanation here"
   ]
  },
  {
   "cell_type": "code",
   "execution_count": 28,
   "metadata": {},
   "outputs": [
    {
     "name": "stdout",
     "output_type": "stream",
     "text": [
      "Probability of sum 7: 0.1675\n",
      "Probability of sum 8: 0.1398\n",
      "Probability of sum 9: 0.1081\n"
     ]
    },
    {
     "data": {
      "image/png": "[encoded data removed]",
      "text/plain": [
       "<Figure size 1000x600 with 1 Axes>"
      ]
     },
     "metadata": {},
     "output_type": "display_data"
    }
   ],
   "source": [
    "# YOUR CODE HERE\n",
    "\n",
    "# Re-running the code from the beginning with a complete implementation\n",
    "\n",
    "import random\n",
    "import matplotlib.pyplot as plt\n",
    "import seaborn as sns\n",
    "\n",
    "# Function to simulate rolling two dice\n",
    "def roll_dice():\n",
    "    return random.randint(1, 6), random.randint(1, 6)\n",
    "\n",
    "# Calculate the probability for each sum: 7, 8, and 9\n",
    "def calculate_probability(target_sum, total_trials):\n",
    "    count = 0\n",
    "    for _ in range(total_trials):\n",
    "        die1, die2 = roll_dice()\n",
    "        if die1 + die2 == target_sum:\n",
    "            count += 1\n",
    "    return count / total_trials\n",
    "\n",
    "# Set the number of simulations\n",
    "total_trials = 10000\n",
    "\n",
    "# Probabilities for sums 7, 8, and 9\n",
    "prob_7 = calculate_probability(7, total_trials)\n",
    "prob_8 = calculate_probability(8, total_trials)\n",
    "prob_9 = calculate_probability(9, total_trials)\n",
    "\n",
    "# Print probabilities for reference\n",
    "print(f\"Probability of sum 7: {prob_7:.4f}\")\n",
    "print(f\"Probability of sum 8: {prob_8:.4f}\")\n",
    "print(f\"Probability of sum 9: {prob_9:.4f}\")\n",
    "\n",
    "# Simulating the rolls for the plot\n",
    "results = []\n",
    "for _ in range(total_trials):\n",
    "    die1, die2 = roll_dice()\n",
    "    results.append(die1 + die2)\n",
    "\n",
    "# Creating a countplot\n",
    "plt.figure(figsize=(10, 6))\n",
    "sns.countplot(x=results)\n",
    "plt.title('Frequency of Dice Sums in 10000 Simulations')\n",
    "plt.xlabel('Sum of Two Dice')\n",
    "plt.ylabel('Frequency')\n",
    "plt.show()\n"
   ]
  },
  {
   "cell_type": "code",
   "execution_count": null,
   "metadata": {},
   "outputs": [],
   "source": []
  }
 ],
 "metadata": {
  "kernelspec": {
   "display_name": "Python 3 (ipykernel)",
   "language": "python",
   "name": "python3"
  },
  "language_info": {
   "codemirror_mode": {
    "name": "ipython",
    "version": 3
   },
   "file_extension": ".py",
   "mimetype": "text/x-python",
   "name": "python",
   "nbconvert_exporter": "python",
   "pygments_lexer": "ipython3",
   "version": "3.12.6"
  },
  "toc": {
   "base_numbering": 1,
   "nav_menu": {},
   "number_sections": false,
   "sideBar": true,
   "skip_h1_title": false,
   "title_cell": "Table of Contents",
   "title_sidebar": "Contents",
   "toc_cell": false,
   "toc_position": {
    "height": "calc(100% - 180px)",
    "left": "10px",
    "top": "150px",
    "width": "296.475px"
   },
   "toc_section_display": true,
   "toc_window_display": false
  },
  "varInspector": {
   "cols": {
    "lenName": 16,
    "lenType": 16,
    "lenVar": 40
   },
   "kernels_config": {
    "python": {
     "delete_cmd_postfix": "",
     "delete_cmd_prefix": "del ",
     "library": "var_list.py",
     "varRefreshCmd": "print(var_dic_list())"
    },
    "r": {
     "delete_cmd_postfix": ") ",
     "delete_cmd_prefix": "rm(",
     "library": "var_list.r",
     "varRefreshCmd": "cat(var_dic_list()) "
    }
   },
   "types_to_exclude": [
    "module",
    "function",
    "builtin_function_or_method",
    "instance",
    "_Feature"
   ],
   "window_display": false
  }
 },
 "nbformat": 4,
 "nbformat_minor": 2
}
