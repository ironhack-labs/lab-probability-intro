{
 "cells": [
  {
   "cell_type": "markdown",
   "metadata": {},
   "source": [
    "# Probability"
   ]
  },
  {
   "cell_type": "markdown",
   "metadata": {},
   "source": [
    "## Challenge 1\n",
    "There is a box with 10 white balls, 12 red balls and 8 black balls. Calculate the probability of:\n",
    "* Taking a white ball out.\n",
    "* Taking a white ball on first extraction and a black ball out on second extraction without replacing the first one.\n",
    "* Taking a white ball on first extraction and a black ball out on second extraction replacing the first one.\n",
    "* Taking 3 balls and them being all different colours."
   ]
  },
  {
   "cell_type": "code",
   "execution_count": 11,
   "metadata": {},
   "outputs": [
    {
     "name": "stdout",
     "output_type": "stream",
     "text": [
      "The probability of taking a white ball out is 0.3333\n",
      "The probability of taking a white ball on first extraction and a black ball out on second extraction without replacing the first one is 0.0920\n",
      "The probability of taking a a white ball on first extraction and a black ball out on second extraction replacing the first one is 0.0889\n",
      "The probability of taking 3 balls and them being all different colours is 0.2933\n"
     ]
    }
   ],
   "source": [
    "# YOUR CODE HERE\n",
    "white = 10.0\n",
    "red = 12.0\n",
    "black = 8.0\n",
    "total = white + red + black\n",
    "\n",
    "sol_11 = white / total\n",
    "sol_12 = (white / total) * (black / (total - 1)) \n",
    "sol_13 = (white / total) * (black / total)\n",
    "sol_14 = (1 - white / total) * (1 - red / total) * (1 - black / total)\n",
    "\n",
    "print(f\"The probability of taking a white ball out is {sol_11:.4f}\")\n",
    "print(f\"The probability of taking a white ball on first extraction and a black ball out on second extraction without replacing the first one is {sol_12:.4f}\")\n",
    "print(f\"The probability of taking a a white ball on first extraction and a black ball out on second extraction replacing the first one is {sol_13:.4f}\")\n",
    "print(f\"The probability of taking 3 balls and them being all different colours is {sol_14:.4f}\")"
   ]
  },
  {
   "cell_type": "markdown",
   "metadata": {},
   "source": [
    "## Challenge 2\n",
    "\n",
    "You want to go on picnic on Saturday. You hate rain, and would know to plan your weekend. To help you make a decision, you gather the following data about rainy days:\n",
    "\n",
    "* 40% of all days are cloudy.\n",
    "* About 50% of cloudy days are rainy. \n",
    "* About 20% of non-cloudy days are rainy.\n",
    "\n",
    "What is the chance of rain during next Saturday?"
   ]
  },
  {
   "cell_type": "code",
   "execution_count": 12,
   "metadata": {},
   "outputs": [
    {
     "name": "stdout",
     "output_type": "stream",
     "text": [
      "The probability of rain next Saturday is 0.3200\n"
     ]
    }
   ],
   "source": [
    "# YOUR CODE HERE\n",
    "p_cloudy = 0.4 # P(A)\n",
    "p_rainy_given_cloudy = 0.5 # P(B|A)\n",
    "p_rainy_given_not_cloudy = 0.2 # P(B|¬A)\n",
    "\n",
    "p_rainy = p_cloudy * p_rainy_given_cloudy + (1-p_cloudy) * p_rainy_given_not_cloudy # P(B) = P(A)*P(B|A) + P(¬A)*P(B|¬A)\n",
    "\n",
    "print(f\"The probability of rain next Saturday is {p_rainy:.4f}\")"
   ]
  },
  {
   "cell_type": "markdown",
   "metadata": {},
   "source": [
    "## Challenge 3\n",
    "\n",
    "A and B are events of a probability such that $P(A) = 0.3$, $P(B) = 0.6$ and $P(A \\cap B) = 0.1$\n",
    "\n",
    "Which of the following statements are true?  \n",
    "**HINT: draw a big Venn Diagram by your side**  \n",
    "* $P(\\overline{A}) = 0.7$\n",
    "* $P(A \\cup B) = 0.6$\n",
    "* $P(A \\cap \\overline{B}) = 0.2$\n",
    "* $P(A \\cup \\overline{A}) = 1$  \n",
    "* $P(A \\cap (B \\cup \\overline{B})) = 0.4$\n",
    "* $P(\\overline{A} \\cap \\overline{B}) = 0.3$\n",
    "* $P(\\overline{A \\cap B}) = 0.9$"
   ]
  },
  {
   "cell_type": "code",
   "execution_count": null,
   "metadata": {},
   "outputs": [],
   "source": [
    "# YOUR CODE HERE\n",
    "# 1. True --> 1 - 0.3 = 0.7\n",
    "# 2. False --> 0.3 + 0.6 = 0.9\n",
    "# 3. False --> 0.3 * (1-0.6) = 0.12\n",
    "# 4. True 0.3 + (1 - 0.3) = 1\n",
    "# 5. False --> 0.3 * (0.6+0.4) = 0.3\n",
    "# 6. False --> 0.7 * 0.4 = 0.28\n",
    "# 7. True --> 1 - 0.1 = 0.9"
   ]
  },
  {
   "cell_type": "markdown",
   "metadata": {},
   "source": [
    "## Challenge 4\n",
    "\n",
    " * If someone flies to China, the probability of getting Covid is 1%  \n",
    " * If someone flies to Italy, the probability of getting Covid is 20%  \n",
    "\n",
    "I roll 1 dice with numbers 1, 2, 3, 4, 5, 6:  \n",
    " * If 1: I fly to Italy\n",
    " * If not 1: I fly to China\n",
    "\n",
    "During my trip, I got Covid. What is the probability that I flew to China?"
   ]
  },
  {
   "cell_type": "code",
   "execution_count": 13,
   "metadata": {},
   "outputs": [
    {
     "name": "stdout",
     "output_type": "stream",
     "text": [
      "The probability of having flown to China given that I have Covid is 0.3200\n"
     ]
    }
   ],
   "source": [
    "# YOUR CODE HERE\n",
    "p_china = 5/6.0 # P(A): Probability of flying to China\n",
    "p_italy = 1 - p_china # P(¬A): Probability of flying to Italy\n",
    "p_covid_given_china = 0.01 # P(B|A): Probability of getting Covid given a trip to China\n",
    "p_covid_given_italy = 0.2 # P(B|¬A): Probability of getting Covid given a trip to Italy\n",
    "\n",
    "p_covid = p_covid_given_china * p_china + p_covid_given_italy * p_italy # P(B) = P(B|A)*P(A) + P(B|¬A)*P(¬A): Probability of getting Covid\n",
    "\n",
    "p_china_given_covid = p_covid_given_china * p_china / p_covid # P(A|B) = P(B|A) * P(A) / P(B)\n",
    "\n",
    "print(f\"The probability of having flown to China given that I have Covid is {p_rainy:.4f}\")"
   ]
  },
  {
   "cell_type": "markdown",
   "metadata": {},
   "source": [
    "## BONUS\n",
    "\n",
    "You roll 2 dice. What is the probability that the sum of the numbers is 7? And 8? And 9? Then simulate 10000 times and draw a countplot."
   ]
  },
  {
   "cell_type": "markdown",
   "metadata": {},
   "source": [
    "your explanation here"
   ]
  },
  {
   "cell_type": "code",
   "execution_count": 43,
   "metadata": {},
   "outputs": [
    {
     "name": "stdout",
     "output_type": "stream",
     "text": [
      "The probability of rolling a 7 is 0.1667\n",
      "The probability of rolling an 8 is 0.1389\n",
      "The probability of rolling a 9 is 0.1111\n"
     ]
    },
    {
     "data": {
      "image/png": "[encoded data removed]",
      "text/plain": [
       "<Figure size 640x480 with 1 Axes>"
      ]
     },
     "metadata": {},
     "output_type": "display_data"
    }
   ],
   "source": [
    "# YOUR CODE HERE\n",
    "p_7 = 6*(1/6)**2 # Probability of rolling 1+6, 2+5, 3+4, 4+3, 5+2 or 6+1\n",
    "p_8 = 5*(1/6)**2 # Probability of rolling 2+6, 3+5, 4+4, 5+3 or 6+2\n",
    "p_9 = 4*(1/6)**2 # Probability of rolling 3+6, 4+5, 5+4 or 6+3\n",
    "\n",
    "print(f\"The probability of rolling a 7 is {p_7:.4f}\")\n",
    "print(f\"The probability of rolling an 8 is {p_8:.4f}\")\n",
    "print(f\"The probability of rolling a 9 is {p_9:.4f}\")\n",
    "\n",
    "import numpy as np\n",
    "import matplotlib.pyplot as plt\n",
    "\n",
    "n = 10000\n",
    "p = 1/6\n",
    "\n",
    "results = range(1,7)\n",
    "all_results = []\n",
    "for i in results:\n",
    "    for j in results:\n",
    "        all_results.append(i+j)\n",
    "set(all_results)\n",
    "bins = len(set(all_results))\n",
    "\n",
    "dice_rolls = []\n",
    "for roll in range(n):\n",
    "    dice_rolls.append(results[np.random.randint(0,6)] + results[np.random.randint(0,6)])\n",
    "plt.hist(dice_rolls, bins=bins);\n"
   ]
  },
  {
   "cell_type": "code",
   "execution_count": null,
   "metadata": {},
   "outputs": [],
   "source": []
  }
 ],
 "metadata": {
  "kernelspec": {
   "display_name": "Python 3 (ipykernel)",
   "language": "python",
   "name": "python3"
  },
  "language_info": {
   "codemirror_mode": {
    "name": "ipython",
    "version": 3
   },
   "file_extension": ".py",
   "mimetype": "text/x-python",
   "name": "python",
   "nbconvert_exporter": "python",
   "pygments_lexer": "ipython3",
   "version": "3.11.7"
  },
  "toc": {
   "base_numbering": 1,
   "nav_menu": {},
   "number_sections": false,
   "sideBar": true,
   "skip_h1_title": false,
   "title_cell": "Table of Contents",
   "title_sidebar": "Contents",
   "toc_cell": false,
   "toc_position": {
    "height": "calc(100% - 180px)",
    "left": "10px",
    "top": "150px",
    "width": "296.475px"
   },
   "toc_section_display": true,
   "toc_window_display": false
  },
  "varInspector": {
   "cols": {
    "lenName": 16,
    "lenType": 16,
    "lenVar": 40
   },
   "kernels_config": {
    "python": {
     "delete_cmd_postfix": "",
     "delete_cmd_prefix": "del ",
     "library": "var_list.py",
     "varRefreshCmd": "print(var_dic_list())"
    },
    "r": {
     "delete_cmd_postfix": ") ",
     "delete_cmd_prefix": "rm(",
     "library": "var_list.r",
     "varRefreshCmd": "cat(var_dic_list()) "
    }
   },
   "types_to_exclude": [
    "module",
    "function",
    "builtin_function_or_method",
    "instance",
    "_Feature"
   ],
   "window_display": false
  }
 },
 "nbformat": 4,
 "nbformat_minor": 2
}
