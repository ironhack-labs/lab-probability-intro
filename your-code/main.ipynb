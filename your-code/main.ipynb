{
 "cells": [
  {
   "cell_type": "markdown",
   "metadata": {},
   "source": [
    "# Probability"
   ]
  },
  {
   "cell_type": "markdown",
   "metadata": {},
   "source": [
    "## Challenge 1\n",
    "There is a box with 10 white balls, 12 red balls and 8 black balls. Calculate the probability of:\n",
    "* Taking a white ball out.\n",
    "\n",
    "**Probability of taking a white ball:**\n",
    "\n",
    "Total number of balls:\n",
    "$$ 10 + 12 + 8 = 30 $$\n",
    "\n",
    "Probability of drawing a white ball:\n",
    "$$ P(\\text{white}) = \\frac{10}{30} = \\frac{1}{3} $$\n",
    "\n",
    "\n",
    "**Taking a white ball on first extraction and a black ball out on second extraction without replacing the first one.**\n",
    "* Taking 3 balls and them being all different colours.\n",
    "\n",
    "**Taking a white ball on first extraction and a black ball out on second extraction replacing the first one.**\n",
    "\n",
    "Probability of drawing a white ball on the first draw:  \n",
    "$$ P(\\text{White}) = \\frac{10}{30} $$\n",
    "\n",
    "Probability of drawing a black ball on the second draw (with replacement):  \n",
    "$$ P(\\text{Black}) = \\frac{8}{30} $$\n",
    "\n",
    "Since the events are independent (due to replacement), the total probability is:  \n",
    "$$ P(\\text{White then Black with replacement}) = P(\\text{White}) \\times P(\\text{Black}) $$\n",
    "\n",
    "Substituting the values:  \n",
    "$$ P(\\text{White then Black with replacement}) = \\frac{10}{30} \\times \\frac{8}{30} = \\frac{80}{900} = \\frac{4}{45} $$\n"
   ]
  },
  {
   "cell_type": "markdown",
   "metadata": {},
   "source": [
    "We are given:\n",
    "\n",
    "- \\(P(\\text{cloudy}) = 0.40\\)\n",
    "- \\(P(\\text{rain} \\mid \\text{cloudy}) = 0.50\\)\n",
    "- \\(P(\\text{rain} \\mid \\text{not cloudy}) = 0.20\\)\n",
    "\n",
    "Using the law of total probability:\n",
    "\n",
    "\\[\n",
    "\\begin{aligned}\n",
    "P(\\text{rain}) &= P(\\text{cloudy}) \\cdot P(\\text{rain} \\mid \\text{cloudy}) \\\\\n",
    "&\\quad + P(\\text{not cloudy}) \\cdot P(\\text{rain} \\mid \\text{not cloudy}) \\\\\n",
    "&= 0.40 \\times 0.50 + (1 - 0.40) \\times 0.20 \\\\\n",
    "&= 0.20 + 0.60 \\times 0.20 \\\\\n",
    "&= 0.20 + 0.12 \\\\\n",
    "&= 0.32\n",
    "\\end{aligned}\n",
    "\\]\n",
    "\n",
    "∴  There is a 32% chance of rain next Saturday.\n"
   ]
  },
  {
   "cell_type": "markdown",
   "metadata": {},
   "source": [
    "**Probability of taking a white ball:**\n",
    "\n",
    "Total number of balls:\n",
    "$$ 10 + 12 + 8 = 30 $$\n",
    "\n",
    "∴ Probability of drawing a white ball:\n",
    "$$ P(\\text{white}) = \\frac{10}{30} = \\frac{1}{3} $$\n"
   ]
  },
  {
   "cell_type": "markdown",
   "metadata": {},
   "source": [
    "## Challenge 3\n",
    "\n",
    "A and B are events of a probability such that $P(A) = 0.3$, $P(B) = 0.6$ and $P(A \\cap B) = 0.1$\n",
    "\n",
    "Which of the following statements are true?  \n",
    "**HINT: draw a big Venn Diagram by your side**  \n",
    "* $P(\\overline{A}) = 0.7$\n",
    "* $P(A \\cup B) = 0.6$\n",
    "* $P(A \\cap \\overline{B}) = 0.2$\n",
    "* $P(A \\cup \\overline{A}) = 1$  \n",
    "* $P(A \\cap (B \\cup \\overline{B})) = 0.4$\n",
    "* $P(\\overline{A} \\cap \\overline{B}) = 0.3$\n",
    "* $P(\\overline{A \\cap B}) = 0.9$"
   ]
  },
  {
   "cell_type": "markdown",
   "metadata": {},
   "source": [
    "* $(P(\\overline{A}) = 1 - P(A) = 1 - 0.3 = 0.7)$ → **True**\n",
    "* $(P(A \\cup B) = P(A) + P(B) - P(A \\cap B) = 0.3 + 0.6 - 0.1 = 0.8 \\neq 0.6)$ → **False**\n",
    "* $(P(A \\cap \\overline{B}) = P(A) - P(A \\cap B) = 0.3 - 0.1 = 0.2)$ → **True**\n",
    "\n",
    "* $(P(A \\cup \\overline{A}) = 1 \\text{ ( } A \\cup \\overline{A} \\text{ covers the entire space)})$ → **True**\n",
    "\n",
    "* $(P(A \\cap (B \\cup \\overline{B})) = P(A) = 0.3 \\neq 0.4)$ → **False**\n",
    "* $(P(\\overline{A} \\cap \\overline{B}) = 1 - P(A \\cup B) = 1 - 0.8 = 0.2 \\neq 0.3)$ → **False**\n",
    "* $(P(\\overline{A \\cap B}) = 1 - P(A \\cap B) = 1 - 0.1 = 0.9)$ → **True**"
   ]
  },
  {
   "cell_type": "markdown",
   "metadata": {},
   "source": [
    "## Challenge 4\n",
    "\n",
    " * If someone flies to China, the probability of getting Covid is 1%  \n",
    " * If someone flies to Italy, the probability of getting Covid is 20%  \n",
    "\n",
    "I roll 1 dice with numbers 1, 2, 3, 4, 5, 6:  \n",
    " * If 1: I fly to Italy\n",
    " * If not 1: I fly to China\n",
    "\n",
    "During my trip, I got Covid. What is the probability that I flew to China?"
   ]
  },
  {
   "cell_type": "markdown",
   "metadata": {},
   "source": [
    "Using law of total probability:\n",
    "\n",
    "$(P(\\text{Covid}) = P(\\text{Covid} \\mid C) \\cdot P(C) + P(\\text{Covid} \\mid I) \\cdot P(I))$\n",
    "\n",
    "Substitute known values:\n",
    "\n",
    "$(P(\\text{Covid}) = (0.01) \\cdot \\frac{5}{6} + (0.20) \\cdot \\frac{1}{6})$\n",
    "\n",
    "Calculate:\n",
    "\n",
    "$(P(\\text{Covid}) = 0.0083\\overline{3} + 0.0333\\overline{3} = 0.0417)$\n",
    "\n",
    "Find $P(C \\mid \\text{Covid})$\n",
    "\n",
    "Bayes' Theorem:\n",
    "\n",
    "$(P(C \\mid \\text{Covid}) = \\frac{P(\\text{Covid} \\mid C) \\cdot P(C)}{P(\\text{Covid})})$\n",
    "\n",
    "Substitute known values:\n",
    "\n",
    "$(P(C \\mid \\text{Covid}) = \\frac{(0.01) \\cdot \\frac{5}{6}}{0.0417})$\n",
    "\n",
    "numerator:\n",
    "\n",
    "$(P(\\text{Covid} \\mid C) \\cdot P(C) = 0.01 \\cdot \\frac{5}{6} = 0.0083\\overline{3})$\n",
    "\n",
    "$(P(C \\mid \\text{Covid}) = \\frac{0.0083\\overline{3}}{0.0417} \\approx 0.2)$\n",
    "\n",
    "∴ The probability that you flew to China given that you got Covid is 20%\n",
    "\n"
   ]
  },
  {
   "cell_type": "markdown",
   "metadata": {},
   "source": [
    "## BONUS\n",
    "\n",
    "You roll 2 dice. What is the probability that the sum of the numbers is 7? And 8? And 9? Then simulate 10000 times and draw a countplot."
   ]
  },
  {
   "cell_type": "markdown",
   "metadata": {},
   "source": [
    "your explanation here"
   ]
  },
  {
   "cell_type": "markdown",
   "metadata": {},
   "source": [
    "When rolling 2 dice, the total number of possible outcomes is:\n",
    "\n",
    "* $(6 \\times 6 = 36)$\n",
    "\n",
    "---\n",
    "\n",
    "### Sum of 7\n",
    "\n",
    "The combinations of dice rolls where the sum is 7 are:\n",
    "\n",
    "* $((1, 6), (2, 5), (3, 4), (4, 3), (5, 2), (6, 1))$\n",
    "\n",
    "There are **6 outcomes**.\n",
    "\n",
    "The probability of rolling a sum of 7 is:\n",
    "\n",
    "* $(P(\\text{Sum of 7}) = \\frac{\\text{Favorable outcomes}}{\\text{Total outcomes}} = \\frac{6}{36} = \\frac{1}{6} \\approx 0.1667 \\text{ (16.67\\%)})$\n",
    "\n",
    "---\n",
    "\n",
    "### Sum of 8\n",
    "\n",
    "The combinations of dice rolls where the sum is 8 are:\n",
    "\n",
    "* $((2, 6), (3, 5), (4, 4), (5, 3), (6, 2))$\n",
    "\n",
    "There are **5 outcomes**.\n",
    "\n",
    "The probability of rolling a sum of 8 is:\n",
    "\n",
    "* $(P(\\text{Sum of 8}) = \\frac{\\text{Favorable outcomes}}{\\text{Total outcomes}} = \\frac{5}{36} \\approx 0.1389 \\text{ (13.89\\%)})$\n",
    "\n",
    "---\n",
    "\n",
    "### Sum of 9\n",
    "\n",
    "The combinations of dice rolls where the sum is 9 are:\n",
    "\n",
    "* $((3, 6), (4, 5), (5, 4), (6, 3))$\n",
    "\n",
    "There are **4 outcomes**.\n",
    "\n",
    "The probability of rolling a sum of 9 is:\n",
    "\n",
    "* $(P(\\text{Sum of 9}) = \\frac{\\text{Favorable outcomes}}{\\text{Total outcomes}} = \\frac{4}{36} = \\frac{1}{9} \\approx 0.1111 \\text{ (11.11\\%)})$\n",
    "\n",
    "---\n",
    "\n",
    "### Final Results:\n",
    "\n",
    "* $(\\text{Probability of a sum of 7: } \\frac{1}{6} \\approx 16.67\\%)$\n",
    "* $(\\text{Probability of a sum of 8: } \\frac{5}{36} \\approx 13.89\\%)$\n",
    "* $(\\text{Probability of a sum of 9: } \\frac{1}{9} \\approx 11.11\\%)$\n"
   ]
  },
  {
   "cell_type": "code",
   "execution_count": 2,
   "metadata": {},
   "outputs": [
    {
     "name": "stderr",
     "output_type": "stream",
     "text": [
      "C:\\Users\\dbigman\\AppData\\Local\\Temp\\ipykernel_32388\\524172164.py:13: FutureWarning: \n",
      "\n",
      "Passing `palette` without assigning `hue` is deprecated and will be removed in v0.14.0. Assign the `x` variable to `hue` and set `legend=False` for the same effect.\n",
      "\n",
      "  sns.countplot(x=sums, palette=\"viridis\")\n"
     ]
    },
    {
     "data": {
      "image/png": "[encoded data removed]",
      "text/plain": [
       "<Figure size 1000x600 with 1 Axes>"
      ]
     },
     "metadata": {},
     "output_type": "display_data"
    }
   ],
   "source": [
    "import numpy as np\n",
    "import matplotlib.pyplot as plt\n",
    "import seaborn as sns\n",
    "\n",
    "# Simulate 10,000 rolls of two dice\n",
    "num_simulations = 10000\n",
    "die1 = np.random.randint(1, 7, num_simulations)\n",
    "die2 = np.random.randint(1, 7, num_simulations)\n",
    "sums = die1 + die2\n",
    "\n",
    "# Countplot of the sums\n",
    "plt.figure(figsize=(10, 6))\n",
    "sns.countplot(x=sums, palette=\"viridis\")\n",
    "plt.title(\"Countplot of Sums of Two Dice (10,000 Simulations)\", fontsize=14)\n",
    "plt.xlabel(\"Sum of Two Dice\", fontsize=12)\n",
    "plt.ylabel(\"Frequency\", fontsize=12)\n",
    "plt.xticks(range(2, 13))  # Possible sums from 2 to 12\n",
    "plt.show()\n"
   ]
  }
 ],
 "metadata": {
  "kernelspec": {
   "display_name": "Python 3",
   "language": "python",
   "name": "python3"
  },
  "language_info": {
   "codemirror_mode": {
    "name": "ipython",
    "version": 3
   },
   "file_extension": ".py",
   "mimetype": "text/x-python",
   "name": "python",
   "nbconvert_exporter": "python",
   "pygments_lexer": "ipython3",
   "version": "3.10.10"
  },
  "toc": {
   "base_numbering": 1,
   "nav_menu": {},
   "number_sections": false,
   "sideBar": true,
   "skip_h1_title": false,
   "title_cell": "Table of Contents",
   "title_sidebar": "Contents",
   "toc_cell": false,
   "toc_position": {
    "height": "calc(100% - 180px)",
    "left": "10px",
    "top": "150px",
    "width": "296.475px"
   },
   "toc_section_display": true,
   "toc_window_display": false
  },
  "varInspector": {
   "cols": {
    "lenName": 16,
    "lenType": 16,
    "lenVar": 40
   },
   "kernels_config": {
    "python": {
     "delete_cmd_postfix": "",
     "delete_cmd_prefix": "del ",
     "library": "var_list.py",
     "varRefreshCmd": "print(var_dic_list())"
    },
    "r": {
     "delete_cmd_postfix": ") ",
     "delete_cmd_prefix": "rm(",
     "library": "var_list.r",
     "varRefreshCmd": "cat(var_dic_list()) "
    }
   },
   "types_to_exclude": [
    "module",
    "function",
    "builtin_function_or_method",
    "instance",
    "_Feature"
   ],
   "window_display": false
  }
 },
 "nbformat": 4,
 "nbformat_minor": 2
}
