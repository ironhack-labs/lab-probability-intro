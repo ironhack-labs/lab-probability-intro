{
 "cells": [
  {
   "cell_type": "markdown",
   "metadata": {},
   "source": [
    "# Probability"
   ]
  },
  {
   "cell_type": "markdown",
   "metadata": {},
   "source": [
    "## Challenge 1\n",
    "There is a box with 10 white balls, 12 red balls and 8 black balls. Calculate the probability of:\n",
    "* Taking a white ball out.\n",
    "* Taking a white ball on first extraction and a black ball out on second extraction without replacing the first one.\n",
    "* Taking a white ball on first extraction and a black ball out on second extraction replacing the first one.\n",
    "* Taking 3 balls and them being all different colours."
   ]
  },
  {
   "cell_type": "code",
   "execution_count": 12,
   "metadata": {},
   "outputs": [
    {
     "name": "stdout",
     "output_type": "stream",
     "text": [
      "The probability of taking a white ball out is 33.33%\n",
      "The probability of taking a white ball on first extraction and a black ball out on second extraction without replacing the first one is 9.2%\n",
      "The probability of taking a white ball on first extraction and a black ball out on second extraction with replacing the first one is 8.89%\n",
      "The probability of taking 3 balls and them being all different colours is 3.94%\n"
     ]
    }
   ],
   "source": [
    "b_white = 10\n",
    "b_red   = 12\n",
    "b_black = 8\n",
    "\n",
    "b_total = b_white + b_red + b_black\n",
    "\n",
    "p_white = b_white / b_total\n",
    "print(f\"The probability of taking a white ball out is {round(p_white,4)*100}%\")\n",
    "\n",
    "p_black2r = b_black / (b_total-1)\n",
    "p_white_black2r = p_white*p_black2r\n",
    "print(f\"The probability of taking a white ball on first extraction and a black ball out on second extraction without replacing the first one is {round(p_white_black2r,4)*100}%\")\n",
    "\n",
    "p_black2nr = b_black / b_total\n",
    "p_white_black2nr = p_white * p_black2nr\n",
    "print(f\"The probability of taking a white ball on first extraction and a black ball out on second extraction with replacing the first one is {round(p_white_black2nr,4)*100}%\")\n",
    "\n",
    "p_whiter = b_white / (b_total-1)\n",
    "p_redr = b_red / (b_total-1)\n",
    "p_3r = p_whiter * p_redr * p_black2r\n",
    "print(f\"The probability of taking 3 balls and them being all different colours is {round(p_3r,4)*100}%\")"
   ]
  },
  {
   "cell_type": "markdown",
   "metadata": {},
   "source": [
    "## Challenge 2\n",
    "\n",
    "You want to go on picnic on Saturday. You hate rain, and would know to plan your weekend. To help you make a decision, you gather the following data about rainy days:\n",
    "\n",
    "* 40% of all days are cloudy.\n",
    "* About 50% of cloudy days are rainy. \n",
    "* About 20% of non-cloudy days are rainy.\n",
    "\n",
    "What is the chance of rain during next Saturday?"
   ]
  },
  {
   "cell_type": "code",
   "execution_count": 14,
   "metadata": {},
   "outputs": [
    {
     "name": "stdout",
     "output_type": "stream",
     "text": [
      "The rain probability is 32.0%\n"
     ]
    }
   ],
   "source": [
    "p_cloudy = 0.4\n",
    "p_ncloudy = 0.6\n",
    "p_rain_cloudy = 0.5\n",
    "p_rain_ncloudy = 0.2\n",
    "\n",
    "# Law of total probability\n",
    "p_rainy = p_rain_cloudy * p_cloudy + p_rain_ncloudy * p_ncloudy \n",
    "print(f\"The rain probability is {p_rainy*100}%\")"
   ]
  },
  {
   "cell_type": "markdown",
   "metadata": {},
   "source": [
    "## Challenge 3\n",
    "\n",
    "A and B are events of a probability such that $P(A) = 0.3$, $P(B) = 0.6$ and $P(A \\cap B) = 0.1$\n",
    "\n",
    "Which of the following statements are true?  \n",
    "**HINT: draw a big Venn Diagram by your side**  \n",
    "* $P(\\overline{A}) = 0.7$\n",
    "* $P(A \\cup B) = 0.6$\n",
    "* $P(A \\cap \\overline{B}) = 0.2$\n",
    "* $P(A \\cup \\overline{A}) = 1$  \n",
    "* $P(A \\cap (B \\cup \\overline{B})) = 0.4$\n",
    "* $P(\\overline{A} \\cap \\overline{B}) = 0.3$\n",
    "* $P(\\overline{A \\cap B}) = 0.9$"
   ]
  },
  {
   "cell_type": "code",
   "execution_count": 45,
   "metadata": {},
   "outputs": [
    {
     "name": "stdout",
     "output_type": "stream",
     "text": [
      "The probability of the complement of A is 70.0%: True\n",
      "The probability of the union between A and B is 60.0% : False\n",
      "The probability of the intersection between A and B's complement is 20.0%: False\n",
      "The probability of the intersection between A and A's complement is 100%: True\n",
      "The probability of the intersection between A and the union of B and its compliment 40.0%: False\n",
      "The probability of the intersection between A's compliment and B's complement is 30.0%: False\n",
      "The probability of the complement of the intersection between A and B is 90.0%: False\n"
     ]
    }
   ],
   "source": [
    "p_a = 0.3\n",
    "p_b = 0.6\n",
    "p_ab_intersection = 0.1\n",
    "\n",
    "# Probabilities to test\n",
    "p_a_c = 0.7\n",
    "p_ab_union = 0.6\n",
    "p_ab_c_intersection = 0.2\n",
    "p_aa_c_union = 1\n",
    "p_a_intersection_union_b_nob = 0.4\n",
    "p_intersection_a_c_b_c = 0.3\n",
    "p_c_intersection_a_b = 0.9\n",
    "\n",
    "\n",
    "print(f\"The probability of the complement of A is {p_a_c*100}%: {p_a_c == (1-p_a)}\")\n",
    "print(f\"The probability of the union between A and B is {p_ab_union*100}% : {p_ab_union == p_a + p_b}\")\n",
    "print(f\"The probability of the intersection between A and B's complement is {p_ab_c_intersection*100}%: {p_ab_c_intersection == p_a * (1-p_b)}\")\n",
    "print(f\"The probability of the intersection between A and A's complement is {p_aa_c_union*100}%: {p_aa_c_union == p_a + (1-p_a)}\")\n",
    "print(f\"The probability of the intersection between A and the union of B and its compliment {p_a_intersection_union_b_nob*100}%: {p_a_intersection_union_b_nob == p_a * 1}\")\n",
    "print(f\"The probability of the intersection between A's compliment and B's complement is {p_intersection_a_c_b_c*100}%: {p_intersection_a_c_b_c == (1-p_a) * (1-p_b)}\")\n",
    "print(f\"The probability of the complement of the intersection between A and B is {p_c_intersection_a_b*100}%: {p_c_intersection_a_b == 1 - (p_a * p_b)}\")"
   ]
  },
  {
   "cell_type": "markdown",
   "metadata": {},
   "source": [
    "## Challenge 4\n",
    "\n",
    " * If someone flies to China, the probability of getting Covid is 1%  \n",
    " * If someone flies to Italy, the probability of getting Covid is 20%  \n",
    "\n",
    "I roll 1 dice with numbers 1, 2, 3, 4, 5, 6:  \n",
    " * If 1: I fly to Italy\n",
    " * If not 1: I fly to China\n",
    "\n",
    "During my trip, I got Covid. What is the probability that I flew to China?"
   ]
  },
  {
   "cell_type": "code",
   "execution_count": 24,
   "metadata": {},
   "outputs": [
    {
     "name": "stdout",
     "output_type": "stream",
     "text": [
      "The probability that I flew to China is 20.0%\n"
     ]
    }
   ],
   "source": [
    "pcond_covid_china = 1/100; \n",
    "pcond_covid_italy = 2/10; \n",
    "pmarg_italy = 1/6;\n",
    "pmarg_china = 5/6;\n",
    "\n",
    "pjoint_china_covid = pcond_covid_china * pmarg_china\n",
    "pjoint_italy_covid = pcond_covid_italy * pmarg_italy\n",
    "p_covid = pjoint_china_covid + pjoint_italy_covid\n",
    "\n",
    "pcond_china_covid = pjoint_china_covid / p_covid\n",
    "print(f\"The probability that I flew to China is {pcond_china_covid*100}%\")"
   ]
  },
  {
   "cell_type": "markdown",
   "metadata": {},
   "source": [
    "## BONUS\n",
    "\n",
    "You roll 2 dice. What is the probability that the sum of the numbers is 7? And 8? And 9? Then simulate 10000 times and draw a countplot."
   ]
  },
  {
   "cell_type": "markdown",
   "metadata": {},
   "source": [
    "your explanation here"
   ]
  },
  {
   "cell_type": "code",
   "execution_count": 35,
   "metadata": {},
   "outputs": [
    {
     "name": "stderr",
     "output_type": "stream",
     "text": [
      "/var/folders/f1/x77kh9w17j56ckntc3dq_ztm0000gn/T/ipykernel_6080/820029283.py:26: FutureWarning: \n",
      "\n",
      "Passing `palette` without assigning `hue` is deprecated and will be removed in v0.14.0. Assign the `x` variable to `hue` and set `legend=False` for the same effect.\n",
      "\n",
      "  sns.countplot(x=sums, palette='coolwarm', order=range(2, 13))\n"
     ]
    },
    {
     "data": {
      "image/png": "[encoded data removed]",
      "text/plain": [
       "<Figure size 1000x600 with 1 Axes>"
      ]
     },
     "metadata": {},
     "output_type": "display_data"
    }
   ],
   "source": [
    "\"\"\" \n",
    "# For the particular case of z0=7\n",
    "Pr(x+y=7) = Sum(x0=1,2,..,6){Pr(y=7-x0|x=x0)*Pr(x=x0)} = 6*1/36 = 1/6.\n",
    "\n",
    "# For the particular case of z0=8\n",
    "Pr(x+y=8) = Sum(x0=1,2,..,6){Pr(y=8-x0|x=x0)*Pr(x=x0)} = Sum(x0=2,..,6){Pr(y=8-x0|x=x0)*Pr(x=x0)} = 5*1/36\n",
    "\n",
    "# For the particular case of z0=9\n",
    "Pr(x+y=9) = Sum(x0=1,2,..,6){Pr(y=9-x0|x=x0)*Pr(x=x0)} = Sum(x0=3,..,6){Pr(y=8-x0|x=x0)*Pr(x=x0)} = 4*1/36\n",
    "\"\"\"\n",
    "\n",
    "# Simulation\n",
    "import numpy as np\n",
    "import matplotlib.pyplot as plt\n",
    "import seaborn as sns\n",
    "\n",
    "reps = 1000\n",
    "\n",
    "# Simulate rolling two dice 1,000 times\n",
    "dice1 = np.random.randint(1, 7, reps)\n",
    "dice2 = np.random.randint(1, 7, reps)\n",
    "sums = dice1 + dice2\n",
    "\n",
    "# Visualize the results with a countplot\n",
    "plt.figure(figsize=(10, 6))\n",
    "sns.countplot(x=sums, palette='coolwarm', order=range(2, 13))\n",
    "\n",
    "# Customize plot\n",
    "plt.title('Countplot of the sum of two dice rolls (1000 repetitions)')\n",
    "plt.xlabel('Sum of dices')\n",
    "plt.ylabel('Frequency')\n",
    "plt.show()"
   ]
  }
 ],
 "metadata": {
  "kernelspec": {
   "display_name": "Python 3 (ipykernel)",
   "language": "python",
   "name": "python3"
  },
  "language_info": {
   "codemirror_mode": {
    "name": "ipython",
    "version": 3
   },
   "file_extension": ".py",
   "mimetype": "text/x-python",
   "name": "python",
   "nbconvert_exporter": "python",
   "pygments_lexer": "ipython3",
   "version": "3.12.4"
  },
  "toc": {
   "base_numbering": 1,
   "nav_menu": {},
   "number_sections": false,
   "sideBar": true,
   "skip_h1_title": false,
   "title_cell": "Table of Contents",
   "title_sidebar": "Contents",
   "toc_cell": false,
   "toc_position": {
    "height": "calc(100% - 180px)",
    "left": "10px",
    "top": "150px",
    "width": "296.475px"
   },
   "toc_section_display": true,
   "toc_window_display": false
  },
  "varInspector": {
   "cols": {
    "lenName": 16,
    "lenType": 16,
    "lenVar": 40
   },
   "kernels_config": {
    "python": {
     "delete_cmd_postfix": "",
     "delete_cmd_prefix": "del ",
     "library": "var_list.py",
     "varRefreshCmd": "print(var_dic_list())"
    },
    "r": {
     "delete_cmd_postfix": ") ",
     "delete_cmd_prefix": "rm(",
     "library": "var_list.r",
     "varRefreshCmd": "cat(var_dic_list()) "
    }
   },
   "types_to_exclude": [
    "module",
    "function",
    "builtin_function_or_method",
    "instance",
    "_Feature"
   ],
   "window_display": false
  }
 },
 "nbformat": 4,
 "nbformat_minor": 2
}
