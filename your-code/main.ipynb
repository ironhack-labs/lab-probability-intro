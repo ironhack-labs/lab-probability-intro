{
 "cells": [
  {
   "cell_type": "markdown",
   "metadata": {},
   "source": [
    "# Probability"
   ]
  },
  {
   "cell_type": "markdown",
   "metadata": {},
   "source": [
    "## Challenge 1\n",
    "There is a box with 10 white balls, 12 red balls and 8 black balls. Calculate the probability of:\n",
    "* Taking a white ball out.\n",
    "* Taking a white ball on first extraction and a black ball out on second extraction without replacing the first one.\n",
    "* Taking a white ball on first extraction and a black ball out on second extraction replacing the first one.\n",
    "* Taking 3 balls and them being all different colours."
   ]
  },
  {
   "cell_type": "markdown",
   "metadata": {},
   "source": [
    "1. Taking a white ball out: \n",
    "$P(W) = 10/30 = 1/3 = 0.3333$\n",
    "\n",
    "2. Taking a white ball on first extraction and a black ball out on second extraction without replacing the first one.\n",
    "$P(W) * P(B|W) = 10/30 * 8/29 = 0.0915$\n",
    "\n",
    "3. Taking a white ball on first extraction and a black ball out on second extraction replacing the first one.\n",
    "$P(W\\cap B) = P(W) * P(B) = 10/30 * 8/30 = 1/3 * 4/15 = 4/45 = 0.0888$\n",
    "\n",
    "4. Taking 3 balls and them being all different colours.\n",
    "$P(W\\cap R\\cap B) = 10/30 * 12/29 * 8/28 = 960/24360 = 0.0394$"
   ]
  },
  {
   "cell_type": "markdown",
   "metadata": {},
   "source": [
    "## Challenge 2\n",
    "\n",
    "You want to go on picnic on Saturday. You hate rain, and would know to plan your weekend. To help you make a decision, you gather the following data about rainy days:\n",
    "\n",
    "* 40% of all days are cloudy.\n",
    "* About 50% of cloudy days are rainy. \n",
    "* About 20% of non-cloudy days are rainy.\n",
    "\n",
    "What is the chance of rain during next Saturday?"
   ]
  },
  {
   "cell_type": "markdown",
   "metadata": {},
   "source": [
    "$P(Cloudy) = 0.40$\n",
    "\n",
    "$P(Not cloudy) = 1 - P(Cloudy) = 1 - 0.40 = 0.60$\n",
    "\n",
    "$P(Rain|Cloudy) = 0.50$\n",
    "\n",
    "$P(Rain|Not cloudy) = 0.20$\n",
    "\n",
    "Probability of rain on a cloudy day:\n",
    "\n",
    "$P(Rain\\cap Cloudy) = P(Cloudy) * P(Rain|Cloudy) = 0.40 * 0.50 = 0.20$\n",
    "\n",
    "Probability of rain on a non-cloudy day: \n",
    "\n",
    "$P(Rain\\cap Not cloudy) = P(Not cloudy) * P(Rain|Not cloudy) = 0.60 * 0.20 = 0.12$ \n",
    "\n",
    "#### Total probability of rain: $P(Rain) = 0.20 + 0.12 = 0.32$"
   ]
  },
  {
   "cell_type": "markdown",
   "metadata": {},
   "source": [
    "## Challenge 3\n",
    "\n",
    "A and B are events of a probability such that $P(A) = 0.3$, $P(B) = 0.6$ and $P(A \\cap B) = 0.1$\n",
    "\n",
    "Which of the following statements are true?  \n",
    "**HINT: draw a big Venn Diagram by your side**  \n",
    "* $P(\\overline{A}) = 0.7$\n",
    "* $P(A \\cup B) = 0.6$\n",
    "* $P(A \\cap \\overline{B}) = 0.2$\n",
    "* $P(A \\cup \\overline{A}) = 1$  \n",
    "* $P(A \\cap (B \\cup \\overline{B})) = 0.4$\n",
    "* $P(\\overline{A} \\cap \\overline{B}) = 0.3$\n",
    "* $P(\\overline{A \\cap B}) = 0.9$"
   ]
  },
  {
   "cell_type": "markdown",
   "metadata": {},
   "source": [
    "1. TRUE: $1 - P(A) = 1 - 0.3 = 0.7$\n",
    "\n",
    "2. FALSE: $P(A) + P(B) - P(A\\cap B) = 0.3 + 0.6 - 0.1 = 0.8 $ \n",
    "\n",
    "3. TRUE: $P(A) = P(A\\cap B) + P(A\\cap \\overline B)$,\n",
    "\n",
    "$P(A\\cap \\overline B) = P(A) - P(A\\cap B) = 0.3 - 0.1 = 0.2$\n",
    "\n",
    "4. TRUE: $P(A\\cup \\overline A) = P(A) + P(\\overline A) - P(A\\cap \\overline A) = 0.3 + 0.7 - 0 = 1$\n",
    "\n",
    "5. FALSE: $P(A\\cap (B\\cup \\overline B)) = P(A) = 0.3$\n",
    "\n",
    "6. FALSE: $P(A\\cup B) = P(A) + P(B) - P(A\\cap B) = 0.3 + 0.6 - 0.1 = 0.8$,\n",
    "\n",
    "$P(\\overline A \\cap \\overline B ) = 1 - P(A\\cup B) = 0.2$\n",
    "\n",
    "7. TRUE: $P(\\overline{A \\cap B}) = 1 - P(A \\cap B) = 1 - 0.1 = 0.9$"
   ]
  },
  {
   "cell_type": "markdown",
   "metadata": {},
   "source": [
    "## Challenge 4\n",
    "\n",
    " * If someone flies to China, the probability of getting Covid is 1%  \n",
    " * If someone flies to Italy, the probability of getting Covid is 20%  \n",
    "\n",
    "I roll 1 dice with numbers 1, 2, 3, 4, 5, 6:  \n",
    " * If 1: I fly to Italy\n",
    " * If not 1: I fly to China\n",
    "\n",
    "During my trip, I got Covid. What is the probability that I flew to China?"
   ]
  },
  {
   "cell_type": "markdown",
   "metadata": {},
   "source": [
    "$P(Italy) = 1/6 = 0.16$\n",
    "\n",
    "$P(China) = 5/6 = 0.83$\n",
    "\n",
    "$P(Covid|China) = 0.01$\n",
    "\n",
    "$P(Covid|Italy) = 0.2$\n",
    "\n",
    "$P(Covid) = (P(Covid|China) * P(China)) + (P(Covid|Italy) * P(Italy)) = (0.01 * 0.83) + (0.2 * 0.16) = 0.00833 + 0.032 = 0.04$\n",
    "\n",
    "$P(China|Covid) ?$\n",
    "\n",
    "Bayes Theorem: $P(China|Covid) = P(Covid|China) * P(China) / P(Covid)$\n",
    "\n",
    "$P(China|Covid) = 0.01 * 0.83 / 0.04 = 0.20$"
   ]
  },
  {
   "cell_type": "markdown",
   "metadata": {},
   "source": [
    "## BONUS\n",
    "\n",
    "You roll 2 dice. What is the probability that the sum of the numbers is 7? And 8? And 9? Then simulate 10000 times and draw a countplot."
   ]
  },
  {
   "cell_type": "markdown",
   "metadata": {},
   "source": [
    "your explanation here"
   ]
  },
  {
   "cell_type": "markdown",
   "metadata": {},
   "source": [
    "$P(7) = \\frac{6}{36} = 0.1667$\n",
    "\n",
    "$P(8) = \\frac{5}{36} = 0.1388$\n",
    "\n",
    "$P(9) = \\frac{4}{36} = 0.1111$"
   ]
  },
  {
   "cell_type": "code",
   "execution_count": 12,
   "metadata": {},
   "outputs": [],
   "source": [
    "# Draw a countplot of the simulated outcome of rolling two dice 10.000 times\n",
    "\n",
    "import seaborn as sns\n",
    "import matplotlib.pyplot as plt\n",
    "import random"
   ]
  },
  {
   "cell_type": "code",
   "execution_count": 22,
   "metadata": {},
   "outputs": [
    {
     "data": {
      "image/png": "[encoded data removed]",
      "text/plain": [
       "<Figure size 640x480 with 1 Axes>"
      ]
     },
     "metadata": {},
     "output_type": "display_data"
    }
   ],
   "source": [
    "simulation_results = []\n",
    "\n",
    "for _ in range(10000):\n",
    "    die1 = random.randint(1, 6)\n",
    "    die2 = random.randint(1, 6)\n",
    "    roll_sum = die1 + die2\n",
    "    simulation_results.append(roll_sum)\n",
    "\n",
    "# Create the countplot\n",
    "sns.countplot(x=simulation_results)\n",
    "\n",
    "# Add labels and a title\n",
    "plt.title(\"Countplot of Dice Roll Sums\")\n",
    "plt.xlabel(\"Sum of two dice\")\n",
    "plt.ylabel(\"Frequency\")\n",
    "\n",
    "# Show the plot\n",
    "plt.show()"
   ]
  }
 ],
 "metadata": {
  "kernelspec": {
   "display_name": "Python 3 (ipykernel)",
   "language": "python",
   "name": "python3"
  },
  "language_info": {
   "codemirror_mode": {
    "name": "ipython",
    "version": 3
   },
   "file_extension": ".py",
   "mimetype": "text/x-python",
   "name": "python",
   "nbconvert_exporter": "python",
   "pygments_lexer": "ipython3",
   "version": "3.12.4"
  },
  "toc": {
   "base_numbering": 1,
   "nav_menu": {},
   "number_sections": false,
   "sideBar": true,
   "skip_h1_title": false,
   "title_cell": "Table of Contents",
   "title_sidebar": "Contents",
   "toc_cell": false,
   "toc_position": {
    "height": "calc(100% - 180px)",
    "left": "10px",
    "top": "150px",
    "width": "296.475px"
   },
   "toc_section_display": true,
   "toc_window_display": false
  },
  "varInspector": {
   "cols": {
    "lenName": 16,
    "lenType": 16,
    "lenVar": 40
   },
   "kernels_config": {
    "python": {
     "delete_cmd_postfix": "",
     "delete_cmd_prefix": "del ",
     "library": "var_list.py",
     "varRefreshCmd": "print(var_dic_list())"
    },
    "r": {
     "delete_cmd_postfix": ") ",
     "delete_cmd_prefix": "rm(",
     "library": "var_list.r",
     "varRefreshCmd": "cat(var_dic_list()) "
    }
   },
   "types_to_exclude": [
    "module",
    "function",
    "builtin_function_or_method",
    "instance",
    "_Feature"
   ],
   "window_display": false
  }
 },
 "nbformat": 4,
 "nbformat_minor": 2
}
