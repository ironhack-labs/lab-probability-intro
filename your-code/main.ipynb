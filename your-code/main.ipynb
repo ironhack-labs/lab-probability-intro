{
 "cells": [
  {
   "cell_type": "markdown",
   "metadata": {},
   "source": [
    "# Probability"
   ]
  },
  {
   "cell_type": "markdown",
   "metadata": {},
   "source": [
    "## Challenge 1\n",
    "There is a box with 10 white balls, 12 red balls and 8 black balls. Calculate the probability of:\n",
    "* Taking a white ball out.\n",
    "* Taking a white ball on first extraction and a black ball out on second extraction without replacing the first one.\n",
    "* Taking a white ball on first extraction and a black ball out on second extraction replacing the first one.\n",
    "* Taking 3 balls and them being all different colours."
   ]
  },
  {
   "cell_type": "code",
   "execution_count": 5,
   "metadata": {},
   "outputs": [
    {
     "data": {
      "text/plain": [
       "0.03940886699507389"
      ]
     },
     "execution_count": 5,
     "metadata": {},
     "output_type": "execute_result"
    }
   ],
   "source": [
    "# YOUR CODE HERE\n",
    "white = 10\n",
    "red = 12\n",
    "black = 8\n",
    "total_balls = white + red + black\n",
    "\n",
    "# Probability of taking out a white ball, and second extraction black without replacing the white ball\n",
    "prob_first = white / total_balls\n",
    "prob_second = black / (total_balls - 1)\n",
    "prob_third = prob_first * prob_second\n",
    "prob_third\n",
    "\n",
    "#Taking a white ball on first extraction and a black ball out on second extraction replacing the first one.\n",
    "prob_1 = black / total_balls\n",
    "prob_2 = prob_first * prob_1\n",
    "prob_2\n",
    "\n",
    "#Taking 3 balls and them being all different colours.\n",
    "prob_3 = white / total_balls\n",
    "prob_4 = red / (total_balls - 1)\n",
    "prob_5 = black / (total_balls - 2)\n",
    "prob_result = prob_3 * prob_4 * prob_5\n",
    "prob_result\n"
   ]
  },
  {
   "cell_type": "markdown",
   "metadata": {},
   "source": [
    "## Challenge 2\n",
    "\n",
    "You want to go on picnic on Saturday. You hate rain, and would know to plan your weekend. To help you make a decision, you gather the following data about rainy days:\n",
    "\n",
    "* 40% of all days are cloudy.\n",
    "* About 50% of cloudy days are rainy. \n",
    "* About 20% of non-cloudy days are rainy.\n",
    "\n",
    "What is the chance of rain during next Saturday?"
   ]
  },
  {
   "cell_type": "code",
   "execution_count": null,
   "metadata": {},
   "outputs": [],
   "source": [
    "# YOUR CODE HERE\n",
    "P(cloud) = 40/100\n",
    "P(rain| cloud) = 50/100\n",
    "P(rain| no cloud) = 20/100\n",
    "P(no cloud) = 1 - P(cloud) = 60/100\n",
    "\n",
    "P(rain) = P(rain| cloud) * P(cloud) + P(rain| no cloud) * P(no cloud)\n",
    "P(rain) = (50/100) * (40/100) + (20/100) * (60/100)\n",
    "P(rain) = 0.32"
   ]
  },
  {
   "cell_type": "markdown",
   "metadata": {},
   "source": [
    "## Challenge 3\n",
    "\n",
    "A and B are events of a probability such that $P(A) = 0.3$, $P(B) = 0.6$ and $P(A \\cap B) = 0.1$\n",
    "\n",
    "Which of the following statements are true?  \n",
    "**HINT: draw a big Venn Diagram by your side**  \n",
    "* $P(\\overline{A}) = 0.7$\n",
    "* $P(A \\cup B) = 0.6$\n",
    "* $P(A \\cap \\overline{B}) = 0.2$\n",
    "* $P(A \\cup \\overline{A}) = 1$  \n",
    "* $P(A \\cap (B \\cup \\overline{B})) = 0.4$\n",
    "* $P(\\overline{A} \\cap \\overline{B}) = 0.3$\n",
    "* $P(\\overline{A \\cap B}) = 0.9$\n",
    "\n"
   ]
  },
  {
   "cell_type": "code",
   "execution_count": null,
   "metadata": {},
   "outputs": [],
   "source": [
    "# YOUR CODE HERE\n",
    "P(A) = 0,3\n",
    "P(B) = 0,6 \n",
    "P(olB) = 1 - P(B) = 0,4\n",
    "P(A intersection B) = 0,1\n",
    "P(A) + P(olA) = 1\n",
    "P(overlineA) = 1 - P(A) = 0,7 #True\n",
    "\n",
    "P(A union B) = P(A) + P(B) - P(A intersection B)\n",
    "P(A union B) = 0,3 + 0,6 - 0,1\n",
    "P(A union B) = 0,8 #False\n",
    "\n",
    "P(A intersection olB) = P(A) - P(A intersection B)\n",
    "P(A intersection olB) = 0,3 - 0,1\n",
    "P(A intersection olB) = 0,2  #True\n",
    "\n",
    "P(A) union P(olA) = 1\n",
    "P(A) union P(olA) = 0,3 + 0,7\n",
    "P(A) union P(olA) = 1  #True\n",
    "\n",
    "P(A intersection (B union olB)) = 0,4\n",
    "P(A intersection (B union olB = 1)) = P(A)\n",
    "P(A) = 0,3 #False\n",
    "\n",
    "P(olA intersection olB) = 0,3\n",
    "P(olA) = 0,7\n",
    "P(olB) = 0,4\n",
    "P(olA intersection olB) = 1 - P(A union B)\n",
    "P(olA intersection olB) = 1 - 0,8\n",
    "P(olA intersection olB) = 0,2 #False\n",
    "\n",
    "P(olA intersection olB) = 1 - P(A intersection B)\n",
    "P(olA intersection olB) = 1 - 0,1\n",
    "P(olA intersection olB) = 0,9 #True\n",
    "\n",
    "\n",
    "\n",
    "\n",
    "\n"
   ]
  },
  {
   "cell_type": "markdown",
   "metadata": {},
   "source": [
    "## Challenge 4\n",
    "\n",
    " * If someone flies to China, the probability of getting Covid is 1%  \n",
    " * If someone flies to Italy, the probability of getting Covid is 20%  \n",
    "\n",
    "I roll 1 dice with numbers 1, 2, 3, 4, 5, 6:  \n",
    " * If 1: I fly to Italy\n",
    " * If not 1: I fly to China\n",
    "\n",
    "During my trip, I got Covid. What is the probability that I flew to China?"
   ]
  },
  {
   "cell_type": "code",
   "execution_count": 15,
   "metadata": {},
   "outputs": [
    {
     "data": {
      "text/plain": [
       "0.2"
      ]
     },
     "execution_count": 15,
     "metadata": {},
     "output_type": "execute_result"
    }
   ],
   "source": [
    "# YOUR CODE HERE\n",
    "ftoChina = 0.01\n",
    "ftoItaly = 0.2\n",
    "\n",
    "ftoChina_dice = 5/6\n",
    "ftoItaly_dice = 1/6\n",
    "\n",
    "# Probability of getting Covid given that you flew to China\n",
    "P_Covid_China = ftoChina * ftoChina_dice\n",
    "\n",
    "# Probability of getting Covid given that you flew to Italy\n",
    "P_Covid_Italy = ftoItaly * ftoItaly_dice\n",
    "\n",
    "# Total probability of getting Covid\n",
    "P_Covid = P_Covid_China + P_Covid_Italy\n",
    "\n",
    "# Probability that you flew to China given that you got Covid\n",
    "P_China_given_Covid = P_Covid_China / P_Covid\n",
    "P_China_given_Covid\n",
    "\n",
    "\n"
   ]
  },
  {
   "cell_type": "markdown",
   "metadata": {},
   "source": [
    "## BONUS\n",
    "\n",
    "You roll 2 dice. What is the probability that the sum of the numbers is 7? And 8? And 9? Then simulate 10000 times and draw a countplot."
   ]
  },
  {
   "cell_type": "markdown",
   "metadata": {},
   "source": [
    "your explanation here"
   ]
  },
  {
   "cell_type": "code",
   "execution_count": 21,
   "metadata": {},
   "outputs": [
    {
     "name": "stdout",
     "output_type": "stream",
     "text": [
      "P(sum of 7) = 0.1652\n",
      "P(sum of 8) = 0.1338\n",
      "P(sum of 9) = 0.113\n"
     ]
    },
    {
     "name": "stderr",
     "output_type": "stream",
     "text": [
      "/var/folders/rp/xh3vdlq17n94q_y2mld23x5r0000gn/T/ipykernel_2933/742035352.py:36: FutureWarning: \n",
      "\n",
      "Passing `palette` without assigning `hue` is deprecated and will be removed in v0.14.0. Assign the `x` variable to `hue` and set `legend=False` for the same effect.\n",
      "\n",
      "  sns.countplot(x=sum_of_dice, palette=\"viridis\", order=range(2, 13))  # Dice sums range from 2 to 12\n"
     ]
    },
    {
     "data": {
      "image/png": "[encoded data removed]",
      "text/plain": [
       "<Figure size 1000x600 with 1 Axes>"
      ]
     },
     "metadata": {},
     "output_type": "display_data"
    }
   ],
   "source": [
    "# YOUR CODE HERE\n",
    "dicex2 = 6 * 6 # 36\n",
    "''' sum of 7 can be \n",
    "1+6, 2+5, 3+4, 4+3, 5+2, 6+1\n",
    "sum of 8 can be\n",
    "2+6, 3+5, 4+4, 5+3, 6+2\n",
    "sum of 9 can be \n",
    "3+6, 4+5, 5+4, 6+3\n",
    "\n",
    "P(sumof7) = 6/36\n",
    "P(sumof8) = 5/36\n",
    "P(sumof9) = 4/36\n",
    "'''\n",
    "\n",
    "import numpy as np\n",
    "import matplotlib.pyplot as plt\n",
    "import seaborn as sns\n",
    "\n",
    "# Step 1: Simulate 10,000 rolls of two dice\n",
    "num_simulations = 10000\n",
    "die1 = np.random.randint(1, 7, num_simulations)  # Values for Die 1\n",
    "die2 = np.random.randint(1, 7, num_simulations)  # Values for Die 2\n",
    "sum_of_dice = die1 + die2  # Calculate the sum of both dice\n",
    "\n",
    "# Step 2: Filter for sums of 7, 8, and 9\n",
    "counts = {7: 0, 8: 0, 9: 0}\n",
    "for value in sum_of_dice:\n",
    "    if value in counts:\n",
    "        counts[value] += 1\n",
    "total_rolls = len(sum_of_dice)\n",
    "for key in counts:\n",
    "    print(f'P(sum of {key}) = {counts[key] / total_rolls}')        \n",
    "\n",
    "# Step 3: Plot the countplot for the sums\n",
    "plt.figure(figsize=(10, 6))\n",
    "sns.countplot(x=sum_of_dice, palette=\"viridis\", order=range(2, 13))  # Dice sums range from 2 to 12\n",
    "for key in counts:\n",
    "    plt.bar(key - 2, counts[key], color='red')\n",
    "\n",
    "plt.title('Countplot of Dice Sums from 10,000 Simulations', fontsize=16)\n",
    "plt.xlabel('Sum of Two Dice', fontsize=14)\n",
    "plt.ylabel('Frequency', fontsize=14)\n",
    "plt.xticks(fontsize=12)\n",
    "plt.yticks(fontsize=12)\n",
    "plt.grid(axis='y', linestyle='--', alpha=0.7)\n",
    "plt.show()\n",
    "\n"
   ]
  },
  {
   "cell_type": "code",
   "execution_count": null,
   "metadata": {},
   "outputs": [],
   "source": []
  }
 ],
 "metadata": {
  "kernelspec": {
   "display_name": "base",
   "language": "python",
   "name": "python3"
  },
  "language_info": {
   "codemirror_mode": {
    "name": "ipython",
    "version": 3
   },
   "file_extension": ".py",
   "mimetype": "text/x-python",
   "name": "python",
   "nbconvert_exporter": "python",
   "pygments_lexer": "ipython3",
   "version": "3.12.4"
  },
  "toc": {
   "base_numbering": 1,
   "nav_menu": {},
   "number_sections": false,
   "sideBar": true,
   "skip_h1_title": false,
   "title_cell": "Table of Contents",
   "title_sidebar": "Contents",
   "toc_cell": false,
   "toc_position": {
    "height": "calc(100% - 180px)",
    "left": "10px",
    "top": "150px",
    "width": "296.475px"
   },
   "toc_section_display": true,
   "toc_window_display": false
  },
  "varInspector": {
   "cols": {
    "lenName": 16,
    "lenType": 16,
    "lenVar": 40
   },
   "kernels_config": {
    "python": {
     "delete_cmd_postfix": "",
     "delete_cmd_prefix": "del ",
     "library": "var_list.py",
     "varRefreshCmd": "print(var_dic_list())"
    },
    "r": {
     "delete_cmd_postfix": ") ",
     "delete_cmd_prefix": "rm(",
     "library": "var_list.r",
     "varRefreshCmd": "cat(var_dic_list()) "
    }
   },
   "types_to_exclude": [
    "module",
    "function",
    "builtin_function_or_method",
    "instance",
    "_Feature"
   ],
   "window_display": false
  }
 },
 "nbformat": 4,
 "nbformat_minor": 2
}
