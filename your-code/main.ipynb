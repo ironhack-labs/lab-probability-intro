{
 "cells": [
  {
   "cell_type": "markdown",
   "metadata": {},
   "source": [
    "# Probability"
   ]
  },
  {
   "cell_type": "markdown",
   "metadata": {},
   "source": [
    "## Challenge 1\n",
    "There is a box with 10 white balls, 12 red balls and 8 black balls. Calculate the probability of:\n",
    "* Taking a white ball out.\n",
    "* Taking a white ball on first extraction and a black ball out on second extraction without replacing the first one.\n",
    "* Taking a white ball on first extraction and a black ball out on second extraction replacing the first one.\n",
    "* Taking 3 balls and them being all different colours."
   ]
  },
  {
   "cell_type": "code",
   "execution_count": 11,
   "metadata": {},
   "outputs": [
    {
     "name": "stdout",
     "output_type": "stream",
     "text": [
      "1. Probability of taking a white ball out: 0.3333\n",
      "2. Probability of taking a white ball on first extraction and a black ball out on second extraction without replacing the first one: 0.0920\n",
      "3. Probability of taking a white ball on first extraction and a black ball out on second extraction replacing the first one: 0.0889\n",
      "4. Probability of taking 3 balls and them being all different colours: 0.0394\n"
     ]
    }
   ],
   "source": [
    "# Taking a white ball out\n",
    "\n",
    "def prob_white_ball(total_balls, white_balls):\n",
    "    return white_balls / total_balls\n",
    "\n",
    "# Taking a white ball on first extraction and a black ball out on second extraction without replacing the first one\n",
    "\n",
    "def prob_white_then_black_no_replacement(total_balls, white_balls, black_balls):\n",
    "    prob_white_first = white_balls / total_balls\n",
    "    prob_black_second = black_balls / (total_balls - 1)\n",
    "    return prob_white_first * prob_black_second\n",
    "\n",
    "# Taking a white ball on first extraction and a black ball out on second extraction replacing the first one\n",
    "\n",
    "def prob_white_then_black_with_replacement(total_balls, white_balls, black_balls):\n",
    "    prob_white_first = white_balls / total_balls\n",
    "    prob_black_second = black_balls / total_balls\n",
    "    return prob_white_first * prob_black_second\n",
    "\n",
    "# Taking 3 balls and them being all different colours\n",
    "\n",
    "def prob_all_different_colors(total_balls, white_balls, red_balls, black_balls):\n",
    "    prob_white_first = white_balls / total_balls\n",
    "    prob_red_second = red_balls / (total_balls - 1)\n",
    "    prob_black_third = black_balls / (total_balls - 2)\n",
    "    return prob_white_first * prob_red_second * prob_black_third\n",
    "\n",
    "# Values for balls\n",
    "white_balls = 10\n",
    "red_balls = 12\n",
    "black_balls = 8\n",
    "total_balls = white_balls + red_balls + black_balls\n",
    "\n",
    "# Probability calculations\n",
    "prob_1 = prob_white_ball(total_balls, white_balls)\n",
    "prob_2 = prob_white_then_black_no_replacement(total_balls, white_balls, black_balls)\n",
    "prob_3 = prob_white_then_black_with_replacement(total_balls, white_balls, black_balls)\n",
    "prob_4 = prob_all_different_colors(total_balls, white_balls, red_balls, black_balls)\n",
    "\n",
    "# Displaying the results\n",
    "print(f\"1. Probability of taking a white ball out: {prob_1:.4f}\")\n",
    "print(f\"2. Probability of taking a white ball on first extraction and a black ball out on second extraction without replacing the first one: {prob_2:.4f}\")\n",
    "print(f\"3. Probability of taking a white ball on first extraction and a black ball out on second extraction replacing the first one: {prob_3:.4f}\")\n",
    "print(f\"4. Probability of taking 3 balls and them being all different colours: {prob_4:.4f}\")"
   ]
  },
  {
   "cell_type": "markdown",
   "metadata": {},
   "source": [
    "## Challenge 2\n",
    "\n",
    "You want to go on picnic on Saturday. You hate rain, and would know to plan your weekend. To help you make a decision, you gather the following data about rainy days:\n",
    "\n",
    "* 40% of all days are cloudy.\n",
    "* About 50% of cloudy days are rainy. \n",
    "* About 20% of non-cloudy days are rainy.\n",
    "\n",
    "What is the chance of rain during next Saturday?"
   ]
  },
  {
   "cell_type": "code",
   "execution_count": 12,
   "metadata": {},
   "outputs": [
    {
     "name": "stdout",
     "output_type": "stream",
     "text": [
      "The probability of rain next Saturday is: 32.00%\n"
     ]
    }
   ],
   "source": [
    "def prob_rain_on_saturday():\n",
    "    # Defining probabilities\n",
    "    P_C = 0.4            # Probability of a cloudy day\n",
    "    P_R_given_C = 0.5     # Probability of rain when it's cloudy\n",
    "    P_R_given_not_C = 0.2 # Probability of rain when it's not cloudy\n",
    "    \n",
    "    # Probability of it not being a cloudy day\n",
    "    P_not_C = 1 - P_C\n",
    "    \n",
    "    # Using the total probability formula\n",
    "    P_R = P_R_given_C * P_C + P_R_given_not_C * P_not_C\n",
    "    return P_R\n",
    "\n",
    "# Calculations\n",
    "probability_rain_saturday = prob_rain_on_saturday()\n",
    "print(f\"The probability of rain next Saturday is: {probability_rain_saturday:.2%}\")"
   ]
  },
  {
   "cell_type": "markdown",
   "metadata": {},
   "source": [
    "## Challenge 3\n",
    "\n",
    "A and B are events of a probability such that $P(A) = 0.3$, $P(B) = 0.6$ and $P(A \\cap B) = 0.1$\n",
    "\n",
    "Which of the following statements are true?  \n",
    "**HINT: draw a big Venn Diagram by your side**  \n",
    "* $P(\\overline{A}) = 0.7$\n",
    "* $P(A \\cup B) = 0.6$\n",
    "* $P(A \\cap \\overline{B}) = 0.2$\n",
    "* $P(A \\cup \\overline{A}) = 1$  \n",
    "* $P(A \\cap (B \\cup \\overline{B})) = 0.4$\n",
    "* $P(\\overline{A} \\cap \\overline{B}) = 0.3$\n",
    "* $P(\\overline{A \\cap B}) = 0.9$"
   ]
  },
  {
   "cell_type": "code",
   "execution_count": 13,
   "metadata": {},
   "outputs": [
    {
     "name": "stdout",
     "output_type": "stream",
     "text": [
      "1. P(¬A) = 0.7 (True)\n",
      "2. P(A ∪ B) = 0.8 (False, correct value is 0.8)\n",
      "3. P(A ∩ ¬B) = 0.2 (True)\n",
      "4. P(A ∪ ¬A) = 1 (True)\n",
      "5. P(A ∩ (B ∪ ¬B)) = 0.3 (False, correct value is 0.3)\n",
      "6. P(¬A ∩ ¬B) = 0.2 (False, correct value is 0.2)\n",
      "7. P(¬(A ∩ B)) = 0.9 (True)\n"
     ]
    }
   ],
   "source": [
    "# Defining the given probabilities\n",
    "P_A = 0.3\n",
    "P_B = 0.6\n",
    "P_A_intersection_B = 0.1\n",
    "\n",
    "# Calculating the required probabilities\n",
    "\n",
    "# 1. P(¬A) = 1 - P(A)\n",
    "P_not_A = 1 - P_A\n",
    "\n",
    "# 2. P(A ∪ B) = P(A) + P(B) - P(A ∩ B)\n",
    "P_A_union_B = P_A + P_B - P_A_intersection_B\n",
    "\n",
    "# 3. P(A ∩ ¬B) = P(A) - P(A ∩ B)\n",
    "P_A_intersection_not_B = P_A - P_A_intersection_B\n",
    "\n",
    "# 4. P(A ∪ ¬A) = 1 (because A ∪ ¬A covers the entire sample space)\n",
    "P_A_union_not_A = 1\n",
    "\n",
    "# 5. P(A ∩ (B ∪ ¬B)) = P(A) (since B ∪ ¬B = 1)\n",
    "P_A_intersection_B_union_not_B = P_A\n",
    "\n",
    "# 6. P(¬A ∩ ¬B) = 1 - P(A ∪ B)\n",
    "P_not_A_intersection_not_B = 1 - P_A_union_B\n",
    "\n",
    "# 7. P(¬(A ∩ B)) = 1 - P(A ∩ B)\n",
    "P_not_A_intersection_B = 1 - P_A_intersection_B\n",
    "\n",
    "# Displaying the results\n",
    "print(f\"1. P(¬A) = {P_not_A:.1f} (True)\")\n",
    "print(f\"2. P(A ∪ B) = {P_A_union_B:.1f} (False, correct value is 0.8)\")\n",
    "print(f\"3. P(A ∩ ¬B) = {P_A_intersection_not_B:.1f} (True)\")\n",
    "print(f\"4. P(A ∪ ¬A) = {P_A_union_not_A} (True)\")\n",
    "print(f\"5. P(A ∩ (B ∪ ¬B)) = {P_A_intersection_B_union_not_B:.1f} (False, correct value is 0.3)\")\n",
    "print(f\"6. P(¬A ∩ ¬B) = {P_not_A_intersection_not_B:.1f} (False, correct value is 0.2)\")\n",
    "print(f\"7. P(¬(A ∩ B)) = {P_not_A_intersection_B:.1f} (True)\")"
   ]
  },
  {
   "cell_type": "markdown",
   "metadata": {},
   "source": [
    "## Challenge 4\n",
    "\n",
    " * If someone flies to China, the probability of getting Covid is 1%  \n",
    " * If someone flies to Italy, the probability of getting Covid is 20%  \n",
    "\n",
    "I roll 1 dice with numbers 1, 2, 3, 4, 5, 6:  \n",
    " * If 1: I fly to Italy\n",
    " * If not 1: I fly to China\n",
    "\n",
    "During my trip, I got Covid. What is the probability that I flew to China?"
   ]
  },
  {
   "cell_type": "code",
   "execution_count": 14,
   "metadata": {},
   "outputs": [
    {
     "name": "stdout",
     "output_type": "stream",
     "text": [
      "The probability of having flown to China given that you got Covid is: 20.00%\n"
     ]
    }
   ],
   "source": [
    "def covid_probability_china():\n",
    "    # Defining the probabilities\n",
    "    P_China = 5 / 6          # Probability of flying to China\n",
    "    P_Italy = 1 / 6          # Probability of flying to Italy\n",
    "    P_Covid_given_China = 0.01  # Probability of getting Covid in China\n",
    "    P_Covid_given_Italy = 0.20  # Probability of getting Covid in Italy\n",
    "    \n",
    "    # Calculating the total probability of getting Covid\n",
    "    P_Covid = (P_Covid_given_China * P_China) + (P_Covid_given_Italy * P_Italy)\n",
    "    \n",
    "    # Applying Bayes' Theorem to find P(China | Covid)\n",
    "    P_China_given_Covid = (P_Covid_given_China * P_China) / P_Covid\n",
    "    \n",
    "    return P_China_given_Covid\n",
    "\n",
    "# Calculation\n",
    "probability_china_given_covid = covid_probability_china()\n",
    "print(f\"The probability of having flown to China given that you got Covid is: {probability_china_given_covid:.2%}\")"
   ]
  },
  {
   "cell_type": "markdown",
   "metadata": {},
   "source": [
    "## BONUS\n",
    "\n",
    "You roll 2 dice. What is the probability that the sum of the numbers is 7? And 8? And 9? Then simulate 10000 times and draw a countplot."
   ]
  },
  {
   "cell_type": "markdown",
   "metadata": {},
   "source": [
    "your explanation here"
   ]
  },
  {
   "cell_type": "code",
   "execution_count": 15,
   "metadata": {},
   "outputs": [
    {
     "name": "stdout",
     "output_type": "stream",
     "text": [
      "P(Sum = 7) = 0.17\n",
      "P(Sum = 8) = 0.14\n",
      "P(Sum = 9) = 0.11\n"
     ]
    },
    {
     "name": "stderr",
     "output_type": "stream",
     "text": [
      "C:\\Users\\falabella\\AppData\\Local\\Temp\\ipykernel_7268\\1802428477.py:34: FutureWarning: \n",
      "\n",
      "Passing `palette` without assigning `hue` is deprecated and will be removed in v0.14.0. Assign the `x` variable to `hue` and set `legend=False` for the same effect.\n",
      "\n",
      "  sns.countplot(data=df, x='Sum', palette='viridis')\n"
     ]
    },
    {
     "data": {
      "image/png": "[encoded data removed]",
      "text/plain": [
       "<Figure size 640x480 with 1 Axes>"
      ]
     },
     "metadata": {},
     "output_type": "display_data"
    }
   ],
   "source": [
    "import random\n",
    "import seaborn as sns\n",
    "import matplotlib.pyplot as plt\n",
    "import pandas as pd\n",
    "\n",
    "# Step 1: Calculate probabilities\n",
    "total_outcomes = 36\n",
    "\n",
    "# Favorable outcomes\n",
    "sum_7_outcomes = 6  # (1,6), (2,5), (3,4), (4,3), (5,2), (6,1)\n",
    "sum_8_outcomes = 5  # (2,6), (3,5), (4,4), (5,3), (6,2)\n",
    "sum_9_outcomes = 4  # (3,6), (4,5), (5,4), (6,3)\n",
    "\n",
    "# Calculate probabilities\n",
    "P_sum_7 = sum_7_outcomes / total_outcomes\n",
    "P_sum_8 = sum_8_outcomes / total_outcomes\n",
    "P_sum_9 = sum_9_outcomes / total_outcomes\n",
    "\n",
    "print(f\"P(Sum = 7) = {P_sum_7:.2f}\")\n",
    "print(f\"P(Sum = 8) = {P_sum_8:.2f}\")\n",
    "print(f\"P(Sum = 9) = {P_sum_9:.2f}\")\n",
    "\n",
    "# Step 2: Simulate rolling two dice 10,000 times\n",
    "simulations = 10000\n",
    "results = []\n",
    "\n",
    "for _ in range(simulations):\n",
    "    die1 = random.randint(1, 6)\n",
    "    die2 = random.randint(1, 6)\n",
    "    results.append(die1 + die2)\n",
    "\n",
    "# Step 3: Create a count plot\n",
    "df = pd.DataFrame(results, columns=['Sum'])\n",
    "sns.countplot(data=df, x='Sum', palette='viridis')\n",
    "plt.title('Count Plot of Sums from Rolling Two Dice (10,000 Simulations)')\n",
    "plt.xlabel('Sum of Two Dice')\n",
    "plt.ylabel('Frequency')\n",
    "plt.xticks(range(2, 13))  # Dice sums range from 2 to 12\n",
    "plt.show()"
   ]
  }
 ],
 "metadata": {
  "kernelspec": {
   "display_name": "Python 3",
   "language": "python",
   "name": "python3"
  },
  "language_info": {
   "codemirror_mode": {
    "name": "ipython",
    "version": 3
   },
   "file_extension": ".py",
   "mimetype": "text/x-python",
   "name": "python",
   "nbconvert_exporter": "python",
   "pygments_lexer": "ipython3",
   "version": "3.12.6"
  },
  "toc": {
   "base_numbering": 1,
   "nav_menu": {},
   "number_sections": false,
   "sideBar": true,
   "skip_h1_title": false,
   "title_cell": "Table of Contents",
   "title_sidebar": "Contents",
   "toc_cell": false,
   "toc_position": {
    "height": "calc(100% - 180px)",
    "left": "10px",
    "top": "150px",
    "width": "296.475px"
   },
   "toc_section_display": true,
   "toc_window_display": false
  },
  "varInspector": {
   "cols": {
    "lenName": 16,
    "lenType": 16,
    "lenVar": 40
   },
   "kernels_config": {
    "python": {
     "delete_cmd_postfix": "",
     "delete_cmd_prefix": "del ",
     "library": "var_list.py",
     "varRefreshCmd": "print(var_dic_list())"
    },
    "r": {
     "delete_cmd_postfix": ") ",
     "delete_cmd_prefix": "rm(",
     "library": "var_list.r",
     "varRefreshCmd": "cat(var_dic_list()) "
    }
   },
   "types_to_exclude": [
    "module",
    "function",
    "builtin_function_or_method",
    "instance",
    "_Feature"
   ],
   "window_display": false
  }
 },
 "nbformat": 4,
 "nbformat_minor": 2
}
