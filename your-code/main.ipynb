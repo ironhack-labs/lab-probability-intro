{
 "cells": [
  {
   "cell_type": "markdown",
   "metadata": {},
   "source": [
    "# Probability"
   ]
  },
  {
   "cell_type": "markdown",
   "metadata": {},
   "source": [
    "## Challenge 1\n",
    "There is a box with 10 white balls, 12 red balls and 8 black balls. Calculate the probability of:\n",
    "* Taking a white ball out.\n",
    "* Taking a white ball on first extraction and a black ball out on second extraction without replacing the first one.\n",
    "* Taking a white ball on first extraction and a black ball out on second extraction replacing the first one.\n",
    "* Taking 3 balls and them being all different colours."
   ]
  },
  {
   "cell_type": "code",
   "execution_count": 39,
   "metadata": {},
   "outputs": [
    {
     "name": "stdout",
     "output_type": "stream",
     "text": [
      "The probability of taking a white ball out is 0.3333.\n",
      "The probability of taking a white ball out on the first extraction\n",
      "and a black ball out on the second extraction, without replacement is 0.0919.\n",
      "The probability of taking a white ball out on the first extraction\n",
      "and a black ball out on the second extraction, with replacement is 0.0889.\n",
      "The probability of taking three balls and them being all different colors is 0.2365.\n"
     ]
    }
   ],
   "source": [
    "# YOUR CODE HERE\n",
    "t_white = 10\n",
    "t_red = 12\n",
    "t_black = 8\n",
    "total = t_white + t_red + t_black\n",
    "total2=total - 1 #for when we have consecutive extravtions without replacement\n",
    "total3 = total - 2\n",
    "p_white = round(t_white/total,4)\n",
    "p_black = t_black/total\n",
    "p_black2 = t_black/total2\n",
    "p_wrb = (t_white / total) * (t_red / total2) * (t_black / total3)\n",
    "p_wbr = (t_white / total) * (t_black / total2) * (t_red / total3)\n",
    "p_rwb = (t_red / total) * (t_white / total2) * (t_black / total3)\n",
    "p_rbw = (t_red / total) * (t_black / total2) * (t_white / total3)\n",
    "p_bwr = (t_black / total) * (t_white / total2) * (t_red / total3)\n",
    "p_brw = (t_black / total) * (t_red / total2) * (t_white / total3)\n",
    "p_all_different = (p_wrb + p_wbr + p_rwb + p_rbw + p_bwr + p_brw)\n",
    "\"\"\"\n",
    "It's the same of estimating\n",
    "((t_white * t_red * t_black) / (total * total2 * (total3))) * 6\n",
    "\n",
    "\"\"\"\n",
    "print(f\"The probability of taking a white ball out is {p_white}.\")\n",
    "print(f\"The probability of taking a white ball out on the first extraction\\nand a black ball out on the second extraction, without replacement is {round(p_white * p_black2,4)}.\")\n",
    "print(f\"The probability of taking a white ball out on the first extraction\\nand a black ball out on the second extraction, with replacement is {round(p_white * p_black,4)}.\")\n",
    "print(f\"The probability of taking three balls and them being all different colors is {round(p_all_different,4)}.\")"
   ]
  },
  {
   "cell_type": "markdown",
   "metadata": {},
   "source": [
    "## Challenge 2\n",
    "\n",
    "You want to go on picnic on Saturday. You hate rain, and would know to plan your weekend. To help you make a decision, you gather the following data about rainy days:\n",
    "\n",
    "* 40% of all days are cloudy.\n",
    "* About 50% of cloudy days are rainy. \n",
    "* About 20% of non-cloudy days are rainy.\n",
    "\n",
    "What is the chance of rain during next Saturday?"
   ]
  },
  {
   "cell_type": "code",
   "execution_count": 43,
   "metadata": {},
   "outputs": [
    {
     "name": "stdout",
     "output_type": "stream",
     "text": [
      "The probability of rain during next saturday is 0.32.\n"
     ]
    }
   ],
   "source": [
    "# YOUR CODE HERE\n",
    "p_cloudy = 0.4\n",
    "p_rain_cloudy = 0.5\n",
    "p_rain_not_cloudy = 0.2\n",
    "p_clear_sky = 1 - p_cloudy\n",
    "p_rain = (p_cloudy * p_rain_cloudy) + (p_clear_sky * p_rain_not_cloudy)\n",
    "print(f\"The probability of rain during next saturday is {p_rain}.\")"
   ]
  },
  {
   "cell_type": "markdown",
   "metadata": {},
   "source": [
    "## Challenge 3\n",
    "\n",
    "A and B are events of a probability such that $P(A) = 0.3$, $P(B) = 0.6$ and $P(A \\cap B) = 0.1$\n",
    "\n",
    "Which of the following statements are true?  \n",
    "**HINT: draw a big Venn Diagram by your side**  \n",
    "* $P(\\overline{A}) = 0.7$\n",
    "* $P(A \\cup B) = 0.6$\n",
    "* $P(A \\cap \\overline{B}) = 0.2$\n",
    "* $P(A \\cup \\overline{A}) = 1$  \n",
    "* $P(A \\cap (B \\cup \\overline{B})) = 0.4$\n",
    "* $P(\\overline{A} \\cap \\overline{B}) = 0.3$\n",
    "* $P(\\overline{A \\cap B}) = 0.9$"
   ]
  },
  {
   "cell_type": "code",
   "execution_count": 74,
   "metadata": {},
   "outputs": [
    {
     "name": "stdout",
     "output_type": "stream",
     "text": [
      "True\n",
      "False\n",
      "True\n",
      "True\n",
      "False\n",
      "False\n",
      "True\n"
     ]
    }
   ],
   "source": [
    "# YOUR CODE HERE\n",
    "p_a = 0.3\n",
    "p_b = 0.6\n",
    "p_a_and_b = 0.1\n",
    "print(1-p_a == 0.7)\n",
    "print(p_a + p_b - p_a_and_b == 0.6)\n",
    "print(round((p_a - p_a_and_b),1) == 0.2)\n",
    "print(1 == 1) #It's the total sample universe\n",
    "print(p_a == 0.4)\n",
    "print(1 - (p_a + p_b - p_a_and_b) == 0.3)\n",
    "print(1 - p_a_and_b == 0.9)"
   ]
  },
  {
   "cell_type": "markdown",
   "metadata": {},
   "source": [
    "## Challenge 4\n",
    "\n",
    " * If someone flies to China, the probability of getting Covid is 1%  \n",
    " * If someone flies to Italy, the probability of getting Covid is 20%  \n",
    "\n",
    "I roll 1 dice with numbers 1, 2, 3, 4, 5, 6:  \n",
    " * If 1: I fly to Italy\n",
    " * If not 1: I fly to China\n",
    "\n",
    "During my trip, I got Covid. What is the probability that I flew to China?"
   ]
  },
  {
   "cell_type": "code",
   "execution_count": 89,
   "metadata": {},
   "outputs": [
    {
     "name": "stdout",
     "output_type": "stream",
     "text": [
      "0.2\n"
     ]
    }
   ],
   "source": [
    "# YOUR CODE HERE\n",
    "p_covid_china = 0.01\n",
    "p_covid_italy = 0.2\n",
    "p_china = 5/6\n",
    "p_italy = 1/6\n",
    "p_covid = (p_covid_italy * p_italy) + (p_covid_china * p_china)\n",
    "p_china_given_covid = (p_covid_china * p_china)/(p_covid)\n",
    "print(round(p_china_given_covid,3))"
   ]
  },
  {
   "cell_type": "markdown",
   "metadata": {},
   "source": [
    "## BONUS\n",
    "\n",
    "You roll 2 dice. What is the probability that the sum of the numbers is 7? And 8? And 9? Then simulate 10000 times and draw a countplot."
   ]
  },
  {
   "cell_type": "markdown",
   "metadata": {},
   "source": [
    "your explanation here"
   ]
  },
  {
   "cell_type": "code",
   "execution_count": 109,
   "metadata": {},
   "outputs": [
    {
     "name": "stdout",
     "output_type": "stream",
     "text": [
      "The probability that the sum of the numbers is 7 is 0.17\n",
      "The probability that the sum of the numbers is 8 is 0.14\n",
      "The probability that the sum of the numbers is 9 is 0.11\n"
     ]
    },
    {
     "data": {
      "image/png": "[encoded data removed]",
      "text/plain": [
       "<Figure size 1000x600 with 1 Axes>"
      ]
     },
     "metadata": {},
     "output_type": "display_data"
    }
   ],
   "source": [
    "# YOUR CODE HERE\n",
    "import random\n",
    "import matplotlib.pyplot as plt\n",
    "import seaborn as sns\n",
    "\n",
    "die = [1, 2, 3, 4, 5, 6]\n",
    "total_outcomes = len(die) ** 2\n",
    "\n",
    "sum_7 = sum(1 for x in die for y in die if x + y == 7)\n",
    "sum_8 = sum(1 for x in die for y in die if x + y == 8)\n",
    "sum_9 = sum(1 for x in die for y in die if x + y == 9)\n",
    "\n",
    "prob_7 = round((sum_7 / total_outcomes),2)\n",
    "prob_8 = round((sum_8 / total_outcomes),2)\n",
    "prob_9 = round((sum_9 / total_outcomes),2)\n",
    "\n",
    "print(f\"The probability that the sum of the numbers is 7 is {prob_7}\")\n",
    "print(f\"The probability that the sum of the numbers is 8 is {prob_8}\")\n",
    "print(f\"The probability that the sum of the numbers is 9 is {prob_9}\")\n",
    "\n",
    "simulated_sums = [random.randint(1, 6) + random.randint(1, 6) for _ in range(10000)]\n",
    "\n",
    "sum_counts = {i: 0 for i in range(2, 13)}\n",
    "for s in simulated_sums:\n",
    "    sum_counts[s] += 1\n",
    "\n",
    "\n",
    "sums = list(sum_counts.keys())\n",
    "frequencies = list(sum_counts.values())\n",
    "\n",
    "\n",
    "plt.figure(figsize=(10, 6))\n",
    "sns.barplot(x=sums, y=frequencies, color=\"purple\")\n",
    "plt.title(\"Countplot of Sums in 10,000 Dice Rolls\")\n",
    "plt.xlabel(\"Sum\")\n",
    "plt.ylabel(\"Frequency\")\n",
    "plt.xticks(range(2, 13))\n",
    "plt.show()"
   ]
  },
  {
   "cell_type": "code",
   "execution_count": null,
   "metadata": {},
   "outputs": [],
   "source": []
  }
 ],
 "metadata": {
  "kernelspec": {
   "display_name": "Python 3 (ipykernel)",
   "language": "python",
   "name": "python3"
  },
  "language_info": {
   "codemirror_mode": {
    "name": "ipython",
    "version": 3
   },
   "file_extension": ".py",
   "mimetype": "text/x-python",
   "name": "python",
   "nbconvert_exporter": "python",
   "pygments_lexer": "ipython3",
   "version": "3.12.4"
  },
  "toc": {
   "base_numbering": 1,
   "nav_menu": {},
   "number_sections": false,
   "sideBar": true,
   "skip_h1_title": false,
   "title_cell": "Table of Contents",
   "title_sidebar": "Contents",
   "toc_cell": false,
   "toc_position": {
    "height": "calc(100% - 180px)",
    "left": "10px",
    "top": "150px",
    "width": "296.475px"
   },
   "toc_section_display": true,
   "toc_window_display": false
  },
  "varInspector": {
   "cols": {
    "lenName": 16,
    "lenType": 16,
    "lenVar": 40
   },
   "kernels_config": {
    "python": {
     "delete_cmd_postfix": "",
     "delete_cmd_prefix": "del ",
     "library": "var_list.py",
     "varRefreshCmd": "print(var_dic_list())"
    },
    "r": {
     "delete_cmd_postfix": ") ",
     "delete_cmd_prefix": "rm(",
     "library": "var_list.r",
     "varRefreshCmd": "cat(var_dic_list()) "
    }
   },
   "types_to_exclude": [
    "module",
    "function",
    "builtin_function_or_method",
    "instance",
    "_Feature"
   ],
   "window_display": false
  }
 },
 "nbformat": 4,
 "nbformat_minor": 4
}
