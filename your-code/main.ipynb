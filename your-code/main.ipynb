{
 "cells": [
  {
   "cell_type": "markdown",
   "metadata": {},
   "source": [
    "# Probability"
   ]
  },
  {
   "cell_type": "markdown",
   "metadata": {},
   "source": [
    "## Challenge 1\n",
    "There is a box with 10 white balls, 12 red balls and 8 black balls. Calculate the probability of:\n",
    "* Taking a white ball out.\n",
    "* Taking a white ball on first extraction and a black ball out on second extraction without replacing the first one.\n",
    "* Taking a white ball on first extraction and a black ball out on second extraction replacing the first one.\n",
    "* Taking 3 balls and them being all different colours."
   ]
  },
  {
   "cell_type": "code",
   "execution_count": 33,
   "metadata": {},
   "outputs": [
    {
     "name": "stdout",
     "output_type": "stream",
     "text": [
      "Probability of... \n",
      "\n",
      "... taking a white ball out: 0.3333\n",
      "... white (1st) and black (2nd) without replacement: 0.0920\n",
      "... of white (1st) and black (2nd) with replacement: 0.0889\n",
      "... 3 balls being all different colours: 0.2365\n"
     ]
    }
   ],
   "source": [
    "from math import comb # \"comb\" calculates the number of ways to choose k elements from n regardless of the order.\n",
    "                    # it could solve with a factorial recursive function (more expensive)\n",
    "\n",
    "white_balls = 10\n",
    "red_balls = 12\n",
    "black_balls = 8\n",
    "total_balls = white_balls + red_balls + black_balls\n",
    "\n",
    "print('Probability of... \\n')\n",
    "\n",
    "wb_probability = white_balls / total_balls\n",
    "print(f'... taking a white ball out: {wb_probability:.4f}')\n",
    "\n",
    "wb1st_bb2nd_probability = wb_probability * (black_balls / (total_balls - 1)) # without replacing the first one\n",
    "print(f\"... white (1st) and black (2nd) without replacement: {wb1st_bb2nd_probability:.4f}\")\n",
    "\n",
    "bb_probability = black_balls / total_balls\n",
    "bb2nd_probability = wb_probability * bb_probability\n",
    "print(f'... of white (1st) and black (2nd) with replacement: {bb2nd_probability:.4f}')\n",
    "\n",
    "ways_to_choose_different_colors = comb(white_balls, 1) * comb(red_balls, 1) * comb(black_balls, 1)\n",
    "total_ways_to_choose_3_balls = comb(total_balls, 3)\n",
    "diferent_colors = ways_to_choose_different_colors / total_ways_to_choose_3_balls\n",
    "print(f'... 3 balls being all different colours: {diferent_colors:.4f}')"
   ]
  },
  {
   "cell_type": "markdown",
   "metadata": {},
   "source": [
    "## Challenge 2\n",
    "\n",
    "You want to go on picnic on Saturday. You hate rain, and would know to plan your weekend. To help you make a decision, you gather the following data about rainy days:\n",
    "\n",
    "* 40% of all days are cloudy.\n",
    "* About 50% of cloudy days are rainy. \n",
    "* About 20% of non-cloudy days are rainy.\n",
    "\n",
    "What is the chance of rain during next Saturday?"
   ]
  },
  {
   "cell_type": "code",
   "execution_count": 75,
   "metadata": {},
   "outputs": [
    {
     "name": "stdout",
     "output_type": "stream",
     "text": [
      "The chance of rain on Saturday is: 0.3200 or 32.00%\n"
     ]
    }
   ],
   "source": [
    "# YOUR CODE HERE\n",
    "p_cloudy = 0.40\n",
    "p_rain_and_clody = 0.5\n",
    "p_rain_and_not_cloudy = 0.2\n",
    "\n",
    "p_not_cloudy = 1 - p_cloudy\n",
    "\n",
    "p_rain = (p_rain_and_clody * p_cloudy) + (p_rain_and_not_cloudy * p_not_cloudy)\n",
    "\n",
    "print(f\"The chance of rain on Saturday is: {p_rain:.4f} or {p_rain*100:.2f}%\")"
   ]
  },
  {
   "cell_type": "markdown",
   "metadata": {},
   "source": [
    "## Challenge 3\n",
    "\n",
    "A and B are events of a probability such that $P(A) = 0.3$, $P(B) = 0.6$ and $P(A \\cap B) = 0.1$\n",
    "\n",
    "Which of the following statements are true?  \n",
    "**HINT: draw a big Venn Diagram by your side**  \n",
    "* $P(\\overline{A}) = 0.7$\n",
    "* $P(A \\cup B) = 0.6$\n",
    "* $P(A \\cap \\overline{B}) = 0.2$\n",
    "* $P(A \\cup \\overline{A}) = 1$  \n",
    "* $P(A \\cap (B \\cup \\overline{B})) = 0.4$\n",
    "* $P(\\overline{A} \\cap \\overline{B}) = 0.3$\n",
    "* $P(\\overline{A \\cap B}) = 0.9$"
   ]
  },
  {
   "cell_type": "code",
   "execution_count": 41,
   "metadata": {},
   "outputs": [
    {
     "name": "stdout",
     "output_type": "stream",
     "text": [
      "1. P(not A) = 0.7\n",
      "2. P(A union B) = 0.8\n",
      "3. P(A and not B) = 0.2\n",
      "4. P(A union not A) = 1.0\n",
      "5. P(A and (B union not B)) = 0.3\n",
      "6. P(not (A and B)) = 0.9\n",
      "7. P(A union not B) = 0.5\n"
     ]
    }
   ],
   "source": [
    "# Initial Values\n",
    "P_A = 0.3\n",
    "P_B = 0.6\n",
    "P_A_and_B = 0.1\n",
    "\n",
    "# 1. P(not A)\n",
    "P_not_A = 1 - P_A\n",
    "print(f\"1. P(not A) = {P_not_A:.1f}\")\n",
    "\n",
    "# 2. P(A union B)\n",
    "P_A_union_B = P_A + P_B - P_A_and_B\n",
    "print(f\"2. P(A union B) = {P_A_union_B:.1f}\")\n",
    "\n",
    "# 3. P(A and not B)\n",
    "P_A_and_not_B = P_A - P_A_and_B\n",
    "print(f\"3. P(A and not B) = {P_A_and_not_B:.1f}\")\n",
    "\n",
    "# 4. P(A union not A)\n",
    "P_A_union_not_A = 1  # Always 1 because A union not A is the entire sample space\n",
    "print(f\"4. P(A union not A) = {P_A_union_not_A:.1f}\")\n",
    "\n",
    "# 5. P(A and (B union not B))\n",
    "P_B_union_not_B = 1  # B union not B is the entire sample space\n",
    "P_A_and_B_union_not_B = P_A  # A and the entire sample space is just A\n",
    "print(f\"5. P(A and (B union not B)) = {P_A_and_B_union_not_B:.1f}\")\n",
    "\n",
    "# 6. P(not (A and B))\n",
    "P_not_A_and_B = 1 - P_A_and_B\n",
    "print(f\"6. P(not (A and B)) = {P_not_A_and_B:.1f}\")\n",
    "\n",
    "# 7. P(A union not B)\n",
    "P_not_B = 1 - P_B\n",
    "P_A_union_not_B = P_A + P_not_B - P_A_and_not_B\n",
    "print(f\"7. P(A union not B) = {P_A_union_not_B:.1f}\")"
   ]
  },
  {
   "cell_type": "markdown",
   "metadata": {},
   "source": [
    "## Challenge 4\n",
    "\n",
    " * If someone flies to China, the probability of getting Covid is 1%  \n",
    " * If someone flies to Italy, the probability of getting Covid is 20%  \n",
    "\n",
    "I roll 1 dice with numbers 1, 2, 3, 4, 5, 6:  \n",
    " * If 1: I fly to Italy\n",
    " * If not 1: I fly to China\n",
    "\n",
    "During my trip, I got Covid. What is the probability that I flew to China?"
   ]
  },
  {
   "cell_type": "code",
   "execution_count": 43,
   "metadata": {},
   "outputs": [
    {
     "name": "stdout",
     "output_type": "stream",
     "text": [
      "Probability of getting Covid during the trip: 0.0417\n",
      "Probability of having flown to China given that you got Covid: 0.2000\n"
     ]
    }
   ],
   "source": [
    "# Define the probabilities\n",
    "P_Covid_given_C = 0.01  # Probability of getting Covid if flying to China\n",
    "P_Covid_given_I = 0.20  # Probability of getting Covid if flying to Italy\n",
    "\n",
    "P_I = 1 / 6  # Probability of flying to Italy\n",
    "P_C = 5 / 6  # Probability of flying to China\n",
    "\n",
    "# Calculate the total probability of getting Covid (P(Covid))\n",
    "P_Covid = (P_Covid_given_C * P_C) + (P_Covid_given_I * P_I)\n",
    "\n",
    "# Apply Bayes' Theorem to calculate P(C | Covid) - Get Covid in China\n",
    "P_C_given_Covid = (P_Covid_given_C * P_C) / P_Covid\n",
    "\n",
    "# Results\n",
    "print(f\"Probability of getting Covid during the trip: {P_Covid:.4f}\")\n",
    "print(f\"Probability of having flown to China given that you got Covid: {P_C_given_Covid:.4f}\")"
   ]
  },
  {
   "cell_type": "markdown",
   "metadata": {},
   "source": [
    "## BONUS\n",
    "\n",
    "You roll 2 dice. What is the probability that the sum of the numbers is 7? And 8? And 9? Then simulate 10000 times and draw a countplot."
   ]
  },
  {
   "cell_type": "markdown",
   "metadata": {},
   "source": [
    "## Theorical probabilities:\n",
    "\n",
    "To calculate the probability of obtaining a specific sum, we use the formulta: \n",
    "\n",
    "- P(sum) = Number of combinations the product sum divide by Total of possible combinations (36)\n",
    "\n",
    "### P(sum) = # of combinations / 36\n",
    "\n",
    "- Probability of 7 = P(7) = 6 / 36 = 0.1667 \n",
    "    6 is the numbers of combination to get 7: (1,6), (6,1), (5, 2), (2,5), (3,4), (4,3) : 6 combinations\n",
    "\n",
    "- Probability of 8 = P(8) = 5 / 36 = 0.139 \n",
    "    (2,6), (6,2), (5,3), (3,5), (4,4) : 5 combinations\n",
    "\n",
    "- Probability of 9 = P(9) = 4 / 36 = 0.111 \n",
    "    (3,6), (6,3), (4,5), (5,4) : 4 combinations\n",
    "\n",
    "\n",
    "## Simulates rolling two dice 10,000 times provides a more direct representation of the probability calculations and allows to verify the results."
   ]
  },
  {
   "cell_type": "code",
   "execution_count": 71,
   "metadata": {},
   "outputs": [
    {
     "name": "stdout",
     "output_type": "stream",
     "text": [
      "Theoretical Probabilities:\n",
      "Sum 7: 0.1667\n",
      "Sum 8: 0.1389\n",
      "Sum 9: 0.1111\n"
     ]
    },
    {
     "data": {
      "image/png": "[encoded data removed]",
      "text/plain": [
       "<Figure size 1000x600 with 1 Axes>"
      ]
     },
     "metadata": {},
     "output_type": "display_data"
    }
   ],
   "source": [
    "import matplotlib.pyplot as plt\n",
    "import seaborn as sns\n",
    "import random\n",
    "\n",
    "\n",
    "# Function to simulate rolling two dice and get the sum of two dice\n",
    "def simulate_rolls(num_rolls):\n",
    "    simulated_sums = []\n",
    "    for _ in range(num_rolls):\n",
    "        die1 = random.randint(1, 6)\n",
    "        die2 = random.randint(1, 6)\n",
    "        simulated_sums.append(die1 + die2)\n",
    "    return simulated_sums\n",
    "\n",
    "# Function to calculate theoretical probabilities of all combinations for 7,8,9\n",
    "def calculate_probabilities():\n",
    "    total_outcomes = 6 * 6  # Total possible outcomes for two dice\n",
    "    sums_count = {7: 0, 8: 0, 9: 0}  # Count outcomes for sums 7, 8, 9\n",
    "\n",
    "    # Iterate through all dice combinations\n",
    "    for die1 in range(1, 7):\n",
    "        for die2 in range(1, 7):\n",
    "            dice_sum = die1 + die2\n",
    "            if dice_sum in sums_count:\n",
    "                sums_count[dice_sum] += 1\n",
    "\n",
    "    # Calculate probabilities\n",
    "    probabilities = {s: count / total_outcomes for s, count in sums_count.items()}\n",
    "    return probabilities\n",
    "\n",
    "\n",
    "# Theoretical probabilities\n",
    "theoretical_probs = calculate_probabilities()\n",
    "print(\"Theoretical Probabilities:\")\n",
    "for s, prob in theoretical_probs.items():\n",
    "    print(f\"Sum {s}: {prob:.4f}\")\n",
    "\n",
    "# Simulate 10,000 rolls\n",
    "num_simulations = 1000\n",
    "simulated_sums = simulate_rolls(num_simulations)\n",
    "\n",
    "# Plot the simulation results\n",
    "plt.figure(figsize=(10, 6))\n",
    "sns.countplot(x=simulated_sums, order=range(2, 13))\n",
    "plt.title(f\"Countplot of Sums from {num_simulations} Simulated Rolls of Two Dice\")\n",
    "plt.xlabel(\"Sum of Two Dice\")\n",
    "plt.ylabel(\"Frequency\")\n",
    "plt.xticks(range(2, 13))  # Possible sums from 2 to 12\n",
    "plt.show()"
   ]
  },
  {
   "cell_type": "code",
   "execution_count": null,
   "metadata": {},
   "outputs": [],
   "source": []
  }
 ],
 "metadata": {
  "kernelspec": {
   "display_name": "Python 3 (ipykernel)",
   "language": "python",
   "name": "python3"
  },
  "language_info": {
   "codemirror_mode": {
    "name": "ipython",
    "version": 3
   },
   "file_extension": ".py",
   "mimetype": "text/x-python",
   "name": "python",
   "nbconvert_exporter": "python",
   "pygments_lexer": "ipython3",
   "version": "3.12.7"
  },
  "toc": {
   "base_numbering": 1,
   "nav_menu": {},
   "number_sections": false,
   "sideBar": true,
   "skip_h1_title": false,
   "title_cell": "Table of Contents",
   "title_sidebar": "Contents",
   "toc_cell": false,
   "toc_position": {
    "height": "calc(100% - 180px)",
    "left": "10px",
    "top": "150px",
    "width": "296.475px"
   },
   "toc_section_display": true,
   "toc_window_display": false
  },
  "varInspector": {
   "cols": {
    "lenName": 16,
    "lenType": 16,
    "lenVar": 40
   },
   "kernels_config": {
    "python": {
     "delete_cmd_postfix": "",
     "delete_cmd_prefix": "del ",
     "library": "var_list.py",
     "varRefreshCmd": "print(var_dic_list())"
    },
    "r": {
     "delete_cmd_postfix": ") ",
     "delete_cmd_prefix": "rm(",
     "library": "var_list.r",
     "varRefreshCmd": "cat(var_dic_list()) "
    }
   },
   "types_to_exclude": [
    "module",
    "function",
    "builtin_function_or_method",
    "instance",
    "_Feature"
   ],
   "window_display": false
  }
 },
 "nbformat": 4,
 "nbformat_minor": 4
}
