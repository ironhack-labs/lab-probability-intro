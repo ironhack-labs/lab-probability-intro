{
 "cells": [
  {
   "cell_type": "markdown",
   "metadata": {},
   "source": [
    "# Probability"
   ]
  },
  {
   "cell_type": "markdown",
   "metadata": {},
   "source": [
    "## Challenge 1\n",
    "There is a box with 10 white balls, 12 red balls and 8 black balls. Calculate the probability of:\n",
    "* Taking a white ball out.\n",
    "* Taking a white ball on first extraction and a black ball out on second extraction without replacing the first one.\n",
    "* Taking a white ball on first extraction and a black ball out on second extraction replacing the first one.\n",
    "* Taking 3 balls and them being all different colours."
   ]
  },
  {
   "cell_type": "code",
   "execution_count": 2,
   "metadata": {},
   "outputs": [
    {
     "name": "stdout",
     "output_type": "stream",
     "text": [
      "Probability of drawing 1 white ball: 0.3333\n",
      "Probability of drawing 1 white ball and 1 Black Ball: 0.0920\n",
      "Probability of drawing 1 white ball, replacing it, and 1 Black Ball: 0.0889\n",
      "Probability of drawing 3 balls all of different colors: 0.2365\n"
     ]
    }
   ],
   "source": [
    "# YOUR CODE HERE\n",
    "import math\n",
    "total_balls = 30\n",
    "\n",
    "ex1 = 10/30\n",
    "\n",
    "## White ball in 1st extraction and Black ball on 2nd extraction without replacing\n",
    "ex2 = 10/30 * 8/29\n",
    "\n",
    "## White ball on 1st extration and Black ball on 2nd extraction replacing the first one\n",
    "ex3 = 10/30 * 8/30\n",
    "\n",
    "## Taking 3 balls and them being all different colours\n",
    "## Total number of ways to choose 3 balls\n",
    "## Number of ways to choose 1 white ball (10), 1 red ball (12) and 1 black ball (8) = 10 x 12 x 8\n",
    "ex4_favorable_outcomes= 10*12*8\n",
    "ex4_possible_outcomes=math.comb(total_balls,3)\n",
    "ex4 = ex4_favorable_outcomes/ex4_possible_outcomes\n",
    "\n",
    "#print\n",
    "print(f'Probability of drawing 1 white ball: {ex1:.4f}')\n",
    "print(f'Probability of drawing 1 white ball and 1 Black Ball: {ex2:.4f}')\n",
    "print(f'Probability of drawing 1 white ball, replacing it, and 1 Black Ball: {ex3:.4f}')\n",
    "print(f\"Probability of drawing 3 balls all of different colors: {ex4:.4f}\")"
   ]
  },
  {
   "cell_type": "markdown",
   "metadata": {},
   "source": [
    "## Challenge 2\n",
    "\n",
    "You want to go on picnic on Saturday. You hate rain, and would know to plan your weekend. To help you make a decision, you gather the following data about rainy days:\n",
    "\n",
    "* 40% of all days are cloudy.\n",
    "* About 50% of cloudy days are rainy. \n",
    "* About 20% of non-cloudy days are rainy.\n",
    "\n",
    "What is the chance of rain during next Saturday?"
   ]
  },
  {
   "cell_type": "markdown",
   "metadata": {},
   "source": [
    "Answer:\n",
    "\n",
    "- P(cloudy) = 0.4\n",
    "- P(rain|cloudy) = 0.5\n",
    "- P(non-cloudy) = 1-P(cloudy) = 0.6\n",
    "- P(rain|non-cloudy) = 0.2\n",
    "\n",
    "Calculate: probability of rain on a claudy day + probability of rain in a non-cloudy day\n",
    "\n",
    "P(Rain) = P(Cloudy) * P(Rain∣Cloudy) + P(Non-Cloudy) *P(Rain∣Non-Cloudy)\n"
   ]
  },
  {
   "cell_type": "code",
   "execution_count": 8,
   "metadata": {},
   "outputs": [
    {
     "name": "stdout",
     "output_type": "stream",
     "text": [
      "Probability of raining next Saturday: 0.32\n"
     ]
    }
   ],
   "source": [
    "p_rain = (0.4*0.5)+(0.6*0.2)\n",
    "print(f\"Probability of raining next Saturday: {p_rain:.2f}\")"
   ]
  },
  {
   "cell_type": "markdown",
   "metadata": {},
   "source": [
    "## Challenge 3\n",
    "\n",
    "A and B are events of a probability such that \n",
    "$P(A) = 0.3$, \n",
    "$P(B) = 0.6$ and \n",
    "$P(A \\cap B) = 0.1$\n",
    "\n",
    "Which of the following statements are true?  \n",
    "**HINT: draw a big Venn Diagram by your side**  \n",
    "* $P(\\overline{A}) = 0.7$\n",
    "* $P(A \\cup B) = 0.6$\n",
    "* $P(A \\cap \\overline{B}) = 0.2$\n",
    "* $P(A \\cup \\overline{A}) = 1$  \n",
    "* $P(A \\cap (B \\cup \\overline{B})) = 0.4$\n",
    "* $P(\\overline{A} \\cap \\overline{B}) = 0.3$\n",
    "* $P(\\overline{A \\cap B}) = 0.9$"
   ]
  },
  {
   "cell_type": "code",
   "execution_count": 9,
   "metadata": {},
   "outputs": [],
   "source": [
    "## P(A) = 0.3\n",
    "## P(B) = 0.6\n",
    "## P(AB) = 0.1\n",
    "\n",
    "# 1) 0.7 TRUE\n",
    "# 2) 0.3 + 0.6 - 0.1 = 0.8 FALSE\n",
    "# 3) 0.3 - 0.1 = 0.2 TRUE\n",
    "# 4) 0.3 + 0.7 = 1 TRUE\n",
    "# 5) 0.3 FALSE\n",
    "# 6) 1 - 0.8 = 0.2 FALSE\n",
    "# 7) 1- 0.1 = 0.9 TRUE\n",
    "\n"
   ]
  },
  {
   "cell_type": "markdown",
   "metadata": {},
   "source": [
    "## Challenge 4\n",
    "\n",
    " * If someone flies to China, the probability of getting Covid is 1%  \n",
    " * If someone flies to Italy, the probability of getting Covid is 20%  \n",
    "\n",
    "I roll 1 dice with numbers 1, 2, 3, 4, 5, 6:  \n",
    " * If 1: I fly to Italy\n",
    " * If not 1: I fly to China\n",
    "\n",
    "During my trip, I got Covid. What is the probability that I flew to China?"
   ]
  },
  {
   "cell_type": "code",
   "execution_count": 13,
   "metadata": {},
   "outputs": [
    {
     "data": {
      "text/plain": [
       "0.2"
      ]
     },
     "execution_count": 13,
     "metadata": {},
     "output_type": "execute_result"
    }
   ],
   "source": [
    "#P(covid_china)= 0.01\n",
    "#P(covid_italy)= 0.2\n",
    "\n",
    "#dice(italy) = 1/6\n",
    "#dice(china) = 5/6\n",
    "\n",
    "#P(china/covid) = (covid_china)*dice(china)/P(covid)\n",
    "\n",
    "#p_covid = (0.2*1/6)+(0.01*5/6) = 0.0416\n",
    "\n",
    "p_china_covid = (0.01*5/6)/p_covid\n",
    "p_china_covid\n"
   ]
  },
  {
   "cell_type": "markdown",
   "metadata": {},
   "source": [
    "## BONUS\n",
    "\n",
    "You roll 2 dice. What is the probability that the sum of the numbers is 7? And 8? And 9? Then simulate 10000 times and draw a countplot."
   ]
  },
  {
   "cell_type": "markdown",
   "metadata": {},
   "source": [
    "your explanation here"
   ]
  },
  {
   "cell_type": "code",
   "execution_count": 17,
   "metadata": {},
   "outputs": [
    {
     "name": "stdout",
     "output_type": "stream",
     "text": [
      "Probability of sum 7: 0.17\n",
      "Probability of sum 8: 0.14\n",
      "Probability of sum 9: 0.11\n"
     ]
    }
   ],
   "source": [
    "sum_dice_7 = 6/36\n",
    "sum_dice_8 = 5/36\n",
    "sum_dice_9 = 4/36\n",
    "\n",
    "print(f\"Probability of sum 7: {sum_dice_7:.2f}\")\n",
    "print(f\"Probability of sum 8: {sum_dice_8:.2f}\")\n",
    "print(f\"Probability of sum 9: {sum_dice_9:.2f}\")"
   ]
  },
  {
   "cell_type": "code",
   "execution_count": 15,
   "metadata": {},
   "outputs": [
    {
     "data": {
      "image/png": "[encoded data removed]",
      "text/plain": [
       "<Figure size 640x480 with 1 Axes>"
      ]
     },
     "metadata": {},
     "output_type": "display_data"
    },
    {
     "name": "stdout",
     "output_type": "stream",
     "text": [
      "Frequency of sum 7: 1650\n",
      "Frequency of sum 8: 1333\n",
      "Frequency of sum 9: 1120\n"
     ]
    }
   ],
   "source": [
    "import numpy as np\n",
    "import seaborn as sns\n",
    "import matplotlib.pyplot as plt\n",
    "\n",
    "# Simulate rolling two dice 10,000 times\n",
    "n_simulations = 10000\n",
    "dice1 = np.random.randint(1, 7, n_simulations)\n",
    "dice2 = np.random.randint(1, 7, n_simulations)\n",
    "sums = dice1 + dice2\n",
    "\n",
    "# Plot the countplot\n",
    "sns.countplot(sums)\n",
    "plt.title('Countplot of Sums of Rolling Two Dice 10,000 Times')\n",
    "plt.xlabel('Sum')\n",
    "plt.ylabel('Count')\n",
    "plt.show()\n",
    "\n",
    "# Print the frequencies for 7, 8, and 9\n",
    "sum_7 = np.sum(sums == 7)\n",
    "sum_8 = np.sum(sums == 8)\n",
    "sum_9 = np.sum(sums == 9)\n",
    "\n",
    "print(f\"Frequency of sum 7: {sum_7}\")\n",
    "print(f\"Frequency of sum 8: {sum_8}\")\n",
    "print(f\"Frequency of sum 9: {sum_9}\")"
   ]
  },
  {
   "cell_type": "code",
   "execution_count": null,
   "metadata": {},
   "outputs": [],
   "source": []
  }
 ],
 "metadata": {
  "kernelspec": {
   "display_name": "Python 3 (ipykernel)",
   "language": "python",
   "name": "python3"
  },
  "language_info": {
   "codemirror_mode": {
    "name": "ipython",
    "version": 3
   },
   "file_extension": ".py",
   "mimetype": "text/x-python",
   "name": "python",
   "nbconvert_exporter": "python",
   "pygments_lexer": "ipython3",
   "version": "3.11.5"
  },
  "toc": {
   "base_numbering": 1,
   "nav_menu": {},
   "number_sections": false,
   "sideBar": true,
   "skip_h1_title": false,
   "title_cell": "Table of Contents",
   "title_sidebar": "Contents",
   "toc_cell": false,
   "toc_position": {
    "height": "calc(100% - 180px)",
    "left": "10px",
    "top": "150px",
    "width": "296.475px"
   },
   "toc_section_display": true,
   "toc_window_display": false
  },
  "varInspector": {
   "cols": {
    "lenName": 16,
    "lenType": 16,
    "lenVar": 40
   },
   "kernels_config": {
    "python": {
     "delete_cmd_postfix": "",
     "delete_cmd_prefix": "del ",
     "library": "var_list.py",
     "varRefreshCmd": "print(var_dic_list())"
    },
    "r": {
     "delete_cmd_postfix": ") ",
     "delete_cmd_prefix": "rm(",
     "library": "var_list.r",
     "varRefreshCmd": "cat(var_dic_list()) "
    }
   },
   "types_to_exclude": [
    "module",
    "function",
    "builtin_function_or_method",
    "instance",
    "_Feature"
   ],
   "window_display": false
  }
 },
 "nbformat": 4,
 "nbformat_minor": 2
}
