{
 "cells": [
  {
   "cell_type": "markdown",
   "metadata": {},
   "source": [
    "# Probability"
   ]
  },
  {
   "cell_type": "markdown",
   "metadata": {},
   "source": [
    "## Challenge 1\n",
    "There is a box with 10 white balls, 12 red balls and 8 black balls. Calculate the probability of:\n",
    "* Taking a white ball out.\n",
    "* Taking a white ball on first extraction and a black ball out on second extraction without replacing the first one.\n",
    "* Taking a white ball on first extraction and a black ball out on second extraction replacing the first one.\n",
    "* Taking 3 balls and them being all different colours."
   ]
  },
  {
   "attachments": {
    "image-2.png": {
     "image/png": "[encoded data removed]"
    },
    "image-3.png": {
     "image/png": "[encoded data removed]"
    },
    "image-4.png": {
     "image/png": "[encoded data removed]"
    },
    "image-5.png": {
     "image/png": "[encoded data removed]"
    },
    "image-6.png": {
     "image/png": "[encoded data removed]"
    },
    "image-7.png": {
     "image/png": "[encoded data removed]"
    },
    "image-8.png": {
     "image/png": "[encoded data removed]"
    },
    "image-9.png": {
     "image/png": "[encoded data removed]"
    },
    "image.png": {
     "image/png": "[encoded data removed]"
    }
   },
   "cell_type": "markdown",
   "metadata": {},
   "source": [
    "*__YOUR ANSWER HERE__*\n",
    "\n",
    "Total of balls = 10+12+8 = 30 balls\n",
    "\n",
    "* Taking a white ball out.\n",
    "\n",
    "![image.png](attachment:image.png)\n",
    "\n",
    "\n",
    "* Taking a white ball on first extraction and a black ball out on second extraction without replacing the first one.\n",
    "Given that:\n",
    "A = Taking a white ball on 1st extraction\n",
    "B = Taking a black ball on 2nd extraction without replacing the 1st one\n",
    "\n",
    "![image-2.png](attachment:image-2.png)\n",
    "\n",
    "![image-3.png](attachment:image-3.png)\n",
    "\n",
    "![image-4.png](attachment:image-4.png)\n",
    "\n",
    "\n",
    "* Taking a white ball on first extraction and a black ball out on second extraction replacing the first one.\n",
    "Given that:\n",
    "A = Taking a white ball on 1st extraction\n",
    "B = Taking a black ball on 2nd extraction replacing the 1st one\n",
    "\n",
    "![image-2.png](attachment:image-2.png)\n",
    "\n",
    "![image-5.png](attachment:image-5.png)\n",
    "\n",
    "![image-6.png](attachment:image-6.png)\n",
    "\n",
    "\n",
    "* Taking 3 balls and them being all different colours.\n",
    "Given that:\n",
    "A = Take a white ball\n",
    "B = Take a black ball\n",
    "C = Take a red ball\n",
    "\n",
    "![image-2.png](attachment:image-2.png)\n",
    "\n",
    "![image-7.png](attachment:image-7.png)\n",
    "\n",
    "![image-8.png](attachment:image-8.png)\n",
    "\n",
    "![image-9.png](attachment:image-9.png)"
   ]
  },
  {
   "cell_type": "markdown",
   "metadata": {},
   "source": [
    "## Challenge 2\n",
    "\n",
    "You want to go on picnic on Saturday. You hate rain, and would know to plan your weekend. To help you make a decision, you gather the following data about rainy days:\n",
    "\n",
    "* 40% of all days are cloudy.\n",
    "* About 50% of cloudy days are rainy. \n",
    "* About 20% of non-cloudy days are rainy.\n",
    "\n",
    "What is the chance of rain during next Saturday?"
   ]
  },
  {
   "cell_type": "markdown",
   "metadata": {},
   "source": [
    "*__YOUR CODE HERE__*    \n",
    "\n",
    "P(Cloudy) = 0.40\n",
    "P(not Cloudy) = 0.60\n",
    "\n",
    "P(Rain|Cloudy) = 0.50\n",
    "\n",
    "P(Rain|not cloudy) = 0.20\n",
    "\n",
    "\n",
    "--> Law of total probability: P(Rain)= P(Rain∣Cloudy) x P(Cloudy) + P(Rain∣Not_Cloudy) x P(Not Cloudy)\n",
    "\n",
    "P(Rain) = (0.50 x 0.40) + (0.20 x 0.60) = 0.32"
   ]
  },
  {
   "cell_type": "markdown",
   "metadata": {},
   "source": [
    "## Challenge 3\n",
    "\n",
    "A and B are events of a probability such that $P(A) = 0.3$, $P(B) = 0.6$ and $P(A \\cap B) = 0.1$\n",
    "\n",
    "Which of the following statements are true?  \n",
    "**HINT: draw a big Venn Diagram by your side**  \n",
    "* $P(\\overline{A}) = 0.7$\n",
    "* $P(A \\cup B) = 0.6$\n",
    "* $P(A \\cap \\overline{B}) = 0.2$\n",
    "* $P(A \\cup \\overline{A}) = 1$  \n",
    "* $P(A \\cap (B \\cup \\overline{B})) = 0.4$\n",
    "* $P(\\overline{A} \\cap \\overline{B}) = 0.3$\n",
    "* $P(\\overline{A \\cap B}) = 0.9$"
   ]
  },
  {
   "cell_type": "markdown",
   "metadata": {},
   "source": [
    "**YOUR CODE HERE**\n",
    "* $P(\\overline{A}) = 0.7$ **TRUE**\n",
    "* $P(A \\cup B) = 0.6$ **FALSE** \n",
    "* $P(A \\cap \\overline{B}) = 0.2$ **FALSE** \n",
    "* $P(A \\cup \\overline{A}) = 1$  **TRUE**\n",
    "* $P(A \\cap (B \\cup \\overline{B})) = 0.4$ **FALSE**\n",
    "* $P(\\overline{A} \\cap \\overline{B}) = 0.3$ **FALSE**\n",
    "* $P(\\overline{A \\cap B}) = 0.9$ **TRUE**"
   ]
  },
  {
   "cell_type": "markdown",
   "metadata": {},
   "source": [
    "## Challenge 4\n",
    "\n",
    " * If someone flies to China, the probability of getting Covid is 1%  \n",
    " * If someone flies to Italy, the probability of getting Covid is 20%  \n",
    "\n",
    "I roll 1 dice with numbers 1, 2, 3, 4, 5, 6:  \n",
    " * If 1: I fly to Italy\n",
    " * If not 1: I fly to China\n",
    "\n",
    "During my trip, I got Covid. What is the probability that I flew to China?"
   ]
  },
  {
   "cell_type": "markdown",
   "metadata": {},
   "source": [
    "** YOUR CODE HERE **\n",
    "\n",
    "P(covid | china) = 0.01\n",
    "P(covid | italy) = 0.20\n",
    "\n",
    "P(italy) = P(getting 1 in the dice) = 1/6 \n",
    "P(china) = P(not getting 1 in the dice) = 5/6\n",
    "\n",
    "\n",
    "P(covid) = P(covid|china) x P(china)    +    P(covid|italy) x P(italy)\n",
    "         = 0.01 x (5/6)  +  0.20 x (1/6)\n",
    "         = 1/24\n",
    "\n",
    "\n",
    "P(china|covid) = [P(covid|china) x P(china)] /P(covid) = (0.01 x 5/6)/ (1/24) = 0.20 = 20%\n",
    "\n"
   ]
  },
  {
   "cell_type": "markdown",
   "metadata": {},
   "source": [
    "## BONUS\n",
    "\n",
    "You roll 2 dice. What is the probability that the sum of the numbers is 7? And 8? And 9? Then simulate 10000 times and draw a countplot."
   ]
  },
  {
   "cell_type": "markdown",
   "metadata": {},
   "source": [
    "your explanation here"
   ]
  },
  {
   "cell_type": "markdown",
   "metadata": {},
   "source": [
    "**YOUR CODE HERE**\n",
    "\n",
    "All possibilities = 6 x 6 = 36\n",
    "\n",
    "P(7) = (Pairs 1-6, 2-5, 3-4, 4-3, 5-2, 6-1) = 6/36 = 1/6\n",
    "\n",
    "P(8) = (Pairs 2-6, 3-5, 4-4, 5-3, 2-6) = 5/36 \n",
    "\n",
    "P(9) = (Pairs 3-6, 4-5, 5-4, 6-3) = 4/36 = 1/9"
   ]
  }
 ],
 "metadata": {
  "kernelspec": {
   "display_name": "Python 3 (ipykernel)",
   "language": "python",
   "name": "python3"
  },
  "language_info": {
   "codemirror_mode": {
    "name": "ipython",
    "version": 3
   },
   "file_extension": ".py",
   "mimetype": "text/x-python",
   "name": "python",
   "nbconvert_exporter": "python",
   "pygments_lexer": "ipython3",
   "version": "3.9.13"
  },
  "toc": {
   "base_numbering": 1,
   "nav_menu": {},
   "number_sections": false,
   "sideBar": true,
   "skip_h1_title": false,
   "title_cell": "Table of Contents",
   "title_sidebar": "Contents",
   "toc_cell": false,
   "toc_position": {
    "height": "calc(100% - 180px)",
    "left": "10px",
    "top": "150px",
    "width": "296.475px"
   },
   "toc_section_display": true,
   "toc_window_display": false
  },
  "varInspector": {
   "cols": {
    "lenName": 16,
    "lenType": 16,
    "lenVar": 40
   },
   "kernels_config": {
    "python": {
     "delete_cmd_postfix": "",
     "delete_cmd_prefix": "del ",
     "library": "var_list.py",
     "varRefreshCmd": "print(var_dic_list())"
    },
    "r": {
     "delete_cmd_postfix": ") ",
     "delete_cmd_prefix": "rm(",
     "library": "var_list.r",
     "varRefreshCmd": "cat(var_dic_list()) "
    }
   },
   "types_to_exclude": [
    "module",
    "function",
    "builtin_function_or_method",
    "instance",
    "_Feature"
   ],
   "window_display": false
  }
 },
 "nbformat": 4,
 "nbformat_minor": 2
}
