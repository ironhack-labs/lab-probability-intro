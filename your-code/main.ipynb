{
 "cells": [
  {
   "cell_type": "markdown",
   "metadata": {},
   "source": [
    "# Probability"
   ]
  },
  {
   "cell_type": "markdown",
   "metadata": {},
   "source": [
    "## Challenge 1\n",
    "There is a box with 10 white balls, 12 red balls and 8 black balls. Calculate the probability of:\n",
    "* Taking a white ball out.\n",
    "* Taking a white ball on first extraction and a black ball out on second extraction without replacing the first one.\n",
    "* Taking a white ball on first extraction and a black ball out on second extraction replacing the first one.\n",
    "* Taking 3 balls and them being all different colours."
   ]
  },
  {
   "cell_type": "code",
   "execution_count": 97,
   "metadata": {},
   "outputs": [],
   "source": [
    "import random\n",
    "import seaborn as sns\n",
    "import matplotlib.pyplot as plt"
   ]
  },
  {
   "cell_type": "code",
   "execution_count": 17,
   "metadata": {},
   "outputs": [
    {
     "name": "stdout",
     "output_type": "stream",
     "text": [
      "Prob. of take white ball: 0.33\n",
      "Probability of white first and black second without replacement: 0.0920\n",
      "Probability of white first and black second with replacement: 0.0889\n",
      "Probability of drawing 3 different colored balls: 0.2365\n"
     ]
    }
   ],
   "source": [
    "white_balls = 10\n",
    "red_balls = 12\n",
    "black_balls = 8\n",
    "total_balls = white_balls + red_balls + black_balls\n",
    "\n",
    "# 1. Taking white ball out\n",
    "print(\"Prob. of take white ball:\", round(white_balls/total_balls, 2))\n",
    "\n",
    "# 2. Probability of taking a white ball first and a black ball second without replacement\n",
    "prob_white_first_black_second_no_replacement = (white_balls / total_balls) * (black_balls / (total_balls - 1))\n",
    "\n",
    "# 3. Probability of taking a white ball first and a black ball second with replacement\n",
    "prob_white_first_black_second_with_replacement = (white_balls / total_balls) * (black_balls / total_balls)\n",
    "\n",
    "# 4. Probability of taking 3 balls and them being all different colours\n",
    "# Total possible outcomes (ways to pick 3 balls from 30)\n",
    "total_outcomes = math.comb(total_balls, 3)\n",
    "\n",
    "# Favorable outcomes (picking 1 white, 1 red, and 1 black)\n",
    "favorable_outcomes = math.comb(white_balls, 1) * math.comb(red_balls, 1) * math.comb(black_balls, 1)\n",
    "\n",
    "# Probability\n",
    "prob_diff_colours = favorable_outcomes / total_outcomes\n",
    "\n",
    "# Printing results\n",
    "print(f\"Probability of white first and black second without replacement: {prob_white_first_black_second_no_replacement:.4f}\")\n",
    "print(f\"Probability of white first and black second with replacement: {prob_white_first_black_second_with_replacement:.4f}\")\n",
    "print(f\"Probability of drawing 3 different colored balls: {prob_diff_colours:.4f}\")\n"
   ]
  },
  {
   "cell_type": "markdown",
   "metadata": {},
   "source": [
    "## Challenge 2\n",
    "\n",
    "You want to go on picnic on Saturday. You hate rain, and would know to plan your weekend. To help you make a decision, you gather the following data about rainy days:\n",
    "\n",
    "* 40% of all days are cloudy.\n",
    "* About 50% of cloudy days are rainy. \n",
    "* About 20% of non-cloudy days are rainy.\n",
    "\n",
    "What is the chance of rain during next Saturday?"
   ]
  },
  {
   "cell_type": "code",
   "execution_count": 28,
   "metadata": {},
   "outputs": [
    {
     "name": "stdout",
     "output_type": "stream",
     "text": [
      "Probability of rain during next Saturday 0.32\n"
     ]
    }
   ],
   "source": [
    "cloudy_day = 0.4\n",
    "sunny_day = 1 - cloudy_day\n",
    "rain_sunny = 0.2\n",
    "rain_cloudy = 0.5\n",
    "\n",
    "# 1. Know the probability of rain if its cloudy\n",
    "cloudy_rainy = cloudy_day * rain_cloudy\n",
    "\n",
    "# 2. Know the probability of rain if its non-cloudy\n",
    "sunny_rainy = sunny_day * rain_sunny\n",
    "\n",
    "# 3. Sum both probabilities to get the probability of rain\n",
    "prob_rainy = cloudy_rainy+sunny_rainy\n",
    "\n",
    "# Printing results\n",
    "print(f\"Probability of rain during next Saturday {prob_rainy:.2f}\")"
   ]
  },
  {
   "cell_type": "markdown",
   "metadata": {},
   "source": [
    "## Challenge 3\n",
    "\n",
    "A and B are events of a probability such that $P(A) = 0.3$, $P(B) = 0.6$ and $P(A \\cap B) = 0.1$\n",
    "\n",
    "Which of the following statements are true?  \n",
    "**HINT: draw a big Venn Diagram by your side**  \n",
    "* $P(\\overline{A}) = 0.7$\n",
    "* $P(A \\cup B) = 0.6$\n",
    "* $P(A \\cap \\overline{B}) = 0.2$\n",
    "* $P(A \\cup \\overline{A}) = 1$  \n",
    "* $P(A \\cap (B \\cup \\overline{B})) = 0.4$\n",
    "* $P(\\overline{A} \\cap \\overline{B}) = 0.3$\n",
    "* $P(\\overline{A \\cap B}) = 0.9$"
   ]
  },
  {
   "cell_type": "code",
   "execution_count": 90,
   "metadata": {},
   "outputs": [
    {
     "name": "stdout",
     "output_type": "stream",
     "text": [
      "True\n",
      "False\n",
      "False\n",
      "True\n",
      "False\n",
      "False\n",
      "True\n"
     ]
    }
   ],
   "source": [
    "PA = 0.3\n",
    "PB = 0.6\n",
    "PAB = 0.1\n",
    "\n",
    "\n",
    "print( 1-PA == 0.7 )\n",
    "print( PA+PB-PAB == 0.6 )\n",
    "print( PA*(1-PB) == 0.2 )\n",
    "print( PA+(1-PA) == 1 )\n",
    "print( PA * (PB + (1-PB)) == 0.4 )\n",
    "print( (1-PA) * (1-PB)  == 0.3 )\n",
    "print( 1-PAB  == 0.9 )"
   ]
  },
  {
   "cell_type": "markdown",
   "metadata": {},
   "source": [
    "## Challenge 4\n",
    "\n",
    " * If someone flies to China, the probability of getting Covid is 1%  \n",
    " * If someone flies to Italy, the probability of getting Covid is 20%  \n",
    "\n",
    "I roll 1 dice with numbers 1, 2, 3, 4, 5, 6:  \n",
    " * If 1: I fly to Italy\n",
    " * If not 1: I fly to China\n",
    "\n",
    "During my trip, I got Covid. What is the probability that I flew to China?"
   ]
  },
  {
   "cell_type": "code",
   "execution_count": 93,
   "metadata": {},
   "outputs": [
    {
     "name": "stdout",
     "output_type": "stream",
     "text": [
      "Probability of flew China 0.20\n"
     ]
    }
   ],
   "source": [
    "# Probability of get covid in each country\n",
    "china_covid = 0.01\n",
    "italy_covid = 0.2\n",
    "\n",
    "# Probability of fly to each country\n",
    "fly_italy = 1/6\n",
    "fly_china = 1-fly_italy\n",
    "\n",
    "# Probability of fly to each country and get covid\n",
    "fly_china_covid = fly_china * china_covid\n",
    "fly_italy_covid = fly_italy * italy_covid\n",
    "\n",
    "# Total probability of get covid\n",
    "get_covid_prob = fly_china_covid + fly_italy_covid\n",
    "\n",
    "print\n",
    "\n",
    "# Printing results\n",
    "print(f\"Probability of flew China {(fly_china_covid/get_covid_prob):.2f}\")"
   ]
  },
  {
   "cell_type": "markdown",
   "metadata": {},
   "source": [
    "## BONUS\n",
    "\n",
    "You roll 2 dice. What is the probability that the sum of the numbers is 7? And 8? And 9? Then simulate 10000 times and draw a countplot."
   ]
  },
  {
   "cell_type": "markdown",
   "metadata": {},
   "source": [
    "your explanation here"
   ]
  },
  {
   "cell_type": "code",
   "execution_count": 95,
   "metadata": {},
   "outputs": [
    {
     "data": {
      "image/png": "[encoded data removed]",
      "text/plain": [
       "<Figure size 640x480 with 1 Axes>"
      ]
     },
     "metadata": {},
     "output_type": "display_data"
    }
   ],
   "source": [
    "\n",
    "\n",
    "# Function to simulate dice rolls\n",
    "def roll_dice():\n",
    "    return random.randint(1, 6) + random.randint(1, 6)\n",
    "\n",
    "# Simulate 10,000 rolls\n",
    "results = [roll_dice() for _ in range(10000)]\n",
    "\n",
    "# Plotting the results using seaborn\n",
    "sns.countplot(x=results)\n",
    "plt.title(\"Distribution of Dice Rolls (Sum)\")\n",
    "plt.xlabel(\"Sum of Rolls\")\n",
    "plt.ylabel(\"Count\")\n",
    "plt.show()\n"
   ]
  },
  {
   "cell_type": "code",
   "execution_count": null,
   "metadata": {},
   "outputs": [],
   "source": []
  }
 ],
 "metadata": {
  "kernelspec": {
   "display_name": "Python 3 (ipykernel)",
   "language": "python",
   "name": "python3"
  },
  "language_info": {
   "codemirror_mode": {
    "name": "ipython",
    "version": 3
   },
   "file_extension": ".py",
   "mimetype": "text/x-python",
   "name": "python",
   "nbconvert_exporter": "python",
   "pygments_lexer": "ipython3",
   "version": "3.12.4"
  },
  "toc": {
   "base_numbering": 1,
   "nav_menu": {},
   "number_sections": false,
   "sideBar": true,
   "skip_h1_title": false,
   "title_cell": "Table of Contents",
   "title_sidebar": "Contents",
   "toc_cell": false,
   "toc_position": {
    "height": "calc(100% - 180px)",
    "left": "10px",
    "top": "150px",
    "width": "296.475px"
   },
   "toc_section_display": true,
   "toc_window_display": false
  },
  "varInspector": {
   "cols": {
    "lenName": 16,
    "lenType": 16,
    "lenVar": 40
   },
   "kernels_config": {
    "python": {
     "delete_cmd_postfix": "",
     "delete_cmd_prefix": "del ",
     "library": "var_list.py",
     "varRefreshCmd": "print(var_dic_list())"
    },
    "r": {
     "delete_cmd_postfix": ") ",
     "delete_cmd_prefix": "rm(",
     "library": "var_list.r",
     "varRefreshCmd": "cat(var_dic_list()) "
    }
   },
   "types_to_exclude": [
    "module",
    "function",
    "builtin_function_or_method",
    "instance",
    "_Feature"
   ],
   "window_display": false
  }
 },
 "nbformat": 4,
 "nbformat_minor": 4
}
