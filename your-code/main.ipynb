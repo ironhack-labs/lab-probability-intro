{
 "cells": [
  {
   "cell_type": "markdown",
   "metadata": {},
   "source": [
    "# Probability"
   ]
  },
  {
   "cell_type": "markdown",
   "metadata": {},
   "source": [
    "## Challenge 1\n",
    "There is a box with 10 white balls, 12 red balls and 8 black balls. Calculate the probability of:\n",
    "* Taking a white ball out.\n",
    "* Taking a white ball on first extraction and a black ball out on second extraction without replacing the first one.\n",
    "* Taking a white ball on first extraction and a black ball out on second extraction replacing the first one.\n",
    "* Taking 3 balls and them being all different colours."
   ]
  },
  {
   "cell_type": "code",
   "execution_count": 4,
   "metadata": {},
   "outputs": [],
   "source": [
    "import numpy as np\n",
    "from numpy import array\n",
    "import pandas as pd\n",
    "import random"
   ]
  },
  {
   "cell_type": "code",
   "execution_count": 5,
   "metadata": {},
   "outputs": [
    {
     "data": {
      "text/plain": [
       "['w1',\n",
       " 'w2',\n",
       " 'w3',\n",
       " 'w4',\n",
       " 'w5',\n",
       " 'w6',\n",
       " 'w7',\n",
       " 'w8',\n",
       " 'w9',\n",
       " 'w10',\n",
       " 'r1',\n",
       " 'r2',\n",
       " 'r3',\n",
       " 'r4',\n",
       " 'r5',\n",
       " 'r6',\n",
       " 'r7',\n",
       " 'r8',\n",
       " 'r9',\n",
       " 'r10',\n",
       " 'r11',\n",
       " 'r12',\n",
       " 'b1',\n",
       " 'b2',\n",
       " 'b3',\n",
       " 'b4',\n",
       " 'b5',\n",
       " 'b6',\n",
       " 'b7',\n",
       " 'b8']"
      ]
     },
     "execution_count": 5,
     "metadata": {},
     "output_type": "execute_result"
    }
   ],
   "source": [
    "# We will use the following notation:\n",
    "# w - white balls\n",
    "# r - red balls\n",
    "# b - black balls\n",
    "\n",
    "# We add the balls in the box\n",
    "box = ['w'+str(i) for i in range(1, 11)]\n",
    "box.extend([ 'r' + str(i) for i in range(1, 13)])\n",
    "box.extend([ 'b' + str(i) for i in range(1, 9)])\n",
    "box\n"
   ]
  },
  {
   "cell_type": "code",
   "execution_count": 6,
   "metadata": {},
   "outputs": [
    {
     "name": "stdout",
     "output_type": "stream",
     "text": [
      "Calculated probability of taking a white ball out:  0.3333333333333333\n",
      "After 100000 tries, we got a 0.33521% probability to pick a white ball out\n"
     ]
    }
   ],
   "source": [
    "# Calculate the probability of:\n",
    "# 1. Taking a white ball out.\n",
    "\n",
    "# prob_white = count of white balls / count of all balls\n",
    "prob_white = 10 / (10 + 12 + 8) \n",
    "print('Calculated probability of taking a white ball out: ', prob_white)\n",
    "\n",
    "count_white_balls = 0\n",
    "total_tries = 100000\n",
    "for i in range(1, total_tries+1):\n",
    "    random.shuffle(box)\n",
    "    first_ball = box[random.randrange(len(box))]\n",
    "    if 'w' in first_ball:\n",
    "        count_white_balls += 1\n",
    "\n",
    "percent_white:float = count_white_balls / total_tries\n",
    "print(f'After {total_tries} tries, we got a {percent_white:.5f}% probability to pick a white ball out')"
   ]
  },
  {
   "cell_type": "code",
   "execution_count": 7,
   "metadata": {},
   "outputs": [
    {
     "name": "stdout",
     "output_type": "stream",
     "text": [
      "Calculated probability:  0.09195\n",
      "After 100000 tries, we got a 0.09239% probability to pick a white ball out on first try and a black ball on the second try\n"
     ]
    }
   ],
   "source": [
    "# 2. Taking a white ball on first extraction and a black ball out on second extraction without replacing the first one.\n",
    "\n",
    "fExtraction = 10 / 30 # number of white balls / total balls\n",
    "sExtraction = 8 / 29 # number of black balls / (total balls - 1)\n",
    "cExtractions = fExtraction * sExtraction\n",
    "print('Calculated probability: ', format(cExtractions, \".5f\"))\n",
    "\n",
    "# count_white_balls = 0\n",
    "count_black_balls = 0\n",
    "total_tries = 100000\n",
    "for i in range(1, total_tries+1):\n",
    "    newbox = box.copy()\n",
    "    random.shuffle(newbox)\n",
    "    first_ball = newbox[random.randrange(len(newbox))]\n",
    "    if 'w' in first_ball:\n",
    "        # count_white_balls += 1\n",
    "        newbox.remove(first_ball)\n",
    "        second_ball = newbox[random.randrange(len(newbox))]\n",
    "        if 'b' in second_ball:\n",
    "            count_black_balls += 1\n",
    "        \n",
    "\n",
    "# percent_white:float = count_white_balls / total_tries\n",
    "# percent_white\n",
    "\n",
    "percent_black:float = count_black_balls / total_tries\n",
    "print(f'After {total_tries} tries, we got a {percent_black:.5f}% probability to pick a white ball out on first try and a black ball on the second try')"
   ]
  },
  {
   "cell_type": "code",
   "execution_count": 8,
   "metadata": {},
   "outputs": [
    {
     "name": "stdout",
     "output_type": "stream",
     "text": [
      "Calculated chance:  0.08889\n",
      "After 100000 tries, we got a 0.08732% probability to pick a white ball out on first try and a black ball on the second try, replacing the first extracted ball\n"
     ]
    }
   ],
   "source": [
    "# 3. Taking a white ball on first extraction and a black ball out on second extraction replacing the first one.\n",
    "\n",
    "fExtraction = 10 / 30\n",
    "sExtraction = 8 / 30\n",
    "cExtractions = fExtraction * sExtraction\n",
    "print('Calculated chance: ', format(cExtractions,\".5f\"))\n",
    "\n",
    "# count_white_balls = 0\n",
    "count_black_balls = 0\n",
    "total_tries = 100000\n",
    "for i in range(1, total_tries+1):\n",
    "    newbox = box.copy()\n",
    "    random.shuffle(newbox)\n",
    "    first_ball = newbox[random.randrange(len(newbox))]\n",
    "    if 'w' in first_ball:\n",
    "        # count_white_balls += 1\n",
    "        # newbox.remove(first_ball)\n",
    "        second_ball = newbox[random.randrange(len(newbox))]\n",
    "        if 'b' in second_ball:\n",
    "            count_black_balls += 1\n",
    "\n",
    "percent_black:float = count_black_balls / total_tries\n",
    "print(f'After {total_tries} tries, we got a {percent_black}% probability to pick a white ball out on first try and a black ball on the second try, replacing the first extracted ball')"
   ]
  },
  {
   "cell_type": "code",
   "execution_count": 9,
   "metadata": {},
   "outputs": [
    {
     "name": "stdout",
     "output_type": "stream",
     "text": [
      "Calculated chance:  0.035555555555555556\n"
     ]
    }
   ],
   "source": [
    "# Taking 3 balls and them being all different colours.\n",
    "\n",
    "# if we replace the balls\n",
    "fExtraction = 10 / 30 # \n",
    "sExtraction = 12 / 30 #\n",
    "tExtraction = 8 / 30 #\n",
    "cExtractions = fExtraction * sExtraction * tExtraction\n",
    "cExtractions\n",
    "print('Calculated chance: ', cExtractions)"
   ]
  },
  {
   "cell_type": "code",
   "execution_count": 91,
   "metadata": {},
   "outputs": [
    {
     "name": "stdout",
     "output_type": "stream",
     "text": [
      "Calculated chance: 3.94%\n"
     ]
    }
   ],
   "source": [
    "# if we don't replace the balls\n",
    "# the total number of balls with decrease by one with each extraction\n",
    "# the order in which the balls are extracted is not relevant because we multiply (and divide) them\n",
    "\n",
    "# cExtractions = x / 30 * y / 29 * z / 28\n",
    "# with x,y and z being 10, 12 or 8 each respectively\n",
    "# so our final equation will be:\n",
    "# \n",
    "cExtractions = 8 * 10 * 12 / (30 * 29 * 28)\n",
    "print(f'Calculated chance: {(cExtractions * 100):.2f}%')"
   ]
  },
  {
   "cell_type": "markdown",
   "metadata": {},
   "source": [
    "## Challenge 2\n",
    "\n",
    "You want to go on picnic on Saturday. You hate rain, and would know to plan your weekend. To help you make a decision, you gather the following data about rainy days:\n",
    "\n",
    "* 40% of all days are cloudy.\n",
    "* About 50% of cloudy days are rainy. \n",
    "* About 20% of non-cloudy days are rainy.\n",
    "\n",
    "What is the chance of rain during next Saturday?"
   ]
  },
  {
   "cell_type": "code",
   "execution_count": 30,
   "metadata": {},
   "outputs": [
    {
     "data": {
      "text/plain": [
       "0.32"
      ]
     },
     "execution_count": 30,
     "metadata": {},
     "output_type": "execute_result"
    }
   ],
   "source": [
    "cloudy = 40 / 100\n",
    "rainy_cloudy = 50 / 100\n",
    "rainy_non_cloudy = 20 / 100\n",
    "\n",
    "p_rain = rainy_cloudy * cloudy + rainy_non_cloudy * (1 - cloudy)\n",
    "p_rain"
   ]
  },
  {
   "cell_type": "markdown",
   "metadata": {},
   "source": [
    "## Challenge 3\n",
    "\n",
    "A and B are events of a probability such that $P(A) = 0.3$, $P(B) = 0.6$ and $P(A \\cap B) = 0.1$\n",
    "\n",
    "Which of the following statements are true?  \n",
    "**HINT: draw a big Venn Diagram by your side**  \n",
    "* $P(\\overline{A}) = 0.7$\n",
    "* $P(A \\cup B) = 0.6$\n",
    "* $P(A \\cap \\overline{B}) = 0.2$\n",
    "* $P(A \\cup \\overline{A}) = 1$  \n",
    "* $P(A \\cap (B \\cup \\overline{B})) = 0.4$\n",
    "* $P(\\overline{A} \\cap \\overline{B}) = 0.3$\n",
    "* $P(\\overline{A \\cap B}) = 0.9$"
   ]
  },
  {
   "cell_type": "markdown",
   "metadata": {},
   "source": [
    "| Probability | Value | \n",
    "| ----------- | ----- |\n",
    "| $P(\\overline{A}) = 0.7$ | True |\n",
    "| $P(A \\cup B) = 0.6$ | False (it should be $P(A) + P(B) - P(A \\cap B)$ |\n",
    "| $P(A \\cap \\overline{B}) = 0.2$ | True |\n",
    "| $P(A \\cup \\overline{A}) = 1$ | True | \n",
    "| $P(A \\cap (B \\cup \\overline{B})) = 0.4$ | False (it should be 0.3) |\n",
    "| $P(\\overline{A} \\cap \\overline{B}) = 0.3$ | False |\n",
    "| $P(\\overline{A \\cap B}) = 0.9$ | True |\n"
   ]
  },
  {
   "cell_type": "markdown",
   "metadata": {},
   "source": [
    "## Challenge 4\n",
    "\n",
    " * If someone flies to China, the probability of getting Covid is 1%  \n",
    " * If someone flies to Italy, the probability of getting Covid is 20%  \n",
    "\n",
    "I roll 1 dice with numbers 1, 2, 3, 4, 5, 6:  \n",
    " * If 1: I fly to Italy\n",
    " * If not 1: I fly to China\n",
    "\n",
    "During my trip, I got Covid. What is the probability that I flew to China?"
   ]
  },
  {
   "cell_type": "code",
   "execution_count": 38,
   "metadata": {},
   "outputs": [
    {
     "name": "stdout",
     "output_type": "stream",
     "text": [
      "The probability that I flew to China, given I've contracted Covid is: 20.0%\n"
     ]
    }
   ],
   "source": [
    "prob_Fly_C = 5 / 6 # probability of rolling anything besides 1 -> flying to China\n",
    "prob_Fly_I = 1 / 6 # probability of rolling 1 -> flying to Italy\n",
    "\n",
    "prob_Covid_C = 1 / 100 # probability of getting Covid in China\n",
    "prob_Covid_I = 20 / 100 # probability of getting Coving in Italy\n",
    "\n",
    "# prob_C_Covid # the probability that I flew to China given that I got Covid\n",
    "# prob_C_Covid = prob_Covid_C * prob_C / prob_Covid\n",
    "\n",
    "# we first need prob_Covid\n",
    "prob_Covid = prob_Covid_C * prob_Fly_C + prob_Covid_I * prob_Fly_I\n",
    "\n",
    "# now we can use Bayes' Theorem\n",
    "prob_C_Covid = prob_Covid_C * prob_Fly_C / prob_Covid\n",
    "\n",
    "print(f'The probability that I flew to China, given I\\'ve contracted Covid is: {prob_C_Covid* 100}%')\n"
   ]
  },
  {
   "cell_type": "markdown",
   "metadata": {},
   "source": [
    "## BONUS\n",
    "\n",
    "You roll 2 dice. What is the probability that the sum of the numbers is 7? And 8? And 9? Then simulate 10000 times and draw a countplot."
   ]
  },
  {
   "cell_type": "code",
   "execution_count": 96,
   "metadata": {},
   "outputs": [
    {
     "name": "stdout",
     "output_type": "stream",
     "text": [
      "prob7: 0.16667 | calc7: 0.16628\n",
      "prob8: 0.13889 | calc8: 0.14169\n",
      "prob9: 0.11111 | calc9: 0.11027\n"
     ]
    }
   ],
   "source": [
    "sum7 = [ [1, 6], [2, 5], [3, 4], [4, 3], [5, 2], [6, 1] ] # faces that sum up to 7\n",
    "sum8 = [ [2, 6], [3, 5], [4, 4], [5, 3], [6, 2] ]\n",
    "sum9 = [ [3, 6], [4, 5], [5, 4], [6, 3] ]\n",
    "\n",
    "prob7 = len(sum7) / 36 # number of favourable outcomes / total possibilities\n",
    "prob8 = len(sum8) / 36\n",
    "prob9 = len(sum9) / 36\n",
    "\n",
    "# Let's do our own little experiment and roll a dice 100000 times\n",
    "calc7 = 0\n",
    "calc8 = 0\n",
    "calc9 = 0\n",
    "\n",
    "def roll_the_dice():\n",
    "    return tuple((random.randrange(1, 7), random.randrange(1, 7)))\n",
    "\n",
    "total_tries = 100000\n",
    "rolls = list()\n",
    "for i in range(0, total_tries):\n",
    "    roll = roll_the_dice\n",
    "    rolls.append(roll())\n",
    "    sum = roll()[0] + roll()[1]\n",
    "    if sum == 7:\n",
    "        calc7 += 1\n",
    "    elif sum == 8:\n",
    "        calc8 +=1\n",
    "    elif sum == 9:\n",
    "        calc9 +=1\n",
    "\n",
    "print(f'prob7: {prob7:.5f} | calc7: {calc7 / total_tries}')\n",
    "print(f'prob8: {prob8:.5f} | calc8: {calc8 / total_tries}')\n",
    "print(f'prob9: {prob9:.5f} | calc9: {calc9 / total_tries}')\n",
    "# we can see that both the calculated probability and the `experimented` methodology\n",
    "# the results are very close; increasing the number of total_tries will make them converge"
   ]
  },
  {
   "cell_type": "code",
   "execution_count": 14,
   "metadata": {},
   "outputs": [
    {
     "data": {
      "image/png": "[encoded data removed]",
      "text/plain": [
       "<Figure size 1000x800 with 1 Axes>"
      ]
     },
     "metadata": {},
     "output_type": "display_data"
    }
   ],
   "source": [
    "import seaborn as sns\n",
    "import matplotlib.pyplot as plt\n",
    "\n",
    "import pandas as pd\n",
    "\n",
    "plt.figure(figsize=(10, 8))\n",
    "\n",
    "df = pd.DataFrame(data = rolls, columns=['x', 'y'])\n",
    "dicerolls = sns.countplot(data=df, x=(df['x'] + df['y']), palette='Dark2')\n",
    "# dicerolls.set_yticks([0, 700, 800, 900, 1000, 1100, 1200,  total_tries])\n",
    "dicerolls.grid(visible=True)\n",
    "plt.title(f'Distribution of sum for dice rolls over {total_tries} tries')\n",
    "plt.xlabel('Sum of rolls')\n",
    "plt.ylabel('Count')\n",
    "plt.show()"
   ]
  }
 ],
 "metadata": {
  "kernelspec": {
   "display_name": "Python 3 (ipykernel)",
   "language": "python",
   "name": "python3"
  },
  "language_info": {
   "codemirror_mode": {
    "name": "ipython",
    "version": 3
   },
   "file_extension": ".py",
   "mimetype": "text/x-python",
   "name": "python",
   "nbconvert_exporter": "python",
   "pygments_lexer": "ipython3",
   "version": "3.11.9"
  },
  "toc": {
   "base_numbering": 1,
   "nav_menu": {},
   "number_sections": false,
   "sideBar": true,
   "skip_h1_title": false,
   "title_cell": "Table of Contents",
   "title_sidebar": "Contents",
   "toc_cell": false,
   "toc_position": {
    "height": "calc(100% - 180px)",
    "left": "10px",
    "top": "150px",
    "width": "296.475px"
   },
   "toc_section_display": true,
   "toc_window_display": false
  },
  "varInspector": {
   "cols": {
    "lenName": 16,
    "lenType": 16,
    "lenVar": 40
   },
   "kernels_config": {
    "python": {
     "delete_cmd_postfix": "",
     "delete_cmd_prefix": "del ",
     "library": "var_list.py",
     "varRefreshCmd": "print(var_dic_list())"
    },
    "r": {
     "delete_cmd_postfix": ") ",
     "delete_cmd_prefix": "rm(",
     "library": "var_list.r",
     "varRefreshCmd": "cat(var_dic_list()) "
    }
   },
   "types_to_exclude": [
    "module",
    "function",
    "builtin_function_or_method",
    "instance",
    "_Feature"
   ],
   "window_display": false
  }
 },
 "nbformat": 4,
 "nbformat_minor": 2
}
