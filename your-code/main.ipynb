{
 "cells": [
  {
   "cell_type": "markdown",
   "metadata": {},
   "source": [
    "# Probability"
   ]
  },
  {
   "cell_type": "markdown",
   "metadata": {},
   "source": [
    "## Challenge 1\n",
    "There is a box with 10 white balls, 12 red balls and 8 black balls. Calculate the probability of:\n",
    "* Taking a white ball out.\n",
    "* Taking a white ball on first extraction and a black ball out on second extraction without replacing the first one.\n",
    "* Taking a white ball on first extraction and a black ball out on second extraction replacing the first one.\n",
    "* Taking 3 balls and them being all different colours."
   ]
  },
  {
   "cell_type": "code",
   "execution_count": 40,
   "metadata": {},
   "outputs": [
    {
     "name": "stdout",
     "output_type": "stream",
     "text": [
      "The probability of taking out a white ball is 0.333 or 33.3%\n",
      "The probability of extracting a white ball first and a black ball second without replacing the first one is 0.092 or 9.2%\n",
      "The probability of extracting a white ball first and a black ball second replacing the first one is 0.089 or 8.9%\n",
      "The probability of taking out 3 balls and them being all different colors is 0.236 or 23.6%\n"
     ]
    }
   ],
   "source": [
    "# YOUR CODE HERE\n",
    "import math\n",
    "\n",
    "#Taking out white ball\n",
    "white_balls = 10\n",
    "red_balls = 12\n",
    "black_balls = 8\n",
    "\n",
    "total_balls = white_balls + red_balls + black_balls\n",
    "\n",
    "white_ball_probability = white_balls / total_balls\n",
    "prob_percentage = white_ball_probability * 100\n",
    "\n",
    "print(f\"The probability of taking out a white ball is {round(white_ball_probability,3)} or {round(prob_percentage,1)}%\")\n",
    "\n",
    "\n",
    "#Taking a white ball on first extraction and a black ball on second extraction w/o replacing the first one\n",
    "black_ball_probability = black_balls / (total_balls - 1)\n",
    "\n",
    "first_white_second_black = white_ball_probability * black_ball_probability\n",
    "prob_percentage_2 = first_white_second_black * 100\n",
    "\n",
    "print(f\"The probability of extracting a white ball first and a black ball second without replacing the first one is {round(first_white_second_black,3)} or {round(prob_percentage_2,1)}%\")\n",
    "\n",
    "\n",
    "#Taking a white ball on first extraction and a black ball on second extraction w replacing the first one\n",
    "black_ball_probability_rep = black_balls / total_balls\n",
    "\n",
    "first_white_second_black_rep = white_ball_probability * black_ball_probability_rep\n",
    "prob_percentage_2 = first_white_second_black_rep * 100\n",
    "\n",
    "print(f\"The probability of extracting a white ball first and a black ball second replacing the first one is {round(first_white_second_black_rep,3)} or {round(prob_percentage_2,1)}%\")\n",
    "\n",
    "\n",
    "#Taking 3 balls and them being all different colours\n",
    "total_possible_outcomes = math.comb(total_balls,3)\n",
    "\n",
    "favorable_outcomes = white_balls * red_balls * black_balls\n",
    "\n",
    "prob_different_balls = favorable_outcomes / total_possible_outcomes\n",
    "diff_balls_percentage = prob_different_balls * 100\n",
    "\n",
    "print(f\"The probability of taking out 3 balls and them being all different colors is {round(prob_different_balls,3)} or {round(diff_balls_percentage,1)}%\") "
   ]
  },
  {
   "cell_type": "markdown",
   "metadata": {},
   "source": [
    "### Exercise: Probability of Drawing Balls\n",
    "\n",
    "We are given a box with 10 white balls, 12 red balls, and 8 black balls. The total number of balls is:\n",
    "\n",
    "$$\n",
    "\\text{Total Balls} = 10 + 12 + 8 = 30\n",
    "$$\n",
    "\n",
    "#### 1. Probability of Drawing a White Ball:\n",
    "\n",
    "The probability of drawing a white ball can be calculated using the following formula:\n",
    "\n",
    "$$\n",
    "P(\\text{White}) = \\frac{\\text{White Balls}}{\\text{Total Balls}} = \\frac{10}{30} = 0.33\n",
    "$$\n",
    "\n",
    "Therefore, the probability of drawing a white ball is approximately:\n",
    "\n",
    "$$\n",
    "P(\\text{White}) \\approx 0.33 \\quad \\text{or} \\quad 33\\%\n",
    "$$\n",
    "\n",
    "#### 2. Probability of Drawing a White Ball First, Then a Black Ball (Without Replacement):\n",
    "\n",
    "For this scenario, we calculate the probability of drawing a white ball first and then a black ball second without replacement. The probability of this event can be calculated as:\n",
    "\n",
    "$$\n",
    "P(\\text{White First, Black Second (No Replacement)}) = P(\\text{White}) \\times P(\\text{Black | White}) = \\frac{10}{30} \\times \\frac{8}{29}\n",
    "$$\n",
    "\n",
    "Therefore, the probability is:\n",
    "\n",
    "$$\n",
    "P(\\text{White First, Black Second (No Replacement)}) = \\frac{10}{30} \\times \\frac{8}{29} = 0.092\n",
    "$$\n",
    "\n",
    "Thus, the probability is approximately:\n",
    "\n",
    "$$\n",
    "P(\\text{White First, Black Second (No Replacement)}) \\approx 0.092 \\quad \\text{or} \\quad 9.2\\%\n",
    "$$\n",
    "\n",
    "#### 3. Probability of Drawing a White Ball First, Then a Black Ball (With Replacement):\n",
    "\n",
    "For this scenario, we calculate the probability of drawing a white ball first and then a black ball second, but this time replacing the first ball. The probability is:\n",
    "\n",
    "$$\n",
    "P(\\text{White First, Black Second (With Replacement)}) = P(\\text{White}) \\times P(\\text{Black | White}) = \\frac{10}{30} \\times \\frac{8}{30}\n",
    "$$\n",
    "\n",
    "Therefore, the probability is:\n",
    "\n",
    "$$\n",
    "P(\\text{White First, Black Second (With Replacement)}) = \\frac{10}{30} \\times \\frac{8}{30} = 0.089\n",
    "$$\n",
    "\n",
    "Thus, the probability is approximately:\n",
    "\n",
    "$$\n",
    "P(\\text{White First, Black Second (With Replacement)}) \\approx 0.089 \\quad \\text{or} \\quad 8.9\\%\n",
    "$$\n",
    "\n",
    "#### 4. Probability of Drawing 3 Balls, All Different Colors:\n",
    "\n",
    "To calculate the probability of drawing 3 balls, all of different colors, we need to first calculate the total number of possible outcomes and the number of favorable outcomes. \n",
    "\n",
    "- The total number of possible outcomes (ways to choose 3 balls from the total) is given by the combination formula:\n",
    "\n",
    "$$\n",
    "\\text{Total Possible Outcomes} = \\binom{30}{3} = \\frac{30 \\times 29 \\times 28}{3 \\times 2 \\times 1} = 4060\n",
    "$$\n",
    "\n",
    "- The number of favorable outcomes (drawing one white ball, one red ball, and one black ball) is:\n",
    "\n",
    "$$\n",
    "\\text{Favorable Outcomes} = 10 \\times 12 \\times 8 = 960\n",
    "$$\n",
    "\n",
    "Now, we can calculate the probability:\n",
    "\n",
    "$$\n",
    "P(\\text{Different Colors}) = \\frac{\\text{Favorable Outcomes}}{\\text{Total Possible Outcomes}} = \\frac{960}{4060} = 0.236\n",
    "$$\n",
    "\n",
    "Thus, the probability is approximately:\n",
    "\n",
    "$$\n",
    "P(\\text{Different Colors}) \\approx 0.236 \\quad \\text{or} \\quad 23.6\\%\n",
    "$$\n"
   ]
  },
  {
   "cell_type": "markdown",
   "metadata": {},
   "source": [
    "## Challenge 2\n",
    "\n",
    "You want to go on picnic on Saturday. You hate rain, and would know to plan your weekend. To help you make a decision, you gather the following data about rainy days:\n",
    "\n",
    "* 40% of all days are cloudy.\n",
    "* About 50% of cloudy days are rainy. \n",
    "* About 20% of non-cloudy days are rainy.\n",
    "\n",
    "What is the chance of rain during next Saturday?"
   ]
  },
  {
   "cell_type": "code",
   "execution_count": 60,
   "metadata": {},
   "outputs": [
    {
     "name": "stdout",
     "output_type": "stream",
     "text": [
      "The chances of rain during next Saturday is 0.32 or 32%\n"
     ]
    }
   ],
   "source": [
    "# YOUR CODE HERE\n",
    "prob_cloudy = 0.4\n",
    "prob_rain_given_cloudy = 0.5\n",
    "prob_rain_given_non_cloudy = 0.2\n",
    "\n",
    "prob_not_cloudy = 1 - prob_cloudy\n",
    "\n",
    "prob_rain = (prob_rain_given_cloudy * prob_cloudy) + (prob_rain_given_non_cloudy * prob_not_cloudy)\n",
    "\n",
    "prob_rain_percentage = prob_rain * 100\n",
    "\n",
    "print(f\"The chances of rain during next Saturday is {round(prob_rain,3)} or {round(prob_rain_percentage)}%\")"
   ]
  },
  {
   "cell_type": "markdown",
   "metadata": {},
   "source": [
    "### Exercise: Probability of Rain on Saturday\n",
    "\n",
    "We are given the following probabilities:\n",
    "\n",
    "- The probability of a day being cloudy is \\( P(\\text{Cloudy}) = 0.4 \\).\n",
    "- The probability of rain given that the day is cloudy is \\( P(\\text{Rain} | \\text{Cloudy}) = 0.5 \\).\n",
    "- The probability of rain given that the day is not cloudy is \\( P(\\text{Rain} | \\text{Non-Cloudy}) = 0.2 \\).\n",
    "\n",
    "#### Step 1: Probability of Non-Cloudy Day\n",
    "\n",
    "The probability of a day being non-cloudy is the complement of the probability of a cloudy day:\n",
    "\n",
    "$$\n",
    "P(\\text{Non-Cloudy}) = 1 - P(\\text{Cloudy}) = 1 - 0.4 = 0.6\n",
    "$$\n",
    "\n",
    "#### Step 2: Total Probability of Rain\n",
    "\n",
    "The total probability of rain can be calculated using the law of total probability. The total probability of rain is the sum of the probabilities of rain given a cloudy day and rain given a non-cloudy day, weighted by the probabilities of cloudy and non-cloudy days:\n",
    "\n",
    "$$\n",
    "P(\\text{Rain}) = P(\\text{Rain} | \\text{Cloudy}) \\times P(\\text{Cloudy}) + P(\\text{Rain} | \\text{Non-Cloudy}) \\times P(\\text{Non-Cloudy})\n",
    "$$\n",
    "\n",
    "Substituting the values:\n",
    "\n",
    "$$\n",
    "P(\\text{Rain}) = (0.5 \\times 0.4) + (0.2 \\times 0.6) = 0.2 + 0.12 = 0.32\n",
    "$$\n",
    "\n",
    "Thus, the probability of rain on Saturday is:\n",
    "\n",
    "$$\n",
    "P(\\text{Rain}) = 0.32 \\quad \\text{or} \\quad 32\\%\n",
    "$$\n"
   ]
  },
  {
   "cell_type": "markdown",
   "metadata": {},
   "source": [
    "## Challenge 3\n",
    "\n",
    "A and B are events of a probability such that $P(A) = 0.3$, $P(B) = 0.6$ and $P(A \\cap B) = 0.1$\n",
    "\n",
    "Which of the following statements are true?  \n",
    "**HINT: draw a big Venn Diagram by your side**  \n",
    "* $P(\\overline{A}) = 0.7$\n",
    "* $P(A \\cup B) = 0.6$\n",
    "* $P(A \\cap \\overline{B}) = 0.2$\n",
    "* $P(A \\cup \\overline{A}) = 1$  \n",
    "* $P(A \\cap (B \\cup \\overline{B})) = 0.4$\n",
    "* $P(\\overline{A} \\cap \\overline{B}) = 0.3$\n",
    "* $P(\\overline{A \\cap B}) = 0.9$"
   ]
  },
  {
   "cell_type": "code",
   "execution_count": 152,
   "metadata": {},
   "outputs": [
    {
     "name": "stdout",
     "output_type": "stream",
     "text": [
      "P(¬A) = 0.7\n",
      "P(A ∪ B) = 0.7999999999999999\n",
      "P(A ∩ ¬B) = 0.19999999999999998\n",
      "P(A ∪ ¬A) = 1\n",
      "P(A ∩ (B ∪ ¬B)) = 0.3\n",
      "P(¬A ∩ ¬B) = 0.20000000000000007\n",
      "P(¬(A ∩ B)) = 0.9\n"
     ]
    }
   ],
   "source": [
    "# YOUR CODE HERE\n",
    "P_A = 0.3\n",
    "P_B = 0.6\n",
    "P_A_and_B = 0.1\n",
    "\n",
    "P_not_A = 1 - P_A\n",
    "P_A_union_B = P_A + P_B - P_A_and_B\n",
    "P_A_and_not_B = P_A - P_A_and_B\n",
    "P_A_union_not_A = 1  # Always 1\n",
    "P_A_and_B_union_not_B = P_A  # Universal set, so P(A)\n",
    "P_not_A_and_not_B = 1 - P_A_union_B\n",
    "P_not_A_and_B_complement = 1 - P_A_and_B\n",
    "\n",
    "# Print the results for verification\n",
    "print(f\"P(¬A) = {P_not_A}\")\n",
    "print(f\"P(A ∪ B) = {P_A_union_B}\")\n",
    "print(f\"P(A ∩ ¬B) = {P_A_and_not_B}\")\n",
    "print(f\"P(A ∪ ¬A) = {P_A_union_not_A}\")\n",
    "print(f\"P(A ∩ (B ∪ ¬B)) = {P_A_and_B_union_not_B}\")\n",
    "print(f\"P(¬A ∩ ¬B) = {P_not_A_and_not_B}\")\n",
    "print(f\"P(¬(A ∩ B)) = {P_not_A_and_B_complement}\")"
   ]
  },
  {
   "cell_type": "markdown",
   "metadata": {},
   "source": [
    "* $P(\\overline{A}) = 0.7$ -> True\n",
    "* $P(A \\cup B) = 0.6$ -> False\n",
    "* $P(A \\cap \\overline{B}) = 0.2$ -> True \n",
    "* $P(A \\cup \\overline{A}) = 1$ ->True\n",
    "* $P(A \\cap (B \\cup \\overline{B})) = 0.4$ -> True\n",
    "* $P(\\overline{A} \\cap \\overline{B}) = 0.3$ -> False\n",
    "* $P(\\overline{A \\cap B}) = 0.9$ -> True"
   ]
  },
  {
   "cell_type": "markdown",
   "metadata": {},
   "source": [
    "## Challenge 4\n",
    "\n",
    " * If someone flies to China, the probability of getting Covid is 1%  \n",
    " * If someone flies to Italy, the probability of getting Covid is 20%  \n",
    "\n",
    "I roll 1 dice with numbers 1, 2, 3, 4, 5, 6:  \n",
    " * If 1: I fly to Italy\n",
    " * If not 1: I fly to China\n",
    "\n",
    "During my trip, I got Covid. What is the probability that I flew to China?"
   ]
  },
  {
   "cell_type": "code",
   "execution_count": 138,
   "metadata": {},
   "outputs": [
    {
     "name": "stdout",
     "output_type": "stream",
     "text": [
      "The probability of having got Covid on a trip to China is: 0.2 or 20%\n"
     ]
    }
   ],
   "source": [
    "# YOUR CODE HERE\n",
    "prob_covid_in_china = 0.01\n",
    "prob_covid_in_italy = 0.2\n",
    "\n",
    "prob_went_china = 5/6\n",
    "prob_went_italy = 1/6\n",
    "\n",
    "prob_get_covid = prob_covid_in_china * prob_went_china + prob_covid_in_italy * prob_went_italy\n",
    "\n",
    "prob_got_covid_in_china = (prob_covid_in_china * prob_went_china) / prob_get_covid\n",
    "prob_got_covid_in_china_percent = prob_got_covid_in_china * 100\n",
    "\n",
    "print(f\"The probability of having got Covid on a trip to China is: {round(prob_got_covid_in_china, 3)} or {round(prob_got_covid_in_china_percent)}%\")"
   ]
  },
  {
   "cell_type": "markdown",
   "metadata": {},
   "source": [
    "### Exercise: Probability of Getting Covid on a Trip\n",
    "\n",
    "We are given the following probabilities:\n",
    "\n",
    "- The probability of getting Covid in China is \\( P(\\text{Covid} | \\text{China}) = 0.01 \\).\n",
    "- The probability of getting Covid in Italy is \\( P(\\text{Covid} | \\text{Italy}) = 0.2 \\).\n",
    "- The probability of going to China is \\( P(\\text{China}) = \\frac{5}{6} \\).\n",
    "- The probability of going to Italy is \\( P(\\text{Italy}) = \\frac{1}{6} \\).\n",
    "\n",
    "#### Step 1: Total Probability of Getting Covid\n",
    "\n",
    "The total probability of getting Covid is the sum of the probabilities of getting Covid in China and Italy, weighted by the probabilities of going to China and Italy:\n",
    "\n",
    "$$\n",
    "P(\\text{Covid}) = P(\\text{Covid} | \\text{China}) \\times P(\\text{China}) + P(\\text{Covid} | \\text{Italy}) \\times P(\\text{Italy})\n",
    "$$\n",
    "\n",
    "Substituting the values:\n",
    "\n",
    "$$\n",
    "P(\\text{Covid}) = (0.01 \\times \\frac{5}{6}) + (0.2 \\times \\frac{1}{6}) = 0.00833 + 0.03333 = 0.04167\n",
    "$$\n",
    "\n",
    "Thus, the total probability of getting Covid is:\n",
    "\n",
    "$$\n",
    "P(\\text{Covid}) = 0.04167 \\quad \\text{or} \\quad 4.17\\%\n",
    "$$\n",
    "\n",
    "#### Step 2: Conditional Probability of Getting Covid Given You Went to China\n",
    "\n",
    "We are asked to find the probability that you went to China, given that you got Covid. We can calculate this using **Bayes' Theorem**:\n",
    "\n",
    "$$\n",
    "P(\\text{China} | \\text{Covid}) = \\frac{P(\\text{Covid} | \\text{China}) \\times P(\\text{China})}{P(\\text{Covid})}\n",
    "$$\n",
    "\n",
    "Substituting the values:\n",
    "\n",
    "$$\n",
    "P(\\text{China} | \\text{Covid}) = \\frac{0.01 \\times \\frac{5}{6}}{0.04167} = \\frac{0.00833}{0.04167} = 0.2\n",
    "$$\n",
    "\n",
    "Thus, the probability that you went to China given that you got Covid is:\n",
    "\n",
    "$$\n",
    "P(\\text{China} | \\text{Covid}) = 0.2 \\quad \\text{or} \\quad 20\\%\n",
    "$$\n"
   ]
  },
  {
   "cell_type": "markdown",
   "metadata": {},
   "source": [
    "## BONUS\n",
    "\n",
    "You roll 2 dice. What is the probability that the sum of the numbers is 7? And 8? And 9? Then simulate 10000 times and draw a countplot."
   ]
  },
  {
   "cell_type": "markdown",
   "metadata": {},
   "source": [
    "your explanation here"
   ]
  },
  {
   "cell_type": "code",
   "execution_count": 142,
   "metadata": {},
   "outputs": [
    {
     "name": "stderr",
     "output_type": "stream",
     "text": [
      "C:\\Users\\Jarian\\AppData\\Local\\Temp\\ipykernel_26636\\2353472095.py:14: FutureWarning: \n",
      "\n",
      "Passing `palette` without assigning `hue` is deprecated and will be removed in v0.14.0. Assign the `x` variable to `hue` and set `legend=False` for the same effect.\n",
      "\n",
      "  sns.countplot(x=dice_rolls, palette=\"viridis\")\n"
     ]
    },
    {
     "data": {
      "image/png": "[encoded data removed]",
      "text/plain": [
       "<Figure size 1000x600 with 1 Axes>"
      ]
     },
     "metadata": {},
     "output_type": "display_data"
    }
   ],
   "source": [
    "# YOUR CODE HERE\n",
    "import random\n",
    "import seaborn as sns\n",
    "import matplotlib.pyplot as plt\n",
    "\n",
    "dice_rolls = []\n",
    "for _ in range(10000):\n",
    "    die1 = random.randint(1, 6)\n",
    "    die2 = random.randint(1, 6)\n",
    "    dice_rolls.append(die1 + die2)\n",
    "\n",
    "sns.set(style=\"whitegrid\")\n",
    "plt.figure(figsize=(10, 6))\n",
    "sns.countplot(x=dice_rolls, palette=\"viridis\")\n",
    "\n",
    "\n",
    "plt.title(\"Distribution of Sums from Rolling Two Dice\", fontsize=15)\n",
    "plt.xlabel(\"Sum of Two Dice\", fontsize=12)\n",
    "plt.ylabel(\"Frequency\", fontsize=12)\n",
    "plt.show()"
   ]
  },
  {
   "cell_type": "markdown",
   "metadata": {},
   "source": [
    "The countplot for the sums 7, 8, and 9 shows the following probabilities based on the number of favorable outcomes:\n",
    "    -Sum of 7: This is the most likely sum with 6 favorable combinations (e.g., 1+6, 2+5, etc.), so it has the highest frequency in the countplot.\n",
    "    -Sum of 8: This sum is slightly less likely, with 5 favorable combinations, so it appears as the second tallest bar.\n",
    "    -Sum of 9: With 4 favorable combinations, the sum of 9 is less likely than 7 and 8, so it has the third highest frequency.\n",
    "These sums follow the pattern where the middle sums are more probable than the extreme sums. The countplot visually represents this by showing higher frequencies for sums closer to 7."
   ]
  },
  {
   "cell_type": "markdown",
   "metadata": {},
   "source": [
    "### Exercise: Probability of Sums from Rolling Two Dice\n",
    "\n",
    "We are rolling two six-sided dice and observing the sum of the numbers on each roll. We will calculate the probabilities of obtaining the sums 7, 8, and 9 based on the theoretical distribution and simulate the process 10,000 times to verify the results.\n",
    "\n",
    "#### Step 1: Theoretical Calculation\n",
    "\n",
    "The total number of possible outcomes when rolling two dice is:\n",
    "\n",
    "$$\n",
    "6 \\times 6 = 36 \\quad \\text{(since each die has 6 faces)}\n",
    "$$\n",
    "\n",
    "We are interested in the probability of obtaining the sums 7, 8, and 9. Let's first calculate the number of ways to get each of these sums:\n",
    "\n",
    "- For a sum of 7:\n",
    "  - Possible combinations: (1,6), (2,5), (3,4), (4,3), (5,2), (6,1)\n",
    "  - Number of outcomes: 6\n",
    "\n",
    "- For a sum of 8:\n",
    "  - Possible combinations: (2,6), (3,5), (4,4), (5,3), (6,2)\n",
    "  - Number of outcomes: 5\n",
    "\n",
    "- For a sum of 9:\n",
    "  - Possible combinations: (3,6), (4,5), (5,4), (6,3)\n",
    "  - Number of outcomes: 4\n",
    "\n",
    "Thus, the probabilities are:\n",
    "\n",
    "- \\( P(\\text{Sum} = 7) = \\frac{6}{36} = \\frac{1}{6} \\)\n",
    "- \\( P(\\text{Sum} = 8) = \\frac{5}{36} \\)\n",
    "- \\( P(\\text{Sum} = 9) = \\frac{4}{36} = \\frac{1}{9} \\)\n",
    "\n",
    "#### Step 2: Simulation\n",
    "\n",
    "To simulate the rolling of two dice 10,000 times, we use the following approach:\n",
    "\n",
    "- We simulate each roll by generating random numbers between 1 and 6 for each die.\n",
    "- The sum of the dice is calculated and stored in a list.\n",
    "- We then plot the frequency of each sum using a count plot.\n",
    "\n",
    "#### Step 3: Count Plot\n",
    "\n",
    "The count plot visually shows the distribution of sums obtained from the 10,000 simulated rolls. Based on the simulated data, the distribution should approximately follow the theoretical probabilities, with the sum of 7 being the most frequent, followed by 8, and then 9.\n",
    "\n",
    "- From the count plot, we can observe the distribution of the sums.\n",
    "- The sum of 7 will be the most frequent, reflecting its higher number of possible outcomes.\n",
    "- Sums of 8 and 9 will be less frequent, as expected, based on the number of ways to achieve them.\n",
    "\n",
    "This simulation provides a useful visual representation of the theoretical probabilities.\n"
   ]
  },
  {
   "cell_type": "code",
   "execution_count": null,
   "metadata": {},
   "outputs": [],
   "source": []
  }
 ],
 "metadata": {
  "kernelspec": {
   "display_name": "Python 3 (ipykernel)",
   "language": "python",
   "name": "python3"
  },
  "language_info": {
   "codemirror_mode": {
    "name": "ipython",
    "version": 3
   },
   "file_extension": ".py",
   "mimetype": "text/x-python",
   "name": "python",
   "nbconvert_exporter": "python",
   "pygments_lexer": "ipython3",
   "version": "3.12.7"
  },
  "toc": {
   "base_numbering": 1,
   "nav_menu": {},
   "number_sections": false,
   "sideBar": true,
   "skip_h1_title": false,
   "title_cell": "Table of Contents",
   "title_sidebar": "Contents",
   "toc_cell": false,
   "toc_position": {
    "height": "calc(100% - 180px)",
    "left": "10px",
    "top": "150px",
    "width": "296.475px"
   },
   "toc_section_display": true,
   "toc_window_display": false
  },
  "varInspector": {
   "cols": {
    "lenName": 16,
    "lenType": 16,
    "lenVar": 40
   },
   "kernels_config": {
    "python": {
     "delete_cmd_postfix": "",
     "delete_cmd_prefix": "del ",
     "library": "var_list.py",
     "varRefreshCmd": "print(var_dic_list())"
    },
    "r": {
     "delete_cmd_postfix": ") ",
     "delete_cmd_prefix": "rm(",
     "library": "var_list.r",
     "varRefreshCmd": "cat(var_dic_list()) "
    }
   },
   "types_to_exclude": [
    "module",
    "function",
    "builtin_function_or_method",
    "instance",
    "_Feature"
   ],
   "window_display": false
  }
 },
 "nbformat": 4,
 "nbformat_minor": 4
}
