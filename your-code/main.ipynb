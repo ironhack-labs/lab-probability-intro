{
 "cells": [
  {
   "cell_type": "markdown",
   "metadata": {},
   "source": [
    "# Probability"
   ]
  },
  {
   "cell_type": "markdown",
   "metadata": {},
   "source": [
    "## Challenge 1\n",
    "There is a box with 10 white balls, 12 red balls and 8 black balls. Calculate the probability of:\n",
    "* Taking a white ball out.\n",
    "* Taking a white ball on first extraction and a black ball out on second extraction without replacing the first one.\n",
    "* Taking a white ball on first extraction and a black ball out on second extraction replacing the first one.\n",
    "* Taking 3 balls and them being all different colours."
   ]
  },
  {
   "cell_type": "code",
   "execution_count": 1,
   "metadata": {},
   "outputs": [
    {
     "name": "stdout",
     "output_type": "stream",
     "text": [
      "1. Probability of drawing a white ball: 0.3333333333333333\n",
      "2. Probability of drawing a white ball on the first extraction and a black ball on the second extraction without replacing the first one: 0.09195402298850575\n",
      "3. Probability of drawing a white ball on the first extraction and a black ball on the second extraction replacing the first one: 0.08888888888888888\n",
      "4. Probability of drawing 3 balls of different colors: 0.23645320197044337\n"
     ]
    }
   ],
   "source": [
    "# YOUR CODE HERE\n",
    "# Total number of balls of each color\n",
    "white_balls = 10\n",
    "red_balls = 12\n",
    "black_balls = 8\n",
    "\n",
    "# Total number of balls\n",
    "total_balls = white_balls + red_balls + black_balls\n",
    "\n",
    "# 1. Probability of drawing a white ball\n",
    "prob_white = white_balls / total_balls\n",
    "\n",
    "# 2. Probability of drawing a white ball on the first extraction and a black ball on the second extraction without replacing the first one\n",
    "prob_black_after_white = (black_balls) / (total_balls - 1)\n",
    "prob_white_black = prob_white * prob_black_after_white\n",
    "\n",
    "# 3. Probability of drawing a white ball on the first extraction and a black ball on the second extraction replacing the first one\n",
    "prob_black_replacing = black_balls / total_balls\n",
    "prob_white_black_replacing = prob_white * prob_black_replacing\n",
    "\n",
    "# 4. Probability of drawing 3 balls of different colors\n",
    "# Define a function to calculate the probability of drawing a specific sequence of colors\n",
    "def prob_sequence(color1, color2, color3):\n",
    "    return (color1 / total_balls) * (color2 / (total_balls - 1)) * (color3 / (total_balls - 2))\n",
    "\n",
    "# Calculate the probability for each permutation and sum them up\n",
    "prob_diff_colors = (\n",
    "    prob_sequence(white_balls, red_balls, black_balls) +\n",
    "    prob_sequence(white_balls, black_balls, red_balls) +\n",
    "    prob_sequence(red_balls, white_balls, black_balls) +\n",
    "    prob_sequence(red_balls, black_balls, white_balls) +\n",
    "    prob_sequence(black_balls, white_balls, red_balls) +\n",
    "    prob_sequence(black_balls, red_balls, white_balls)\n",
    ")\n",
    "\n",
    "# Print the results\n",
    "print(\"1. Probability of drawing a white ball:\", prob_white)\n",
    "print(\"2. Probability of drawing a white ball on the first extraction and a black ball on the second extraction without replacing the first one:\", prob_white_black)\n",
    "print(\"3. Probability of drawing a white ball on the first extraction and a black ball on the second extraction replacing the first one:\", prob_white_black_replacing)\n",
    "print(\"4. Probability of drawing 3 balls of different colors:\", prob_diff_colors)"
   ]
  },
  {
   "cell_type": "markdown",
   "metadata": {},
   "source": [
    "## Challenge 2\n",
    "\n",
    "You want to go on picnic on Saturday. You hate rain, and would know to plan your weekend. To help you make a decision, you gather the following data about rainy days:\n",
    "\n",
    "* 40% of all days are cloudy.\n",
    "* About 50% of cloudy days are rainy. \n",
    "* About 20% of non-cloudy days are rainy.\n",
    "\n",
    "What is the chance of rain during next Saturday?"
   ]
  },
  {
   "cell_type": "code",
   "execution_count": 2,
   "metadata": {},
   "outputs": [
    {
     "name": "stdout",
     "output_type": "stream",
     "text": [
      "Probability of rain on Saturday: 0.32\n"
     ]
    }
   ],
   "source": [
    "# YOUR CODE HERE\n",
    "# Given probabilities\n",
    "P_cloudy = 0.4\n",
    "P_rain_given_cloudy = 0.5\n",
    "P_rain_given_not_cloudy = 0.2\n",
    "\n",
    "# Probability of rain on Saturday using the law of total probability\n",
    "P_rain = P_rain_given_cloudy * P_cloudy + P_rain_given_not_cloudy * (1 - P_cloudy)\n",
    "\n",
    "# Print the result\n",
    "print(\"Probability of rain on Saturday:\", P_rain)"
   ]
  },
  {
   "cell_type": "markdown",
   "metadata": {},
   "source": [
    "## Challenge 3\n",
    "\n",
    "A and B are events of a probability such that $P(A) = 0.3$, $P(B) = 0.6$ and $P(A \\cap B) = 0.1$\n",
    "\n",
    "Which of the following statements are true?  \n",
    "**HINT: draw a big Venn Diagram by your side**  \n",
    "* $P(\\overline{A}) = 0.7$\n",
    "* $P(A \\cup B) = 0.6$\n",
    "* $P(A \\cap \\overline{B}) = 0.2$\n",
    "* $P(A \\cup \\overline{A}) = 1$  \n",
    "* $P(A \\cap (B \\cup \\overline{B})) = 0.4$\n",
    "* $P(\\overline{A} \\cap \\overline{B}) = 0.3$\n",
    "* $P(\\overline{A \\cap B}) = 0.9$"
   ]
  },
  {
   "cell_type": "code",
   "execution_count": 3,
   "metadata": {},
   "outputs": [
    {
     "name": "stdout",
     "output_type": "stream",
     "text": [
      "P(not A) = 0.7: True\n",
      "P(A union B) = 0.6: False\n",
      "P(A intersection not B) = 0.2: True\n",
      "P(A union not A) = 1: True\n",
      "P(A intersection (B union not B)) = 0.4: False\n",
      "P(not A intersection not B) = 0.3: False\n",
      "P(not (A intersection B)) = 0.9: True\n"
     ]
    }
   ],
   "source": [
    "# YOUR CODE HERE\n",
    "# Given probabilities\n",
    "P_A = 0.3\n",
    "P_B = 0.6\n",
    "P_A_intersection_B = 0.1\n",
    "\n",
    "# Calculate probabilities of complement events\n",
    "P_not_A = 1 - P_A\n",
    "P_not_B = 1 - P_B\n",
    "\n",
    "# Calculate probabilities of union and intersection of events\n",
    "P_A_union_B = P_A + P_B - P_A_intersection_B\n",
    "P_A_intersection_not_B = P_A - P_A_intersection_B\n",
    "P_A_union_not_A = P_A + P_not_A\n",
    "P_A_intersection_B_union_not_B = P_A_intersection_B + P_not_B\n",
    "P_not_A_intersection_not_B = 1 - P_A_intersection_B\n",
    "\n",
    "# Check which statements are true\n",
    "statements = {\n",
    "    \"P(not A) = 0.7\": round(P_not_A, 2) == 0.7,\n",
    "    \"P(A union B) = 0.6\": round(P_A_union_B, 2) == 0.6,\n",
    "    \"P(A intersection not B) = 0.2\": round(P_A_intersection_not_B, 2) == 0.2,\n",
    "    \"P(A union not A) = 1\": round(P_A_union_not_A, 2) == 1,\n",
    "    \"P(A intersection (B union not B)) = 0.4\": round(P_A_intersection_B_union_not_B, 2) == 0.4,\n",
    "    \"P(not A intersection not B) = 0.3\": round(P_not_A_intersection_not_B, 2) == 0.3,\n",
    "    \"P(not (A intersection B)) = 0.9\": round(P_not_A_intersection_not_B, 2) == 0.9\n",
    "}\n",
    "\n",
    "# Print the results\n",
    "for statement, is_true in statements.items():\n",
    "    print(f\"{statement}: {'True' if is_true else 'False'}\")"
   ]
  },
  {
   "cell_type": "markdown",
   "metadata": {},
   "source": [
    "## Challenge 4\n",
    "\n",
    " * If someone flies to China, the probability of getting Covid is 1%  \n",
    " * If someone flies to Italy, the probability of getting Covid is 20%  \n",
    "\n",
    "I roll 1 dice with numbers 1, 2, 3, 4, 5, 6:  \n",
    " * If 1: I fly to Italy\n",
    " * If not 1: I fly to China\n",
    "\n",
    "During my trip, I got Covid. What is the probability that I flew to China?"
   ]
  },
  {
   "cell_type": "code",
   "execution_count": 5,
   "metadata": {},
   "outputs": [
    {
     "name": "stdout",
     "output_type": "stream",
     "text": [
      "Probability of flying to China given that I have Covid is: 0.2\n"
     ]
    }
   ],
   "source": [
    "# YOUR CODE HERE\n",
    "# Given probabilities\n",
    "P_C_given_I = 0.20  # Probability of getting Covid if flying to Italy\n",
    "P_C_given_Ch = 0.01  # Probability of getting Covid if flying to China\n",
    "P_I = 1 / 6  # Probability of flying to Italy\n",
    "P_Ch = 1 - P_I  # Probability of flying to China\n",
    "\n",
    "# Calculate probability of getting Covid using law of total probability\n",
    "P_C = P_C_given_I * P_I + P_C_given_Ch * P_Ch\n",
    "\n",
    "# Calculate probability of flying to China given that Covid occurred using Bayes' theorem\n",
    "P_Ch_given_C = (P_C_given_Ch * P_Ch) / P_C\n",
    "\n",
    "# Print the result\n",
    "print(\"Probability of flying to China given that I have Covid is:\", P_Ch_given_C)"
   ]
  },
  {
   "cell_type": "markdown",
   "metadata": {},
   "source": [
    "## BONUS\n",
    "\n",
    "You roll 2 dice. What is the probability that the sum of the numbers is 7? And 8? And 9? Then simulate 10000 times and draw a countplot."
   ]
  },
  {
   "cell_type": "markdown",
   "metadata": {},
   "source": [
    "your explanation here"
   ]
  },
  {
   "cell_type": "code",
   "execution_count": 7,
   "metadata": {},
   "outputs": [
    {
     "name": "stdout",
     "output_type": "stream",
     "text": [
      "prob7: 0.16666666666666666 | calc7: 0.16665408\n",
      "prob8: 0.1388888888888889 | calc8: 0.13884735\n",
      "prob9: 0.1111111111111111 | calc9: 0.11105971\n"
     ]
    }
   ],
   "source": [
    "# YOUR CODE HERE\n",
    "import random\n",
    "sum7 = [ [1, 6], [2, 5], [3, 4], [4, 3], [5, 2], [6, 1] ]\n",
    "sum8 = [ [2, 6], [3, 5], [4, 4], [5, 3], [6, 2] ]\n",
    "sum9 = [ [3, 6], [4, 5], [5, 4], [6, 3] ]\n",
    "\n",
    "prob7 = len(sum7) / 36 \n",
    "prob8 = len(sum8) / 36\n",
    "prob9 = len(sum9) / 36\n",
    "\n",
    "calc7 = 0\n",
    "calc8 = 0\n",
    "calc9 = 0\n",
    "\n",
    "def roll_the_dice()->int:\n",
    "    return (random.randrange(1, 7) + random.randrange(1, 7))\n",
    "\n",
    "total_tries = 100000000\n",
    "for i in range(0, total_tries):\n",
    "    sum = roll_the_dice()\n",
    "    if sum == 7:\n",
    "        calc7 += 1\n",
    "    elif sum == 8:\n",
    "        calc8 +=1\n",
    "    elif sum == 9:\n",
    "        calc9 +=1\n",
    "\n",
    "print(f'prob7: {prob7} | calc7: {calc7 / total_tries}')\n",
    "print(f'prob8: {prob8} | calc8: {calc8 / total_tries}')\n",
    "print(f'prob9: {prob9} | calc9: {calc9 / total_tries}')"
   ]
  },
  {
   "cell_type": "code",
   "execution_count": 9,
   "metadata": {},
   "outputs": [
    {
     "data": {
      "image/png": "[encoded data removed]",
      "text/plain": [
       "<Figure size 1000x800 with 1 Axes>"
      ]
     },
     "metadata": {},
     "output_type": "display_data"
    }
   ],
   "source": [
    "import seaborn as sns\n",
    "import matplotlib.pyplot as plt\n",
    "\n",
    "import pandas as pd\n",
    "\n",
    "rolls = [(random.randint(1, 6), random.randint(1, 6)) for _ in range(total_tries)]\n",
    "plt.figure(figsize=(10, 8))\n",
    "\n",
    "df = pd.DataFrame(data = rolls, columns=['x', 'y'])\n",
    "dicerolls = sns.countplot(data=df, x=(df['x'] + df['y']), palette='Dark2')\n",
    "# dicerolls.set_yticks([0, 700, 800, 900, 1000, 1100, 1200,  total_tries])\n",
    "dicerolls.grid(visible=True)\n",
    "plt.title(f'Distribution of sum for dice rolls over {total_tries} tries')\n",
    "plt.xlabel('Sum of rolls')\n",
    "plt.ylabel('Count')\n",
    "plt.show()"
   ]
  },
  {
   "cell_type": "code",
   "execution_count": null,
   "metadata": {},
   "outputs": [],
   "source": []
  }
 ],
 "metadata": {
  "kernelspec": {
   "display_name": "Python 3 (ipykernel)",
   "language": "python",
   "name": "python3"
  },
  "language_info": {
   "codemirror_mode": {
    "name": "ipython",
    "version": 3
   },
   "file_extension": ".py",
   "mimetype": "text/x-python",
   "name": "python",
   "nbconvert_exporter": "python",
   "pygments_lexer": "ipython3",
   "version": "3.11.7"
  },
  "toc": {
   "base_numbering": 1,
   "nav_menu": {},
   "number_sections": false,
   "sideBar": true,
   "skip_h1_title": false,
   "title_cell": "Table of Contents",
   "title_sidebar": "Contents",
   "toc_cell": false,
   "toc_position": {
    "height": "calc(100% - 180px)",
    "left": "10px",
    "top": "150px",
    "width": "296.475px"
   },
   "toc_section_display": true,
   "toc_window_display": false
  },
  "varInspector": {
   "cols": {
    "lenName": 16,
    "lenType": 16,
    "lenVar": 40
   },
   "kernels_config": {
    "python": {
     "delete_cmd_postfix": "",
     "delete_cmd_prefix": "del ",
     "library": "var_list.py",
     "varRefreshCmd": "print(var_dic_list())"
    },
    "r": {
     "delete_cmd_postfix": ") ",
     "delete_cmd_prefix": "rm(",
     "library": "var_list.r",
     "varRefreshCmd": "cat(var_dic_list()) "
    }
   },
   "types_to_exclude": [
    "module",
    "function",
    "builtin_function_or_method",
    "instance",
    "_Feature"
   ],
   "window_display": false
  }
 },
 "nbformat": 4,
 "nbformat_minor": 2
}
