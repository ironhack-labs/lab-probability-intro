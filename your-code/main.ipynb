{
 "cells": [
  {
   "cell_type": "markdown",
   "metadata": {},
   "source": [
    "# Probability"
   ]
  },
  {
   "cell_type": "markdown",
   "metadata": {},
   "source": [
    "## Challenge 1\n",
    "There is a box with 10 white balls, 12 red balls and 8 black balls. Calculate the probability of:\n",
    "* Taking a white ball out.\n",
    "* Taking a white ball on first extraction and a black ball out on second extraction without replacing the first one.\n",
    "* Taking a white ball on first extraction and a black ball out on second extraction replacing the first one.\n",
    "* Taking 3 balls and them being all different colours."
   ]
  },
  {
   "cell_type": "code",
   "execution_count": 1,
   "metadata": {},
   "outputs": [
    {
     "name": "stdout",
     "output_type": "stream",
     "text": [
      "The probability of take a white ball is 0.3333\n",
      "The probability of take a white ball (first) is 0.3333 and then a black one (non replacing) is 0.2759\n",
      "The probability of both is 0.092\n",
      "The probability of take a white ball (first) is 0.3333 and then a black one (replacing) is 0.2667\n",
      "The probability of both is 0.0889\n",
      "The probability of take a three balls from different colours (replacing) is 0.2133\n",
      "The probability of take a three balls from different colours (non replacing) is 0.2365\n"
     ]
    }
   ],
   "source": [
    "# YOUR CODE HERE\n",
    "white_balls = 10\n",
    "red_balls = 12\n",
    "black_balls = 8\n",
    "total_balls = white_balls + red_balls + black_balls\n",
    "\n",
    "#white\n",
    "print(f\"The probability of take a white ball is {round(white_balls/total_balls,4)}\")\n",
    "\n",
    "#white+black\n",
    "print(f\"The probability of take a white ball (first) is {round(white_balls/total_balls,4)} and then a black one (non replacing) is {round(black_balls/(total_balls-1),4)}\")\n",
    "print(f\"The probability of both is {round((white_balls/total_balls)*((black_balls/(total_balls-1))),4)}\")\n",
    "\n",
    "#white+black replacing\n",
    "print(f\"The probability of take a white ball (first) is {round(white_balls/total_balls,4)} and then a black one (replacing) is {round(black_balls/(total_balls),4)}\")\n",
    "print(f\"The probability of both is {round((white_balls/total_balls)*((black_balls/(total_balls))),4)}\")\n",
    "\n",
    "#3colors\n",
    "print(f\"The probability of take a three balls from different colours (replacing) is {round(6*(white_balls*red_balls*black_balls)/(total_balls**3),4)}\")\n",
    "print(f\"The probability of take a three balls from different colours (non replacing) is {round(6*(white_balls*red_balls*black_balls)/((total_balls*(total_balls-1)*(total_balls-2))),4)}\")"
   ]
  },
  {
   "cell_type": "markdown",
   "metadata": {},
   "source": [
    "## Challenge 2\n",
    "\n",
    "You want to go on picnic on Saturday. You hate rain, and would know to plan your weekend. To help you make a decision, you gather the following data about rainy days:\n",
    "\n",
    "* 40% of all days are cloudy.\n",
    "* About 50% of cloudy days are rainy. \n",
    "* About 20% of non-cloudy days are rainy.\n",
    "\n",
    "What is the chance of rain during next Saturday?"
   ]
  },
  {
   "cell_type": "code",
   "execution_count": 33,
   "metadata": {},
   "outputs": [
    {
     "name": "stdout",
     "output_type": "stream",
     "text": [
      "The propability of rain for the Sunday is 0.32\n"
     ]
    }
   ],
   "source": [
    "# YOUR CODE HERE\n",
    "\n",
    "p_cloud=0.4\n",
    "p_nocloud=0.6\n",
    "p_cloud_in_rain=0.5\n",
    "p_nocloud_in_rain=0.2\n",
    "\n",
    "p_rain=p_cloud*p_cloud_in_rain+p_nocloud*p_nocloud_in_rain\n",
    "\n",
    "print(f\"The propability of rain for the Sunday is {p_rain}\")"
   ]
  },
  {
   "cell_type": "markdown",
   "metadata": {},
   "source": [
    "## Challenge 3\n",
    "\n",
    "A and B are events of a probability such that $P(A) = 0.3$, $P(B) = 0.6$ and $P(A \\cap B) = 0.1$\n",
    "\n",
    "Which of the following statements are true?  \n",
    "**HINT: draw a big Venn Diagram by your side**  \n",
    "* $P(\\overline{A}) = 0.7$\n",
    "* $P(A \\cup B) = 0.6$\n",
    "* $P(A \\cap \\overline{B}) = 0.2$\n",
    "* $P(A \\cup \\overline{A}) = 1$  \n",
    "* $P(A \\cap (B \\cup \\overline{B})) = 0.4$\n",
    "* $P(\\overline{A} \\cap \\overline{B}) = 0.3$\n",
    "* $P(\\overline{A \\cap B}) = 0.9$"
   ]
  },
  {
   "cell_type": "code",
   "execution_count": 37,
   "metadata": {},
   "outputs": [
    {
     "name": "stdout",
     "output_type": "stream",
     "text": [
      "The probability of NOT(A) is 0.7. TRUE\n",
      "The probability of (A)UNION(B) is 0.7999999999999999. FALSE\n",
      "The probability of (A)INTERSECTION(NOT(B)) is 0.19999999999999998. TRUE\n",
      "The probability of (A)UNION(NOT(A)) is 1.0. TRUE\n",
      "The probability of (A)INTERSECTION((B)UNION(NOT(B)))) is 0.3. FALSE\n",
      "The probability of (NOT(A))UNION(NOT(B)) is 0.20000000000000007. FALSE\n",
      "The probability of NOT((A)INTERSECTION(B)) is 0.9. TRUE\n"
     ]
    }
   ],
   "source": [
    "# YOUR CODE HERE\n",
    "\n",
    "p_a=0.3\n",
    "p_b=0.6\n",
    "p_in=0.1\n",
    "\n",
    "print(f\"The probability of NOT(A) is {1-p_a}. TRUE\")\n",
    "print(f\"The probability of (A)UNION(B) is {p_a+p_b-p_in}. FALSE\")\n",
    "print(f\"The probability of (A)INTERSECTION(NOT(B)) is {p_a-p_in}. TRUE\")\n",
    "print(f\"The probability of (A)UNION(NOT(A)) is {p_a+1-p_a}. TRUE\")\n",
    "print(f\"The probability of (A)INTERSECTION((B)UNION(NOT(B)))) is {p_a}. FALSE\")\n",
    "print(f\"The probability of (NOT(A))UNION(NOT(B)) is {1-(p_a+p_b-p_in)}. FALSE\")\n",
    "print(f\"The probability of NOT((A)INTERSECTION(B)) is {1-p_in}. TRUE\")"
   ]
  },
  {
   "cell_type": "markdown",
   "metadata": {},
   "source": [
    "## Challenge 4\n",
    "\n",
    " * If someone flies to China, the probability of getting Covid is 1%  \n",
    " * If someone flies to Italy, the probability of getting Covid is 20%  \n",
    "\n",
    "I roll 1 dice with numbers 1, 2, 3, 4, 5, 6:  \n",
    " * If 1: I fly to Italy\n",
    " * If not 1: I fly to China\n",
    "\n",
    "During my trip, I got Covid. What is the probability that I flew to China?"
   ]
  },
  {
   "cell_type": "code",
   "execution_count": 57,
   "metadata": {},
   "outputs": [
    {
     "name": "stdout",
     "output_type": "stream",
     "text": [
      "The probability of would go to china knowing I got covid is 0.20000000000000004.\n"
     ]
    }
   ],
   "source": [
    "# YOUR CODE HERE\n",
    "p_china=(5/6)\n",
    "p_italy=1-p_china\n",
    "\n",
    "p_covid_china=0.01\n",
    "p_covid_italia=0.2\n",
    "\n",
    "p_covid=p_covid_china*p_china+p_covid_italia*p_italy\n",
    "\n",
    "p_china_if_covid = (p_covid_china*p_china)/p_covid\n",
    "\n",
    "print(f\"The probability of would go to china knowing I got covid is {p_china_if_covid}.\")"
   ]
  },
  {
   "cell_type": "markdown",
   "metadata": {},
   "source": [
    "## BONUS\n",
    "\n",
    "You roll 2 dice. What is the probability that the sum of the numbers is 7? And 8? And 9? Then simulate 10000 times and draw a countplot."
   ]
  },
  {
   "cell_type": "markdown",
   "metadata": {},
   "source": [
    "your explanation here"
   ]
  },
  {
   "cell_type": "code",
   "execution_count": 61,
   "metadata": {},
   "outputs": [
    {
     "data": {
      "image/png": "[encoded data removed]",
      "text/plain": [
       "<Figure size 1000x600 with 1 Axes>"
      ]
     },
     "metadata": {},
     "output_type": "display_data"
    },
    {
     "data": {
      "text/plain": [
       "{7: 0.16666666666666666, 8: 0.1388888888888889, 9: 0.1111111111111111}"
      ]
     },
     "execution_count": 61,
     "metadata": {},
     "output_type": "execute_result"
    }
   ],
   "source": [
    "# YOUR CODE HERE\n",
    "import numpy as np\n",
    "import matplotlib.pyplot as plt\n",
    "import pandas as pd\n",
    "\n",
    "# Possible outcomes for two dice\n",
    "outcomes = [(i, j) for i in range(1, 7) for j in range(1, 7)]\n",
    "\n",
    "# Total possible outcomes\n",
    "total_outcomes = len(outcomes)\n",
    "\n",
    "# Calculate probabilities\n",
    "sum_counts = {7: 0, 8: 0, 9: 0}\n",
    "for roll in outcomes:\n",
    "    roll_sum = sum(roll)\n",
    "    if roll_sum in sum_counts:\n",
    "        sum_counts[roll_sum] += 1\n",
    "\n",
    "probabilities = {key: count / total_outcomes for key, count in sum_counts.items()}\n",
    "\n",
    "# Display probabilities\n",
    "probabilities\n",
    "\n",
    "# Simulation of 10,000 rolls\n",
    "np.random.seed(42)\n",
    "simulated_sums = [sum(np.random.randint(1, 7, 2)) for _ in range(10000)]\n",
    "\n",
    "# Convert to DataFrame for plotting\n",
    "simulated_df = pd.DataFrame(simulated_sums, columns=[\"Sum\"])\n",
    "\n",
    "# Count plot\n",
    "plt.figure(figsize=(10, 6))\n",
    "simulated_df[\"Sum\"].value_counts(sort=False).sort_index().plot(kind='bar')\n",
    "plt.title(\"Count of Dice Roll Sums in 10,000 Simulations\")\n",
    "plt.xlabel(\"Sum of Two Dice\")\n",
    "plt.ylabel(\"Count\")\n",
    "plt.show()\n",
    "\n",
    "# Return probabilities\n",
    "probabilities\n"
   ]
  },
  {
   "cell_type": "code",
   "execution_count": null,
   "metadata": {},
   "outputs": [],
   "source": []
  }
 ],
 "metadata": {
  "kernelspec": {
   "display_name": "Python 3 (ipykernel)",
   "language": "python",
   "name": "python3"
  },
  "language_info": {
   "codemirror_mode": {
    "name": "ipython",
    "version": 3
   },
   "file_extension": ".py",
   "mimetype": "text/x-python",
   "name": "python",
   "nbconvert_exporter": "python",
   "pygments_lexer": "ipython3",
   "version": "3.12.7"
  },
  "toc": {
   "base_numbering": 1,
   "nav_menu": {},
   "number_sections": false,
   "sideBar": true,
   "skip_h1_title": false,
   "title_cell": "Table of Contents",
   "title_sidebar": "Contents",
   "toc_cell": false,
   "toc_position": {
    "height": "calc(100% - 180px)",
    "left": "10px",
    "top": "150px",
    "width": "296.475px"
   },
   "toc_section_display": true,
   "toc_window_display": false
  },
  "varInspector": {
   "cols": {
    "lenName": 16,
    "lenType": 16,
    "lenVar": 40
   },
   "kernels_config": {
    "python": {
     "delete_cmd_postfix": "",
     "delete_cmd_prefix": "del ",
     "library": "var_list.py",
     "varRefreshCmd": "print(var_dic_list())"
    },
    "r": {
     "delete_cmd_postfix": ") ",
     "delete_cmd_prefix": "rm(",
     "library": "var_list.r",
     "varRefreshCmd": "cat(var_dic_list()) "
    }
   },
   "types_to_exclude": [
    "module",
    "function",
    "builtin_function_or_method",
    "instance",
    "_Feature"
   ],
   "window_display": false
  }
 },
 "nbformat": 4,
 "nbformat_minor": 4
}
