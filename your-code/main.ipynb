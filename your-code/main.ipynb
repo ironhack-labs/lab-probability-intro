{
 "cells": [
  {
   "cell_type": "markdown",
   "metadata": {},
   "source": [
    "# Probability"
   ]
  },
  {
   "cell_type": "markdown",
   "metadata": {},
   "source": [
    "## Challenge 1\n",
    "There is a box with 10 white balls, 12 red balls and 8 black balls. Calculate the probability of:\n",
    "* Taking a white ball out.\n",
    "* Taking a white ball on first extraction and a black ball out on second extraction without replacing the first one.\n",
    "* Taking a white ball on first extraction and a black ball out on second extraction replacing the first one.\n",
    "* Taking 3 balls and them being all different colours."
   ]
  },
  {
   "cell_type": "code",
   "execution_count": 11,
   "metadata": {},
   "outputs": [
    {
     "name": "stdout",
     "output_type": "stream",
     "text": [
      "Probability of taking a white ball out : 0.3333333333333333\n",
      "Probability of drawing a white ball first and a black ball second without replacement : 0.09195402298850575\n",
      "Probability of drawing a white ball first and a black ball second without replacement : 0.08888888888888888\n",
      "Probability of Taking 3 balls and them being all different colours without replacement : 0.23645320197044334\n",
      "Probability of Taking 3 balls and them being all different colours with replacement : 0.21333333333333335\n"
     ]
    }
   ],
   "source": [
    "# YOUR CODE HERE\n",
    "white_balls = 10\n",
    "red_balls = 12\n",
    "black_balls = 8\n",
    "\n",
    "#Taking a white ball out\n",
    "prob_white = white_balls/(white_balls+red_balls+black_balls)\n",
    "\n",
    "print(\"Probability of taking a white ball out : {}\".format(prob_white))\n",
    "\n",
    "#Taking a white ball on the first extraction and a black ball out on the second extraction without replacing the first one.\n",
    "#Event A = Taking a white ball on the first extraction\n",
    "#Event B/A = a black ball out on the second extraction without replacing the first one.\n",
    "\n",
    "prob_black_without_replacement = black_balls/(white_balls - 1 +red_balls+black_balls)\n",
    "\n",
    "prob_a_and_b_wo = prob_white * prob_black_without_replacement\n",
    "\n",
    "print(\"Probability of drawing a white ball first and a black ball second without replacement : {}\".format(prob_a_and_b_wo))\n",
    "\n",
    "prob_black_with_replacement = black_balls/(white_balls +red_balls+black_balls)\n",
    "\n",
    "prob_a_and_b_wth = prob_white * prob_black_with_replacement\n",
    "\n",
    "print(\"Probability of drawing a white ball first and a black ball second without replacement : {}\".format(prob_a_and_b_wth))\n",
    "\n",
    "prob_3_colors = 6 * white_balls * red_balls * black_balls / ((white_balls +red_balls+black_balls) * (white_balls +red_balls+black_balls -1)\\\n",
    "                                                              * (white_balls +red_balls+black_balls - 2))\n",
    "\n",
    "print(\"Probability of Taking 3 balls and them being all different colours without replacement : {}\".format(prob_3_colors))\n",
    "\n",
    "prob_3_colors = 6 * white_balls * red_balls * black_balls / ((white_balls +red_balls+black_balls) ** 3)\n",
    "\n",
    "print(\"Probability of Taking 3 balls and them being all different colours with replacement : {}\".format(prob_3_colors))"
   ]
  },
  {
   "cell_type": "markdown",
   "metadata": {},
   "source": [
    "## Challenge 2\n",
    "\n",
    "You want to go on picnic on Saturday. You hate rain, and would know to plan your weekend. To help you make a decision, you gather the following data about rainy days:\n",
    "\n",
    "* 40% of all days are cloudy.\n",
    "* About 50% of cloudy days are rainy. \n",
    "* About 20% of non-cloudy days are rainy.\n",
    "\n",
    "What is the chance of rain during next Saturday?"
   ]
  },
  {
   "cell_type": "code",
   "execution_count": 13,
   "metadata": {},
   "outputs": [
    {
     "name": "stdout",
     "output_type": "stream",
     "text": [
      "Probability of rainy day : 30.0 %\n"
     ]
    }
   ],
   "source": [
    "# YOUR CODE HERE\n",
    "p_cloudy = .4\n",
    "p_non_cloud = 1 - .4 \n",
    "p_rain_given_cloudy = .5\n",
    "p_rain_non_cloudy = .2\n",
    "\n",
    "p_rain = (p_cloudy * p_rain_given_cloudy) + (p_non_cloud * p_rain_non_cloudy)\n",
    "\n",
    "print(\"Probability of rainy day : {} %\".format(round(p_rain,1) * 100))\n"
   ]
  },
  {
   "cell_type": "markdown",
   "metadata": {},
   "source": [
    "## Challenge 3\n",
    "\n",
    "A and B are events of a probability such that $P(A) = 0.3$, $P(B) = 0.6$ and $P(A \\cap B) = 0.1$\n",
    "\n",
    "Which of the following statements are true?  \n",
    "**HINT: draw a big Venn Diagram by your side**  \n",
    "* $P(\\overline{A}) = 0.7$\n",
    "* $P(A \\cup B) = 0.6$\n",
    "* $P(A \\cap \\overline{B}) = 0.2$\n",
    "* $P(A \\cup \\overline{A}) = 1$  \n",
    "* $P(A \\cap (B \\cup \\overline{B})) = 0.4$\n",
    "* $P(\\overline{A} \\cap \\overline{B}) = 0.3$\n",
    "* $P(\\overline{A \\cap B}) = 0.9$"
   ]
  },
  {
   "cell_type": "code",
   "execution_count": 45,
   "metadata": {},
   "outputs": [
    {
     "name": "stdout",
     "output_type": "stream",
     "text": [
      "Probability of A complement : 0.7\n",
      "Probability of A union B : 1\n",
      "Probability of A intersection complement B : 0.19999999999999998\n",
      "Probability of A union complement A : 1.0\n",
      "Probability of A intersection whole set : 0.3\n",
      "Probability of A comp intersection B comp : 0.19999999999999998\n",
      "Probability of A comp intersection B comp : 0.9\n"
     ]
    }
   ],
   "source": [
    "# YOUR CODE HERE\n",
    "p_a = .3\n",
    "p_b = .6\n",
    "p_a_int_b = .1\n",
    "\n",
    "p_a_complement = 1 - p_a\n",
    "\n",
    "print(\"Probability of A complement : {}\".format(p_a_complement))\n",
    "\n",
    "p_a_union_b = p_a + p_b - p_a_int_b\n",
    "\n",
    "print(\"Probability of A union B : {}\".format(round(p_a_union_b),1))\n",
    "\n",
    "p_a_int_comp_b = p_a - p_a_int_b \n",
    "\n",
    "print(\"Probability of A intersection complement B : {}\".format(p_a_int_comp_b))\n",
    "\n",
    "p_a_union_a_comp = p_a + p_a_complement\n",
    "\n",
    "print(\"Probability of A union complement A : {}\".format(p_a_union_a_comp))\n",
    "\n",
    "p_a_int_s = p_a\n",
    "\n",
    "print(\"Probability of A intersection whole set : {}\".format(p_a_int_s))\n",
    "\n",
    "p_a_comp_int_b_comp = 1 - p_a - p_b + p_a_int_b\n",
    "\n",
    "print(\"Probability of A comp intersection B comp : {}\".format(p_a_comp_int_b_comp))\n",
    "\n",
    "p_a_int_b_comp = 1 - p_a_int_b\n",
    "\n",
    "print(\"Probability of A comp intersection B comp : {}\".format(p_a_int_b_comp))"
   ]
  },
  {
   "cell_type": "markdown",
   "metadata": {},
   "source": [
    "## True Statements\n",
    "* $P(\\overline{A}) = 0.7$\n",
    "* $P(A \\cap \\overline{B}) = 0.2$\n",
    "* $P(A \\cup \\overline{A}) = 1$  \n",
    "* $P(\\overline{A \\cap B}) = 0.9$"
   ]
  },
  {
   "cell_type": "markdown",
   "metadata": {},
   "source": [
    "## Challenge 4\n",
    "\n",
    " * If someone flies to China, the probability of getting Covid is 1%  \n",
    " * If someone flies to Italy, the probability of getting Covid is 20%  \n",
    "\n",
    "I roll 1 dice with numbers 1, 2, 3, 4, 5, 6:  \n",
    " * If 1: I fly to Italy\n",
    " * If not 1: I fly to China\n",
    "\n",
    "During my trip, I got Covid. What is the probability that I flew to China?"
   ]
  },
  {
   "cell_type": "code",
   "execution_count": 50,
   "metadata": {},
   "outputs": [
    {
     "name": "stdout",
     "output_type": "stream",
     "text": [
      "Probability of me flying to china given I got covid: 20.0 %\n"
     ]
    }
   ],
   "source": [
    "# YOUR CODE HERE\n",
    "p_covid_g_china = .01\n",
    "p_covid_g_italy = .2\n",
    "\n",
    "p_ita = 1/6\n",
    "p_china = 5/6\n",
    "\n",
    "p_covid = (1/6 * .2) + (5/6 * .01)\n",
    "\n",
    "p_china_given_covid = p_covid_g_china * p_china / p_covid\n",
    "\n",
    "print(\"Probability of me flying to china given I got covid: {} %\".format(p_china_given_covid * 100))"
   ]
  },
  {
   "cell_type": "markdown",
   "metadata": {},
   "source": [
    "## BONUS\n",
    "\n",
    "You roll 2 dice. What is the probability that the sum of the numbers is 7? And 8? And 9? Then simulate 10000 times and draw a countplot."
   ]
  },
  {
   "cell_type": "markdown",
   "metadata": {},
   "source": [
    "your explanation here"
   ]
  },
  {
   "cell_type": "code",
   "execution_count": 56,
   "metadata": {},
   "outputs": [
    {
     "data": {
      "image/png": "[encoded data removed]",
      "text/plain": [
       "<Figure size 1000x600 with 1 Axes>"
      ]
     },
     "metadata": {},
     "output_type": "display_data"
    },
    {
     "name": "stdout",
     "output_type": "stream",
     "text": [
      "{7: 0.16666666666666666, 8: 0.1388888888888889, 9: 0.1111111111111111}\n"
     ]
    }
   ],
   "source": [
    "# YOUR CODE HERE\n",
    "import matplotlib.pyplot as plt\n",
    "import seaborn as sns\n",
    "import numpy as np\n",
    "\n",
    "# Step 1: Calculate theoretical probabilities\n",
    "def count_outcomes(target_sum):\n",
    "    count = 0\n",
    "    for i in range(1, 7):  # First die\n",
    "        for j in range(1, 7):  # Second die\n",
    "            if i + j == target_sum:\n",
    "                count += 1\n",
    "    return count\n",
    "\n",
    "total_outcomes = 6 * 6\n",
    "prob_7 = count_outcomes(7) / total_outcomes\n",
    "prob_8 = count_outcomes(8) / total_outcomes\n",
    "prob_9 = count_outcomes(9) / total_outcomes\n",
    "\n",
    "theoretical_probs = {\n",
    "    7: prob_7,\n",
    "    8: prob_8,\n",
    "    9: prob_9\n",
    "}\n",
    "\n",
    "# Step 2: Simulate 10,000 rolls\n",
    "np.random.seed(42)\n",
    "rolls_1 = np.random.randint(1, 7, size=10000)\n",
    "rolls_2 = np.random.randint(1, 7, size=10000)\n",
    "sums = rolls_1 + rolls_2\n",
    "\n",
    "# Step 3: Plot the results\n",
    "plt.figure(figsize=(10, 6))\n",
    "sns.countplot(x=sums, palette='muted', order=range(2, 13), legend = False, hue = sums)\n",
    "plt.title(\"Countplot of Dice Sums in 10,000 Simulations\", fontsize=14)\n",
    "plt.xlabel(\"Sum of Dice Rolls\", fontsize=12)\n",
    "plt.ylabel(\"Count\", fontsize=12)\n",
    "plt.xticks(range(2, 13))\n",
    "plt.grid(axis='y', linestyle='--', alpha=0.7)\n",
    "plt.show()\n",
    "\n",
    "# Output theoretical probabilities\n",
    "print(theoretical_probs)\n"
   ]
  },
  {
   "cell_type": "code",
   "execution_count": null,
   "metadata": {},
   "outputs": [],
   "source": []
  }
 ],
 "metadata": {
  "kernelspec": {
   "display_name": "Python 3 (ipykernel)",
   "language": "python",
   "name": "python3"
  },
  "language_info": {
   "codemirror_mode": {
    "name": "ipython",
    "version": 3
   },
   "file_extension": ".py",
   "mimetype": "text/x-python",
   "name": "python",
   "nbconvert_exporter": "python",
   "pygments_lexer": "ipython3",
   "version": "3.12.4"
  },
  "toc": {
   "base_numbering": 1,
   "nav_menu": {},
   "number_sections": false,
   "sideBar": true,
   "skip_h1_title": false,
   "title_cell": "Table of Contents",
   "title_sidebar": "Contents",
   "toc_cell": false,
   "toc_position": {
    "height": "calc(100% - 180px)",
    "left": "10px",
    "top": "150px",
    "width": "296.475px"
   },
   "toc_section_display": true,
   "toc_window_display": false
  },
  "varInspector": {
   "cols": {
    "lenName": 16,
    "lenType": 16,
    "lenVar": 40
   },
   "kernels_config": {
    "python": {
     "delete_cmd_postfix": "",
     "delete_cmd_prefix": "del ",
     "library": "var_list.py",
     "varRefreshCmd": "print(var_dic_list())"
    },
    "r": {
     "delete_cmd_postfix": ") ",
     "delete_cmd_prefix": "rm(",
     "library": "var_list.r",
     "varRefreshCmd": "cat(var_dic_list()) "
    }
   },
   "types_to_exclude": [
    "module",
    "function",
    "builtin_function_or_method",
    "instance",
    "_Feature"
   ],
   "window_display": false
  }
 },
 "nbformat": 4,
 "nbformat_minor": 4
}
