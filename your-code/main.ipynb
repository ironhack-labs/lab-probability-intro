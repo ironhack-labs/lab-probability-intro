{
 "cells": [
  {
   "cell_type": "markdown",
   "metadata": {},
   "source": [
    "# Probability"
   ]
  },
  {
   "cell_type": "markdown",
   "metadata": {},
   "source": [
    "## Challenge 1\n",
    "There is a box with 10 white balls, 12 red balls and 8 black balls. Calculate the probability of:\n",
    "* Taking a white ball out.\n",
    "* Taking a white ball on first extraction and a black ball out on second extraction without replacing the first one.\n",
    "* Taking a white ball on first extraction and a black ball out on second extraction replacing the first one.\n",
    "* Taking 3 balls and them being all different colours."
   ]
  },
  {
   "cell_type": "code",
   "execution_count": 4,
   "metadata": {},
   "outputs": [
    {
     "data": {
      "text/plain": [
       "(0.3333333333333333,\n",
       " 0.09195402298850575,\n",
       " 0.08888888888888888,\n",
       " 0.23645320197044334)"
      ]
     },
     "execution_count": 4,
     "metadata": {},
     "output_type": "execute_result"
    }
   ],
   "source": [
    "# YOUR CODE HERE\n",
    "# Define the total number of balls and the counts of each color\n",
    "white_balls = 10\n",
    "red_balls = 12\n",
    "black_balls = 8\n",
    "total_balls = white_balls + red_balls + black_balls\n",
    "\n",
    "# Probability of taking a white ball out\n",
    "prob_white = white_balls / total_balls\n",
    "\n",
    "# Probability of taking a white ball first and a black ball second (without replacement)\n",
    "prob_white_then_black_no_replace = (white_balls / total_balls) * (black_balls / (total_balls - 1))\n",
    "\n",
    "# Probability of taking a white ball first and a black ball second (with replacement)\n",
    "prob_white_then_black_with_replace = (white_balls / total_balls) * (black_balls / total_balls)\n",
    "\n",
    "# Probability of taking 3 balls with all different colors\n",
    "prob_three_diff_colors = (\n",
    "    (white_balls / total_balls) *\n",
    "    (red_balls / (total_balls - 1)) *\n",
    "    (black_balls / (total_balls - 2)) * 6  # Permutations of the colors\n",
    ")\n",
    "\n",
    "prob_white, prob_white_then_black_no_replace, prob_white_then_black_with_replace, prob_three_diff_colors\n"
   ]
  },
  {
   "cell_type": "markdown",
   "metadata": {},
   "source": [
    "## Challenge 2\n",
    "\n",
    "You want to go on picnic on Saturday. You hate rain, and would know to plan your weekend. To help you make a decision, you gather the following data about rainy days:\n",
    "\n",
    "* 40% of all days are cloudy.\n",
    "* About 50% of cloudy days are rainy. \n",
    "* About 20% of non-cloudy days are rainy.\n",
    "\n",
    "What is the chance of rain during next Saturday?"
   ]
  },
  {
   "cell_type": "code",
   "execution_count": 6,
   "metadata": {},
   "outputs": [
    {
     "data": {
      "text/plain": [
       "0.32"
      ]
     },
     "execution_count": 6,
     "metadata": {},
     "output_type": "execute_result"
    }
   ],
   "source": [
    "# YOUR CODE HERE\n",
    "# Given probabilities\n",
    "cloudy = 0.4  \n",
    "rain_when_cloudy = 0.5  \n",
    "rain_when_not_cloudy = 0.2  \n",
    "\n",
    "# Probability of rain (using the law of total probability)\n",
    "p_rain = (cloudy * rain_when_cloudy) + ((1 - cloudy) * rain_when_not_cloudy)\n",
    "\n",
    "p_rain\n"
   ]
  },
  {
   "cell_type": "markdown",
   "metadata": {},
   "source": [
    "## Challenge 3\n",
    "\n",
    "A and B are events of a probability such that $P(A) = 0.3$, $P(B) = 0.6$ and $P(A \\cap B) = 0.1$\n",
    "\n",
    "Which of the following statements are true?  \n",
    "**HINT: draw a big Venn Diagram by your side**  \n",
    "* $P(\\overline{A}) = 0.7$\n",
    "* $P(A \\cup B) = 0.6$\n",
    "* $P(A \\cap \\overline{B}) = 0.2$\n",
    "* $P(A \\cup \\overline{A}) = 1$  \n",
    "* $P(A \\cap (B \\cup \\overline{B})) = 0.4$\n",
    "* $P(\\overline{A} \\cap \\overline{B}) = 0.3$\n",
    "* $P(\\overline{A \\cap B}) = 0.9$"
   ]
  },
  {
   "cell_type": "code",
   "execution_count": 11,
   "metadata": {},
   "outputs": [
    {
     "data": {
      "text/plain": [
       "{'P(¬A)': 0.7,\n",
       " 'P(A ∪ B)': 0.7999999999999999,\n",
       " 'P(A ∩ ¬B)': 0.19999999999999998,\n",
       " 'P(A ∪ ¬A)': 1,\n",
       " 'P(A ∩ (B ∪ ¬B))': 0.3,\n",
       " 'P(¬A ∩ ¬B)': 0.20000000000000007,\n",
       " 'P(¬(A ∩ B))': 0.9}"
      ]
     },
     "execution_count": 11,
     "metadata": {},
     "output_type": "execute_result"
    }
   ],
   "source": [
    "# YOUR CODE HERE\n",
    "# Given probabilities\n",
    "p_A = 0.3\n",
    "p_B = 0.6\n",
    "p_A_and_B = 0.1\n",
    "\n",
    "# Calculations\n",
    "p_not_A = 1 - p_A\n",
    "p_A_or_B = p_A + p_B - p_A_and_B\n",
    "p_A_and_not_B = p_A - p_A_and_B\n",
    "p_A_or_not_A = 1  \n",
    "p_A_and_B_or_not_B = p_A  \n",
    "p_not_A_and_not_B = 1 - p_A_or_B\n",
    "p_not_A_and_B = 1 - p_A_and_B\n",
    "\n",
    "# Results\n",
    "{\n",
    "    \"P(¬A)\": p_not_A,                        # True\n",
    "    \"P(A ∪ B)\": p_A_or_B,                    # False\n",
    "    \"P(A ∩ ¬B)\": p_A_and_not_B,              # True\n",
    "    \"P(A ∪ ¬A)\": p_A_or_not_A,               # True\n",
    "    \"P(A ∩ (B ∪ ¬B))\": p_A_and_B_or_not_B,   # False\n",
    "    \"P(¬A ∩ ¬B)\": p_not_A_and_not_B,         # False\n",
    "    \"P(¬(A ∩ B))\": p_not_A_and_B,            # True\n",
    "}\n"
   ]
  },
  {
   "cell_type": "markdown",
   "metadata": {},
   "source": [
    "## Challenge 4\n",
    "\n",
    " * If someone flies to China, the probability of getting Covid is 1%  \n",
    " * If someone flies to Italy, the probability of getting Covid is 20%  \n",
    "\n",
    "I roll 1 dice with numbers 1, 2, 3, 4, 5, 6:  \n",
    " * If 1: I fly to Italy\n",
    " * If not 1: I fly to China\n",
    "\n",
    "During my trip, I got Covid. What is the probability that I flew to China?"
   ]
  },
  {
   "cell_type": "code",
   "execution_count": 14,
   "metadata": {},
   "outputs": [
    {
     "data": {
      "text/plain": [
       "0.2"
      ]
     },
     "execution_count": 14,
     "metadata": {},
     "output_type": "execute_result"
    }
   ],
   "source": [
    "# YOUR CODE HERE\n",
    "# Given probabilities and conditions\n",
    "p_italy = 1 / 6  # Probability of flying to Italy\n",
    "p_china = 1 - p_italy  # Probability of flying to China\n",
    "p_covid_given_italy = 0.2  # Probability of getting Covid in Italy\n",
    "p_covid_given_china = 0.01  # Probability of getting Covid in China\n",
    "\n",
    "p_covid = (p_italy * p_covid_given_italy) + (p_china * p_covid_given_china)\n",
    "\n",
    "p_china_given_covid = (p_china * p_covid_given_china) / p_covid\n",
    "\n",
    "p_china_given_covid\n"
   ]
  },
  {
   "cell_type": "markdown",
   "metadata": {},
   "source": [
    "## BONUS\n",
    "\n",
    "You roll 2 dice. What is the probability that the sum of the numbers is 7? And 8? And 9? Then simulate 10000 times and draw a countplot."
   ]
  },
  {
   "cell_type": "markdown",
   "metadata": {},
   "source": [
    "your explanation here"
   ]
  },
  {
   "cell_type": "code",
   "execution_count": 18,
   "metadata": {},
   "outputs": [
    {
     "data": {
      "image/png": "[encoded data removed]",
      "text/plain": [
       "<Figure size 1000x600 with 1 Axes>"
      ]
     },
     "metadata": {},
     "output_type": "display_data"
    },
    {
     "data": {
      "text/plain": [
       "{7: 0.16666666666666666, 8: 0.1388888888888889, 9: 0.1111111111111111}"
      ]
     },
     "execution_count": 18,
     "metadata": {},
     "output_type": "execute_result"
    }
   ],
   "source": [
    "# YOUR CODE HERE\n",
    "import matplotlib.pyplot as plt\n",
    "import random\n",
    "\n",
    "# Calculate probabilities analytically\n",
    "total_outcomes = 6 * 6  # Total outcomes from rolling 2 dice\n",
    "\n",
    "# Count favorable outcomes for each sum\n",
    "favorable_outcomes = {\n",
    "    7: [(1, 6), (2, 5), (3, 4), (4, 3), (5, 2), (6, 1)],\n",
    "    8: [(2, 6), (3, 5), (4, 4), (5, 3), (6, 2)],\n",
    "    9: [(3, 6), (4, 5), (5, 4), (6, 3)]\n",
    "}\n",
    "\n",
    "probabilities = {\n",
    "    sum_: len(outcomes) / total_outcomes for sum_, outcomes in favorable_outcomes.items()\n",
    "}\n",
    "\n",
    "# Simulate 10,000 rolls and record sums\n",
    "simulated_sums = [\n",
    "    random.randint(1, 6) + random.randint(1, 6) for _ in range(10000)\n",
    "]\n",
    "\n",
    "# Create a frequency distribution for the simulated sums\n",
    "sum_counts = {sum_: simulated_sums.count(sum_) for sum_ in range(2, 13)}\n",
    "\n",
    "# Plot the countplot using matplotlib\n",
    "plt.figure(figsize=(10, 6))\n",
    "plt.bar(sum_counts.keys(), sum_counts.values(), color=\"skyblue\", edgecolor=\"black\")\n",
    "plt.title(\"Countplot of Sums from 10,000 Simulated Dice Rolls\", fontsize=16)\n",
    "plt.xlabel(\"Sum of Two Dice\", fontsize=14)\n",
    "plt.ylabel(\"Frequency\", fontsize=14)\n",
    "plt.xticks(range(2, 13), fontsize=12)\n",
    "plt.yticks(fontsize=12)\n",
    "plt.grid(axis=\"y\", linestyle=\"--\", alpha=0.7)\n",
    "plt.show()\n",
    "\n",
    "# Output probabilities analytically calculated\n",
    "probabilities\n",
    "\n"
   ]
  },
  {
   "cell_type": "code",
   "execution_count": null,
   "metadata": {},
   "outputs": [],
   "source": []
  }
 ],
 "metadata": {
  "kernelspec": {
   "display_name": "Python [conda env:base] *",
   "language": "python",
   "name": "conda-base-py"
  },
  "language_info": {
   "codemirror_mode": {
    "name": "ipython",
    "version": 3
   },
   "file_extension": ".py",
   "mimetype": "text/x-python",
   "name": "python",
   "nbconvert_exporter": "python",
   "pygments_lexer": "ipython3",
   "version": "3.12.7"
  },
  "toc": {
   "base_numbering": 1,
   "nav_menu": {},
   "number_sections": false,
   "sideBar": true,
   "skip_h1_title": false,
   "title_cell": "Table of Contents",
   "title_sidebar": "Contents",
   "toc_cell": false,
   "toc_position": {
    "height": "calc(100% - 180px)",
    "left": "10px",
    "top": "150px",
    "width": "296.475px"
   },
   "toc_section_display": true,
   "toc_window_display": false
  },
  "varInspector": {
   "cols": {
    "lenName": 16,
    "lenType": 16,
    "lenVar": 40
   },
   "kernels_config": {
    "python": {
     "delete_cmd_postfix": "",
     "delete_cmd_prefix": "del ",
     "library": "var_list.py",
     "varRefreshCmd": "print(var_dic_list())"
    },
    "r": {
     "delete_cmd_postfix": ") ",
     "delete_cmd_prefix": "rm(",
     "library": "var_list.r",
     "varRefreshCmd": "cat(var_dic_list()) "
    }
   },
   "types_to_exclude": [
    "module",
    "function",
    "builtin_function_or_method",
    "instance",
    "_Feature"
   ],
   "window_display": false
  }
 },
 "nbformat": 4,
 "nbformat_minor": 4
}
