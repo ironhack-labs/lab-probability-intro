{
 "cells": [
  {
   "cell_type": "markdown",
   "metadata": {},
   "source": [
    "# Probability"
   ]
  },
  {
   "cell_type": "markdown",
   "metadata": {},
   "source": [
    "## Challenge 1\n",
    "There is a box with 10 white balls, 12 red balls and 8 black balls. Calculate the probability of:\n",
    "* Taking a white ball out.\n",
    "* Taking a white ball on first extraction and a black ball out on second extraction without replacing the first one.\n",
    "* Taking a white ball on first extraction and a black ball out on second extraction replacing the first one.\n",
    "* Taking 3 balls and them being all different colours."
   ]
  },
  {
   "cell_type": "markdown",
   "metadata": {
    "vscode": {
     "languageId": "latex"
    }
   },
   "source": [
    "### Taking a white ball out"
   ]
  },
  {
   "cell_type": "markdown",
   "metadata": {},
   "source": [
    "There are  $ 10+ 12 + 8 = 30\\, \\text{balls}$ in the box.\n",
    "\n",
    "The probability for taking a white ball out of the box is \n",
    "$$\n",
    "P(white) = \\frac{10}{30} = \\frac{1}{3} \n",
    "$$"
   ]
  },
  {
   "cell_type": "markdown",
   "metadata": {},
   "source": [
    "### Taking a white ball on first extraction and a black ball out on second extraction without replacing the first one."
   ]
  },
  {
   "cell_type": "markdown",
   "metadata": {},
   "source": [
    "For calculating the probability for taking out first a white ball and then a black ball, we multiply $P(white)$ (calculated above) by $P(black)$. Since this excercise is without replacement, when calculating $P(black)$, the total number of balls will be 29:\n",
    "$$\n",
    "P(white) \\times P(black_{No Rep})\n",
    "$$\n",
    "\n",
    "$$ P(white) = \\frac{1}{3}$$\n",
    "$$ P(black) = \\frac{8}{29} $$\n",
    "$$ P(white) \\times P(black) = \\frac{1}{3} \\times \\frac{8}{29} = \\frac{8}{87} $$"
   ]
  },
  {
   "cell_type": "markdown",
   "metadata": {},
   "source": [
    "### Taking a white ball on first extraction and a black ball out on second extraction replacing the first one."
   ]
  },
  {
   "cell_type": "markdown",
   "metadata": {},
   "source": [
    "For this exercise we multiply $P(white) \\times P(black)$. Since it is with replacement, the total balls for the $P(black)$ is 30\n",
    "$$ P(white) \\times P(black) $$\n",
    "$$ P(white) = \\frac{1}{3} $$\n",
    "$$ P(black) = \\frac{8}{30} = \\frac{4}{15} $$\n",
    "$$ P(white) \\times P(black) = \\frac{1}{3} \\times \\frac{4}{15} = \\frac{4}{45}$$"
   ]
  },
  {
   "cell_type": "markdown",
   "metadata": {},
   "source": [
    "### Taking 3 balls and them being all different colours."
   ]
  },
  {
   "cell_type": "markdown",
   "metadata": {},
   "source": [
    "For this exercise we multiply the probability of taking a white ball, a red ball and a black ball. Since it is without replacement, the total number of balls will be 30 for the first extraction, 29 for the second extraction and 28 for the third extraction.\n",
    "\n",
    "\\begin{align*}\n",
    "P(white) &= \\frac{1}{3} \\\\\n",
    "P(red) &= \\frac{12}{29} \\\\\n",
    "P(black) &= \\frac{8}{28} = \\frac{2}{7} \n",
    "\\end{align*}\n",
    "\n",
    "The probability of taking 3 balls and them being all different colours is:\n",
    "$$ P(white) \\times P(red) \\times P(black) = \\frac{1}{3} \\times \\frac{12}{29} \\times \\frac{2}{7} = \\frac{8}{203} $$\n"
   ]
  },
  {
   "cell_type": "markdown",
   "metadata": {},
   "source": [
    "## Challenge 2\n",
    "\n",
    "You want to go on picnic on Saturday. You hate rain, and would know to plan your weekend. To help you make a decision, you gather the following data about rainy days:\n",
    "\n",
    "* 40% of all days are cloudy.\n",
    "* About 50% of cloudy days are rainy. \n",
    "* About 20% of non-cloudy days are rainy.\n",
    "\n",
    "What is the chance of rain during next Saturday?"
   ]
  },
  {
   "cell_type": "markdown",
   "metadata": {},
   "source": [
    "Lets define the following events:\n",
    "* $C$: Cloudy day\n",
    "* $R$: Rainy day\n",
    "\n",
    "Now, we have the given probabilities:\n",
    "* $P(C) = 0.4$\n",
    "* $P(\\overline{C}) = 0.6$\n",
    "* $P(R|C) = 0.5$\n",
    "* $P(R|\\overline{C}) = 0.2$\n",
    "\n",
    "We want to calculate $P(R)$, the probability of rain. We can use the law of total probability to calculate this. \n",
    "\\begin{align*}\n",
    "P(R) &= P(R|C) \\times P(C) + P(R|\\overline{C}) \\times P(\\overline{C}) \\\\\n",
    "P(R) &= 0.5 \\times 0.4 + 0.2 \\times 0.6 \\\\\n",
    "P(R) &= 0.2 + 0.12 \\\\\n",
    "P(R) &= 0.32\n",
    "\\end{align*}\n",
    "\n",
    "The probability of rain during next Saturday is $0.32$."
   ]
  },
  {
   "cell_type": "markdown",
   "metadata": {},
   "source": [
    "## Challenge 3\n",
    "\n",
    "A and B are events of a probability such that $P(A) = 0.3$, $P(B) = 0.6$ and $P(A \\cap B) = 0.1$\n",
    "\n",
    "Which of the following statements are true?  \n",
    "**HINT: draw a big Venn Diagram by your side**  \n",
    "1. $P(\\overline{A}) = 0.7$\n",
    "2. $P(A \\cup B) = 0.6$\n",
    "3. $P(A \\cap \\overline{B}) = 0.2$\n",
    "4. $P(A \\cup \\overline{A}) = 1$  \n",
    "5. $P(A \\cap (B \\cup \\overline{B})) = 0.4$\n",
    "6. $P(\\overline{A} \\cap \\overline{B}) = 0.3$\n",
    "7. $P(\\overline{A \\cap B}) = 0.9$"
   ]
  },
  {
   "cell_type": "markdown",
   "metadata": {},
   "source": [
    "1) Since $P(A) = 0.3$, then $P(\\overline{A}) = 1 - P(A) = 1 - 0.3 = 0.7 \\therefore$ **True**\n",
    "2) $P(A \\cup B) = P(A) + P(B) - P(A \\cap B) = 0.3 + 0.6 - 0.1 = 0.8 \\therefore$ **False**\n",
    "3) $P(A \\cap \\overline{B}) = P(A) - P(A \\cap B) = 0.3 - 0.1 = 0.2 \\therefore$ **True**\n",
    "4) $P(A \\cup \\overline{A}) = P(A) + P(\\overline{A}) = 0.3 + 0.7 = 1 \\therefore$ **True**\n",
    "5) $P(A \\cap (B \\cup \\overline{B})) = P(A\\cap 1) = P(A) = 0.3 \\therefore$ **False**\n",
    "6) Using De Morgans Law $P(\\overline{A} \\cap \\overline{B}) = 1 - P(A \\cup B) = 1 - 0.8 = 0.2 \\therefore$ **False**\n",
    "7) $P(\\overline{A \\cap B}) = 1 - P(A \\cap B) = 1 - 0.1 = 0.9 \\therefore$ **True**\n",
    "\n",
    "Summarizing the answers:\n",
    "1. True\n",
    "2. False\n",
    "3. True\n",
    "4. True\n",
    "5. False\n",
    "6. False\n",
    "7. True"
   ]
  },
  {
   "cell_type": "markdown",
   "metadata": {},
   "source": [
    "## Challenge 4\n",
    "\n",
    " * If someone flies to China, the probability of getting Covid is 1%  \n",
    " * If someone flies to Italy, the probability of getting Covid is 20%  \n",
    "\n",
    "I roll 1 dice with numbers 1, 2, 3, 4, 5, 6:  \n",
    " * If 1: I fly to Italy\n",
    " * If not 1: I fly to China\n",
    "\n",
    "During my trip, I got Covid. What is the probability that I flew to China?"
   ]
  },
  {
   "cell_type": "markdown",
   "metadata": {},
   "source": [
    "Let's define the following events:\n",
    "* $C$: Flying to China\n",
    "* $I$: Flying to Italy\n",
    "* $Cov$: Getting Covid\n",
    "\n",
    "Now, we define the probabilities:\n",
    "* $P(C) = \\frac{5}{6}$\n",
    "* $P(I) = \\frac{1}{6}$\n",
    "* $P(Cov|C) = 0.01$\n",
    "* $P(Cov|I) = 0.2$\n",
    "* $P(Cov) = 0.04167$\n",
    "\n",
    "$P(Cov)$ is the probability of getting Covid. We want to calculate $P(C|Cov)$, the probability of flying to China given that I got Covid. We used the total probability theorem to calculate this:\n",
    "\\begin{align*}\n",
    "P(Cov) &= P(Cov|C) \\times P(C) + P(Cov|I) \\times P(I) \\\\\n",
    "P(Cov) &= 0.01 \\times \\frac{5}{6} + 0.2 \\times \\frac{1}{6} \\\\\n",
    "P(Cov) &= 0.0083 + 0.0333 \\\\\n",
    "P(Cov) &= 0.0416\n",
    "\\end{align*}\n",
    "\n",
    "Now, for calculating the probability that I flew to China given that I got Covid we used Bayes Theorem:\n",
    "\\begin{align*}\n",
    "P(C|Cov) &= \\frac{P(Cov|C) \\times P(C)}{P(Cov)} \\\\\n",
    "P(C|Cov) &= \\frac{0.01 \\times \\frac{5}{6}}{0.0416} \\\\\n",
    "P(C|Cov) &= \\frac{0.0083}{0.0416} \\\\\n",
    "P(C|Cov) &= 0.2\n",
    "\\end{align*}\n",
    "\n",
    "The probability that I flew to China given that I got Covid is 0.2."
   ]
  },
  {
   "cell_type": "markdown",
   "metadata": {},
   "source": [
    "## BONUS\n",
    "\n",
    "You roll 2 dice. What is the probability that the sum of the numbers is 7? And 8? And 9? Then simulate 10000 times and draw a countplot."
   ]
  },
  {
   "cell_type": "markdown",
   "metadata": {},
   "source": [
    "your explanation here"
   ]
  },
  {
   "cell_type": "code",
   "execution_count": null,
   "metadata": {},
   "outputs": [],
   "source": [
    "# YOUR CODE HERE"
   ]
  }
 ],
 "metadata": {
  "kernelspec": {
   "display_name": "Python 3 (ipykernel)",
   "language": "python",
   "name": "python3"
  },
  "language_info": {
   "codemirror_mode": {
    "name": "ipython",
    "version": 3
   },
   "file_extension": ".py",
   "mimetype": "text/x-python",
   "name": "python",
   "nbconvert_exporter": "python",
   "pygments_lexer": "ipython3",
   "version": "3.9.13"
  },
  "toc": {
   "base_numbering": 1,
   "nav_menu": {},
   "number_sections": false,
   "sideBar": true,
   "skip_h1_title": false,
   "title_cell": "Table of Contents",
   "title_sidebar": "Contents",
   "toc_cell": false,
   "toc_position": {
    "height": "calc(100% - 180px)",
    "left": "10px",
    "top": "150px",
    "width": "296.475px"
   },
   "toc_section_display": true,
   "toc_window_display": false
  },
  "varInspector": {
   "cols": {
    "lenName": 16,
    "lenType": 16,
    "lenVar": 40
   },
   "kernels_config": {
    "python": {
     "delete_cmd_postfix": "",
     "delete_cmd_prefix": "del ",
     "library": "var_list.py",
     "varRefreshCmd": "print(var_dic_list())"
    },
    "r": {
     "delete_cmd_postfix": ") ",
     "delete_cmd_prefix": "rm(",
     "library": "var_list.r",
     "varRefreshCmd": "cat(var_dic_list()) "
    }
   },
   "types_to_exclude": [
    "module",
    "function",
    "builtin_function_or_method",
    "instance",
    "_Feature"
   ],
   "window_display": false
  }
 },
 "nbformat": 4,
 "nbformat_minor": 2
}
