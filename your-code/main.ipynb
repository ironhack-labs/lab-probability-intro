{
 "cells": [
  {
   "cell_type": "markdown",
   "metadata": {},
   "source": [
    "# Probability"
   ]
  },
  {
   "cell_type": "markdown",
   "metadata": {},
   "source": [
    "## Challenge 1\n",
    "There is a box with 10 white balls, 12 red balls and 8 black balls. Calculate the probability of:\n",
    "* Taking a white ball out.\n",
    "* Taking a white ball on first extraction and a black ball out on second extraction without replacing the first one.\n",
    "* Taking a white ball on first extraction and a black ball out on second extraction replacing the first one.\n",
    "* Taking 3 balls and them being all different colours."
   ]
  },
  {
   "cell_type": "code",
   "execution_count": 1,
   "metadata": {},
   "outputs": [],
   "source": [
    "import numpy as np\n",
    "from numpy import array\n",
    "import pandas as pd\n",
    "import random"
   ]
  },
  {
   "cell_type": "code",
   "execution_count": 2,
   "metadata": {},
   "outputs": [
    {
     "data": {
      "text/plain": [
       "['w1',\n",
       " 'w2',\n",
       " 'w3',\n",
       " 'w4',\n",
       " 'w5',\n",
       " 'w6',\n",
       " 'w7',\n",
       " 'w8',\n",
       " 'w9',\n",
       " 'w10',\n",
       " 'r1',\n",
       " 'r2',\n",
       " 'r3',\n",
       " 'r4',\n",
       " 'r5',\n",
       " 'r6',\n",
       " 'r7',\n",
       " 'r8',\n",
       " 'r9',\n",
       " 'r10',\n",
       " 'r11',\n",
       " 'r12',\n",
       " 'b1',\n",
       " 'b2',\n",
       " 'b3',\n",
       " 'b4',\n",
       " 'b5',\n",
       " 'b6',\n",
       " 'b7',\n",
       " 'b8']"
      ]
     },
     "execution_count": 2,
     "metadata": {},
     "output_type": "execute_result"
    }
   ],
   "source": [
    "# We will use the following notation:\n",
    "# w - white balls\n",
    "# r - red balls\n",
    "# b - black balls\n",
    "\n",
    "# We add the balls in the box\n",
    "box = ['w'+str(i) for i in range(1, 11)]\n",
    "box.extend([ 'r' + str(i) for i in range(1, 13)])\n",
    "box.extend([ 'b' + str(i) for i in range(1, 9)])\n",
    "box"
   ]
  },
  {
   "cell_type": "code",
   "execution_count": 3,
   "metadata": {},
   "outputs": [
    {
     "data": {
      "text/plain": [
       "0.33617"
      ]
     },
     "execution_count": 3,
     "metadata": {},
     "output_type": "execute_result"
    }
   ],
   "source": [
    "# Calculate the probability of:\n",
    "# Taking a white ball out.\n",
    "\n",
    "# prob_white = count of white balls / count of all balls\n",
    "# prob_white = 10 / (10 + 12 + 8) = 1/3 \n",
    "\n",
    "count_white_balls = 0\n",
    "total_tries = 100000\n",
    "for i in range(1, total_tries+1):\n",
    "    random.shuffle(box)\n",
    "    ball_picked = box[random.randrange(len(box)-1)]\n",
    "    if 'w' in ball_picked:\n",
    "        count_white_balls += 1\n",
    "\n",
    "percent_white:float = count_white_balls / total_tries\n",
    "percent_white"
   ]
  },
  {
   "cell_type": "code",
   "execution_count": 4,
   "metadata": {},
   "outputs": [
    {
     "name": "stdout",
     "output_type": "stream",
     "text": [
      "Calculated chance:  0.09195402298850575\n",
      "After 100000 tries, we got a 0.09256% probability to pick a white ball out on first try and a black ball on the second try\n"
     ]
    }
   ],
   "source": [
    "# 2. Taking a white ball on first extraction and a black ball out on second extraction without replacing the first one.\n",
    "\n",
    "fExtraction = 10 / 30 # number of white balls / total balls\n",
    "sExtraction = 8 / 29 # number of black balls / (total balls - 1)\n",
    "cExtractions = fExtraction * sExtraction\n",
    "print('Calculated chance: ', cExtractions)\n",
    "\n",
    "# count_white_balls = 0\n",
    "count_black_balls = 0\n",
    "total_tries = 100000\n",
    "for i in range(1, total_tries+1):\n",
    "    newbox = box.copy()\n",
    "    #\n",
    "    random.shuffle(newbox)\n",
    "    # \n",
    "    first_ball = newbox[random.randrange(len(newbox)-1)]\n",
    "    if 'w' in first_ball:\n",
    "        # count_white_balls += 1\n",
    "        newbox.remove(first_ball)\n",
    "        second_ball = newbox[random.randrange(len(newbox)-1)]\n",
    "        if 'b' in second_ball:\n",
    "            count_black_balls += 1\n",
    "        \n",
    "\n",
    "# percent_white:float = count_white_balls / total_tries\n",
    "# percent_white\n",
    "\n",
    "percent_black:float = count_black_balls / total_tries\n",
    "print(f'After {total_tries} tries, we got a {percent_black}% probability to pick a white ball out on first try and a black ball on the second try')"
   ]
  },
  {
   "cell_type": "code",
   "execution_count": 6,
   "metadata": {},
   "outputs": [
    {
     "name": "stdout",
     "output_type": "stream",
     "text": [
      "Calculated chance:  0.09195402298850575\n",
      "After 100000 tries, we got a 0.0936% probability to pick a white ball out on first try and a black ball on the second try\n"
     ]
    }
   ],
   "source": [
    "# 2. Taking a white ball on first extraction and a black ball out on second extraction without replacing the first one.\n",
    "\n",
    "fExtraction = 10 / 30 # number of white balls / total balls\n",
    "sExtraction = 8 / 29 # number of black balls / (total balls - 1)\n",
    "cExtractions = fExtraction * sExtraction\n",
    "print('Calculated chance: ', cExtractions)\n",
    "\n",
    "# count_white_balls = 0\n",
    "count_black_balls = 0\n",
    "total_tries = 100000\n",
    "for i in range(1, total_tries+1):\n",
    "    newbox = box.copy()\n",
    "    #\n",
    "    random.shuffle(newbox)\n",
    "    # \n",
    "    first_ball = newbox[random.randrange(len(newbox)-1)]\n",
    "    if 'w' in first_ball:\n",
    "        # count_white_balls += 1\n",
    "        newbox.remove(first_ball)\n",
    "        second_ball = newbox[random.randrange(len(newbox)-1)]\n",
    "        if 'b' in second_ball:\n",
    "            count_black_balls += 1\n",
    "        \n",
    "\n",
    "# percent_white:float = count_white_balls / total_tries\n",
    "# percent_white\n",
    "\n",
    "percent_black:float = count_black_balls / total_tries\n",
    "print(f'After {total_tries} tries, we got a {percent_black}% probability to pick a white ball out on first try and a black ball on the second try')"
   ]
  },
  {
   "cell_type": "code",
   "execution_count": 8,
   "metadata": {},
   "outputs": [
    {
     "data": {
      "text/plain": [
       "4060"
      ]
     },
     "execution_count": 8,
     "metadata": {},
     "output_type": "execute_result"
    }
   ],
   "source": [
    "# Taking 3 balls and them being all different colours.\n",
    "from math import comb\n",
    "\n",
    "comb(30, 3)"
   ]
  },
  {
   "cell_type": "markdown",
   "metadata": {},
   "source": [
    "## Challenge 2\n",
    "\n",
    "You want to go on picnic on Saturday. You hate rain, and would know to plan your weekend. To help you make a decision, you gather the following data about rainy days:\n",
    "\n",
    "* 40% of all days are cloudy.\n",
    "* About 50% of cloudy days are rainy. \n",
    "* About 20% of non-cloudy days are rainy.\n",
    "\n",
    "What is the chance of rain during next Saturday?"
   ]
  },
  {
   "cell_type": "code",
   "execution_count": 9,
   "metadata": {},
   "outputs": [
    {
     "name": "stdout",
     "output_type": "stream",
     "text": [
      "The probability of rain on next Saturday is: 0.32\n"
     ]
    }
   ],
   "source": [
    " P_Cloudy = 0.40\n",
    "P_Rain_given_Cloudy = 0.50\n",
    "P_Rain_given_Not_Cloudy = 0.20\n",
    "P_Not_Cloudy = 1 - P_Cloudy\n",
    "\n",
    " P_Rain = (P_Rain_given_Cloudy * P_Cloudy) + (P_Rain_given_Not_Cloudy * P_Not_Cloudy)\n",
    "\n",
    "print(f\"The probability of rain on next Saturday is: {P_Rain:.2f}\")\n"
   ]
  },
  {
   "cell_type": "markdown",
   "metadata": {},
   "source": [
    "## Challenge 3\n",
    "\n",
    "A and B are events of a probability such that $P(A) = 0.3$, $P(B) = 0.6$ and $P(A \\cap B) = 0.1$\n",
    "\n",
    "Which of the following statements are true?  \n",
    "**HINT: draw a big Venn Diagram by your side**  \n",
    "* $P(\\overline{A}) = 0.7$\n",
    "* $P(A \\cup B) = 0.6$\n",
    "* $P(A \\cap \\overline{B}) = 0.2$\n",
    "* $P(A \\cup \\overline{A}) = 1$  \n",
    "* $P(A \\cap (B \\cup \\overline{B})) = 0.4$\n",
    "* $P(\\overline{A} \\cap \\overline{B}) = 0.3$\n",
    "* $P(\\overline{A \\cap B}) = 0.9$"
   ]
  },
  {
   "cell_type": "code",
   "execution_count": 10,
   "metadata": {},
   "outputs": [],
   "source": [
    "# True, false,true, true, false, false, true"
   ]
  },
  {
   "cell_type": "markdown",
   "metadata": {},
   "source": [
    "## Challenge 4\n",
    "\n",
    " * If someone flies to China, the probability of getting Covid is 1%  \n",
    " * If someone flies to Italy, the probability of getting Covid is 20%  \n",
    "\n",
    "I roll 1 dice with numbers 1, 2, 3, 4, 5, 6:  \n",
    " * If 1: I fly to Italy\n",
    " * If not 1: I fly to China\n",
    "\n",
    "During my trip, I got Covid. What is the probability that I flew to China?"
   ]
  },
  {
   "cell_type": "code",
   "execution_count": 11,
   "metadata": {},
   "outputs": [
    {
     "data": {
      "text/plain": [
       "83.33333333333334"
      ]
     },
     "execution_count": 11,
     "metadata": {},
     "output_type": "execute_result"
    }
   ],
   "source": [
    "FlyToChina = (5/6)*100\n",
    "FlyToChina"
   ]
  },
  {
   "cell_type": "markdown",
   "metadata": {},
   "source": [
    "## BONUS\n",
    "\n",
    "You roll 2 dice. What is the probability that the sum of the numbers is 7? And 8? And 9? Then simulate 10000 times and draw a countplot."
   ]
  },
  {
   "cell_type": "markdown",
   "metadata": {},
   "source": [
    "your explanation here"
   ]
  },
  {
   "cell_type": "code",
   "execution_count": 13,
   "metadata": {},
   "outputs": [
    {
     "data": {
      "text/plain": [
       "0.3333333333333333"
      ]
     },
     "execution_count": 13,
     "metadata": {},
     "output_type": "execute_result"
    }
   ],
   "source": [
    "prob7 = 6/12\n",
    "prob7\n",
    "prob8 = 5/12\n",
    "prob8\n",
    "prob9 = 4/12\n",
    "prob9"
   ]
  },
  {
   "cell_type": "code",
   "execution_count": 16,
   "metadata": {},
   "outputs": [],
   "source": [
    "import numpy as np\n",
    "import seaborn as sns\n",
    "import matplotlib.pyplot as plt"
   ]
  },
  {
   "cell_type": "code",
   "execution_count": 19,
   "metadata": {},
   "outputs": [
    {
     "name": "stdout",
     "output_type": "stream",
     "text": [
      "Probability of sum being 7: 0.1667\n",
      "Probability of sum being 8: 0.1389\n",
      "Probability of sum being 9: 0.1111\n"
     ]
    },
    {
     "data": {
      "image/png": "[encoded data removed]",
      "text/plain": [
       "<Figure size 640x480 with 1 Axes>"
      ]
     },
     "metadata": {},
     "output_type": "display_data"
    }
   ],
   "source": [
    " \n",
    "def calculate_probabilities():\n",
    "    outcomes = [(i, j) for i in range(1, 7) for j in range(1, 7)]\n",
    "    total_outcomes = len(outcomes)\n",
    "    \n",
    "    # Count occurrences of each sum\n",
    "    sum_counts = {i: 0 for i in range(2, 13)}\n",
    "    for outcome in outcomes:\n",
    "        sum_counts[sum(outcome)] += 1\n",
    "    \n",
    "    prob_7 = sum_counts[7] / total_outcomes\n",
    "    prob_8 = sum_counts[8] / total_outcomes\n",
    "    prob_9 = sum_counts[9] / total_outcomes\n",
    "    \n",
    "    return prob_7, prob_8, prob_9\n",
    "\n",
    " \n",
    "def simulate_rolls(num_simulations=10000):\n",
    "    rolls = np.random.randint(1, 7, size=(num_simulations, 2))\n",
    "    sums = np.sum(rolls, axis=1)\n",
    "    return sums\n",
    "\n",
    "# Draw countplot\n",
    "def draw_countplot(sums):\n",
    "    sns.countplot(x=sums)\n",
    "    plt.title('Countplot of Dice Sums (10000 Simulations)')\n",
    "    plt.xlabel('Sum of Two Dice')\n",
    "    plt.ylabel('Count')\n",
    "    plt.show()\n",
    "\n",
    "# Calculate probabilities\n",
    "prob_7, prob_8, prob_9 = calculate_probabilities()\n",
    "print(f\"Probability of sum being 7: {prob_7:.4f}\")\n",
    "print(f\"Probability of sum being 8: {prob_8:.4f}\")\n",
    "print(f\"Probability of sum being 9: {prob_9:.4f}\")\n",
    "\n",
    "# Simulate rolls and draw countplot\n",
    "sums = simulate_rolls(10000)\n",
    "draw_countplot(sums)\n"
   ]
  },
  {
   "cell_type": "code",
   "execution_count": null,
   "metadata": {},
   "outputs": [],
   "source": []
  }
 ],
 "metadata": {
  "kernelspec": {
   "display_name": "Python 3 (ipykernel)",
   "language": "python",
   "name": "python3"
  },
  "language_info": {
   "codemirror_mode": {
    "name": "ipython",
    "version": 3
   },
   "file_extension": ".py",
   "mimetype": "text/x-python",
   "name": "python",
   "nbconvert_exporter": "python",
   "pygments_lexer": "ipython3",
   "version": "3.11.7"
  },
  "toc": {
   "base_numbering": 1,
   "nav_menu": {},
   "number_sections": false,
   "sideBar": true,
   "skip_h1_title": false,
   "title_cell": "Table of Contents",
   "title_sidebar": "Contents",
   "toc_cell": false,
   "toc_position": {
    "height": "calc(100% - 180px)",
    "left": "10px",
    "top": "150px",
    "width": "296.475px"
   },
   "toc_section_display": true,
   "toc_window_display": false
  },
  "varInspector": {
   "cols": {
    "lenName": 16,
    "lenType": 16,
    "lenVar": 40
   },
   "kernels_config": {
    "python": {
     "delete_cmd_postfix": "",
     "delete_cmd_prefix": "del ",
     "library": "var_list.py",
     "varRefreshCmd": "print(var_dic_list())"
    },
    "r": {
     "delete_cmd_postfix": ") ",
     "delete_cmd_prefix": "rm(",
     "library": "var_list.r",
     "varRefreshCmd": "cat(var_dic_list()) "
    }
   },
   "types_to_exclude": [
    "module",
    "function",
    "builtin_function_or_method",
    "instance",
    "_Feature"
   ],
   "window_display": false
  }
 },
 "nbformat": 4,
 "nbformat_minor": 4
}
