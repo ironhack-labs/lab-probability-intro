{
 "cells": [
  {
   "cell_type": "markdown",
   "metadata": {},
   "source": [
    "# Probability"
   ]
  },
  {
   "cell_type": "markdown",
   "metadata": {},
   "source": [
    "## Challenge 1\n",
    "There is a box with 10 white balls, 12 red balls and 8 black balls. Calculate the probability of:\n",
    "* Taking a white ball out.\n",
    "* Taking a white ball on first extraction and a black ball out on second extraction without replacing the first one.\n",
    "* Taking a white ball on first extraction and a black ball out on second extraction replacing the first one.\n",
    "* Taking 3 balls and them being all different colours."
   ]
  },
  {
   "cell_type": "markdown",
   "metadata": {},
   "source": [
    "1. The probability of taking a white ball is calculated as:\n",
    "\n",
    "probability of white ball = 10/30 = 1/3 = aprox. 0.333 or 33.3%\n",
    "\n",
    "2. The probability of taking a white ball on first extraction and a black ball on second without replacing the first one is calculated as:\n",
    "\n",
    "probability of taking a black ball on second extraction  without replacing the white one = 8/29 = .275 or 27.5%\n",
    "\n",
    "probability of both thing happening: .333 * .275 = 0.0915 or 9.15%\n",
    "\n",
    "3. The probability of taking a white ball on first extraction and a black ball on second replacing the first one is calculated as:\n",
    "\n",
    "probability of taking a black ball on second extraction replacing the white one = 8/30 = .266 or 26.6%\n",
    "\n",
    "probability of both things happening: .333 * .266 = 0.0885 or 8.85%\n",
    "\n",
    "4. The probability of taking 3 balls of different colors: (replacing)\n",
    "\n",
    "probability of red ball = 12/30 = 4/10 = .4 or 40%\n",
    "\n",
    ".333 * .266 * .4 = .035 or 3.54%\n",
    "\n",
    "Alternative \n",
    "\n",
    "4. The probability of taking 3 balls of different colors without replacing:\n",
    "\n",
    "white = .333\n",
    "\n",
    "black = .275\n",
    "\n",
    "red = 12/28 = .428\n",
    "\n",
    ".333 * .275 * .428 = .0391 or 3.91%\n"
   ]
  },
  {
   "cell_type": "markdown",
   "metadata": {},
   "source": []
  },
  {
   "cell_type": "code",
   "execution_count": 18,
   "metadata": {},
   "outputs": [
    {
     "name": "stdout",
     "output_type": "stream",
     "text": [
      "1. Probability of taking a white ball: 0.333 or 33.33%\n",
      "2. Probability of white first and black second without replacement: 0.0920 or 9.20%\n",
      "3. Probability of white first and black second with replacement: 0.0889 or 8.89%\n",
      "4. Probability of 3 balls of different colors (with replacement): 0.0356 or 3.56%\n",
      "4. Probability of 3 balls of different colors (without replacement): 0.0394 or 3.94%\n"
     ]
    }
   ],
   "source": [
    "# Total number of balls in the box\n",
    "total_balls = 30\n",
    "white_balls = 10\n",
    "red_balls = 12\n",
    "black_balls = 8\n",
    "\n",
    "# 1. Probability of taking a white ball\n",
    "prob_white = white_balls / total_balls\n",
    "print(f\"1. Probability of taking a white ball: {prob_white:.3f} or {prob_white * 100:.2f}%\")\n",
    "\n",
    "# 2. Probability of taking a white ball first and a black ball second without replacement\n",
    "prob_white_first = white_balls / total_balls\n",
    "prob_black_second_no_replace = black_balls / (total_balls - 1)\n",
    "prob_white_black_no_replace = prob_white_first * prob_black_second_no_replace\n",
    "print(f\"2. Probability of white first and black second without replacement: {prob_white_black_no_replace:.4f} or {prob_white_black_no_replace * 100:.2f}%\")\n",
    "\n",
    "# 3. Probability of taking a white ball first and a black ball second with replacement\n",
    "prob_black_second_replace = black_balls / total_balls\n",
    "prob_white_black_replace = prob_white_first * prob_black_second_replace\n",
    "print(f\"3. Probability of white first and black second with replacement: {prob_white_black_replace:.4f} or {prob_white_black_replace * 100:.2f}%\")\n",
    "\n",
    "# 4. Probability of taking 3 balls of different colors\n",
    "# Case 1: With replacement\n",
    "prob_red_replace = red_balls / total_balls\n",
    "prob_three_diff_replace = prob_white * prob_black_second_replace * prob_red_replace\n",
    "print(f\"4. Probability of 3 balls of different colors (with replacement): {prob_three_diff_replace:.4f} or {prob_three_diff_replace * 100:.2f}%\")\n",
    "\n",
    "# Case 2: Without replacement\n",
    "prob_black_second_no_replace = black_balls / (total_balls - 1)\n",
    "prob_red_third_no_replace = red_balls / (total_balls - 2)\n",
    "prob_three_diff_no_replace = prob_white_first * prob_black_second_no_replace * prob_red_third_no_replace\n",
    "print(f\"4. Probability of 3 balls of different colors (without replacement): {prob_three_diff_no_replace:.4f} or {prob_three_diff_no_replace * 100:.2f}%\")\n"
   ]
  },
  {
   "cell_type": "markdown",
   "metadata": {},
   "source": [
    "## Challenge 2\n",
    "\n",
    "You want to go on picnic on Saturday. You hate rain, and would know to plan your weekend. To help you make a decision, you gather the following data about rainy days:\n",
    "\n",
    "* 40% of all days are cloudy.\n",
    "* About 50% of cloudy days are rainy. \n",
    "* About 20% of non-cloudy days are rainy.\n",
    "\n",
    "What is the chance of rain during next Saturday?"
   ]
  },
  {
   "cell_type": "markdown",
   "metadata": {},
   "source": [
    "20% rainy counting cloudy\n",
    "12% rainy counting non-cloudy\n",
    "\n",
    "Probability of rain in a week is 32%\n",
    "\n",
    "32% of 7 days = 4.57%\n",
    "\n"
   ]
  },
  {
   "cell_type": "code",
   "execution_count": 19,
   "metadata": {},
   "outputs": [
    {
     "name": "stdout",
     "output_type": "stream",
     "text": [
      "Percentage of cloudy days: 40%\n",
      "Percentage of rainy cloudy days: 20.0%\n",
      "Percentage of non-cloudy days: 60%\n",
      "Percentage of rainy non-cloudy days: 12.0%\n",
      "Total percentage of rainy days in a week: 32.0%\n",
      "Probability of rain on any given day: 4.57%\n"
     ]
    }
   ],
   "source": [
    "# Given data\n",
    "cloudy_days = 40  # Percentage of days that are cloudy\n",
    "rainy_cloudy_days = cloudy_days / 2  # 50% of cloudy days are rainy\n",
    "\n",
    "# Print details about cloudy and rainy cloudy days\n",
    "print(f\"Percentage of cloudy days: {cloudy_days}%\")\n",
    "print(f\"Percentage of rainy cloudy days: {rainy_cloudy_days}%\")\n",
    "\n",
    "# Calculate non-cloudy days as the remaining percentage\n",
    "non_cloudy_days = 100 - cloudy_days  # 60% of days are non-cloudy\n",
    "rainy_non_cloudy_days = non_cloudy_days / 5  # 20% of non-cloudy days are rainy\n",
    "\n",
    "# Print details about non-cloudy and rainy non-cloudy days\n",
    "print(f\"Percentage of non-cloudy days: {non_cloudy_days}%\")\n",
    "print(f\"Percentage of rainy non-cloudy days: {rainy_non_cloudy_days}%\")\n",
    "\n",
    "# Total probability of rainy days in a week\n",
    "probability_per_week = rainy_cloudy_days + rainy_non_cloudy_days  # Sum of rainy days from cloudy and non-cloudy days\n",
    "print(f\"Total percentage of rainy days in a week: {probability_per_week}%\")\n",
    "\n",
    "# Probability of rain on any given day (assuming all days are equally likely)\n",
    "probability_per_day = probability_per_week / 7  # Divide the weekly probability by 7 days\n",
    "print(f\"Probability of rain on any given day: {probability_per_day:.2f}%\")\n"
   ]
  },
  {
   "cell_type": "markdown",
   "metadata": {},
   "source": [
    "## Challenge 3\n",
    "\n",
    "A and B are events of a probability such that $P(A) = 0.3$, $P(B) = 0.6$ and $P(A \\cap B) = 0.1$\n",
    "\n",
    "Which of the following statements are true?  \n",
    "**HINT: draw a big Venn Diagram by your side**  \n",
    "* $P(\\overline{A}) = 0.7$\n",
    "* $P(A \\cup B) = 0.6$\n",
    "* $P(A \\cap \\overline{B}) = 0.2$\n",
    "* $P(A \\cup \\overline{A}) = 1$  \n",
    "* $P(A \\cap (B \\cup \\overline{B})) = 0.4$\n",
    "* $P(\\overline{A} \\cap \\overline{B}) = 0.3$\n",
    "* $P(\\overline{A \\cap B}) = 0.9$"
   ]
  },
  {
   "cell_type": "code",
   "execution_count": 20,
   "metadata": {},
   "outputs": [
    {
     "name": "stdout",
     "output_type": "stream",
     "text": [
      "1. 0.7 (Expected: 0.7)\n",
      "2. 0.7999999999999999 (Expected: 0.6)\n",
      "3. 0.19999999999999998 (Expected: 0.2)\n",
      "4. 1 (Expected: 1)\n",
      "5. 0.3 (Expected: 0.4)\n",
      "6. 0.19999999999999998 (Expected: 0.3)\n",
      "7. 0.9 (Expected: 0.9)\n"
     ]
    }
   ],
   "source": [
    "# Given probabilities\n",
    "P_A = 0.3  # Probability of A\n",
    "P_B = 0.6  # Probability of B\n",
    "P_A_and_B = 0.1  # Probability of A and B\n",
    "\n",
    "# Calculate probabilities for each statement\n",
    "P_not_A = 1 - P_A  # Complement of A\n",
    "P_A_or_B = P_A + P_B - P_A_and_B  # Union of A and B\n",
    "P_A_and_not_B = P_A - P_A_and_B  # A intersect complement of B\n",
    "P_A_or_not_A = 1  # A union complement of A\n",
    "P_A_and_B_or_not_B = P_A  # A intersect (B union complement of B) = A\n",
    "P_not_A_and_not_B = 1 - P_A - P_B + P_A_and_B  # Complement of A intersect complement of B\n",
    "P_not_A_and_B = 1 - P_A_and_B  # Complement of A and B\n",
    "\n",
    "# Print results for each statement\n",
    "print(f\"1. {P_not_A} (Expected: 0.7)\")\n",
    "print(f\"2. {P_A_or_B} (Expected: 0.6)\")\n",
    "print(f\"3. {P_A_and_not_B} (Expected: 0.2)\")\n",
    "print(f\"4. {P_A_or_not_A} (Expected: 1)\")\n",
    "print(f\"5. {P_A_and_B_or_not_B} (Expected: 0.4)\")\n",
    "print(f\"6. {P_not_A_and_not_B} (Expected: 0.3)\")\n",
    "print(f\"7. {P_not_A_and_B} (Expected: 0.9)\")\n"
   ]
  },
  {
   "cell_type": "markdown",
   "metadata": {},
   "source": [
    "## Challenge 4\n",
    "\n",
    " * If someone flies to China, the probability of getting Covid is 1%  \n",
    " * If someone flies to Italy, the probability of getting Covid is 20%  \n",
    "\n",
    "I roll 1 dice with numbers 1, 2, 3, 4, 5, 6:  \n",
    " * If 1: I fly to Italy\n",
    " * If not 1: I fly to China\n",
    "\n",
    "During my trip, I got Covid. What is the probability that I flew to China?"
   ]
  },
  {
   "cell_type": "code",
   "execution_count": 21,
   "metadata": {},
   "outputs": [
    {
     "name": "stdout",
     "output_type": "stream",
     "text": [
      "Total probability of getting Covid: 0.0417\n",
      "Probability of having flown to China given that you got Covid: 0.2000\n"
     ]
    }
   ],
   "source": [
    "# Given probabilities\n",
    "P_I = 1 / 6  # Probability of flying to Italy\n",
    "P_C = 5 / 6  # Probability of flying to China\n",
    "P_Covid_given_I = 0.2  # Probability of getting Covid if in Italy\n",
    "P_Covid_given_C = 0.01  # Probability of getting Covid if in China\n",
    "\n",
    "# Calculate the total probability of getting Covid (P(Covid))\n",
    "P_Covid = (P_Covid_given_I * P_I) + (P_Covid_given_C * P_C)\n",
    "\n",
    "# Apply Bayes' Theorem to find P(C | Covid)\n",
    "P_C_given_Covid = (P_Covid_given_C * P_C) / P_Covid\n",
    "\n",
    "# Print the result\n",
    "print(f\"Total probability of getting Covid: {P_Covid:.4f}\")\n",
    "print(f\"Probability of having flown to China given that you got Covid: {P_C_given_Covid:.4f}\")"
   ]
  },
  {
   "cell_type": "markdown",
   "metadata": {},
   "source": [
    "## BONUS\n",
    "\n",
    "You roll 2 dice. What is the probability that the sum of the numbers is 7? And 8? And 9? Then simulate 10000 times and draw a countplot."
   ]
  },
  {
   "cell_type": "markdown",
   "metadata": {},
   "source": [
    "your explanation here"
   ]
  },
  {
   "cell_type": "code",
   "execution_count": 22,
   "metadata": {},
   "outputs": [],
   "source": [
    "# YOUR CODE HERE"
   ]
  }
 ],
 "metadata": {
  "kernelspec": {
   "display_name": "Python 3",
   "language": "python",
   "name": "python3"
  },
  "language_info": {
   "codemirror_mode": {
    "name": "ipython",
    "version": 3
   },
   "file_extension": ".py",
   "mimetype": "text/x-python",
   "name": "python",
   "nbconvert_exporter": "python",
   "pygments_lexer": "ipython3",
   "version": "3.13.0"
  },
  "toc": {
   "base_numbering": 1,
   "nav_menu": {},
   "number_sections": false,
   "sideBar": true,
   "skip_h1_title": false,
   "title_cell": "Table of Contents",
   "title_sidebar": "Contents",
   "toc_cell": false,
   "toc_position": {
    "height": "calc(100% - 180px)",
    "left": "10px",
    "top": "150px",
    "width": "296.475px"
   },
   "toc_section_display": true,
   "toc_window_display": false
  },
  "varInspector": {
   "cols": {
    "lenName": 16,
    "lenType": 16,
    "lenVar": 40
   },
   "kernels_config": {
    "python": {
     "delete_cmd_postfix": "",
     "delete_cmd_prefix": "del ",
     "library": "var_list.py",
     "varRefreshCmd": "print(var_dic_list())"
    },
    "r": {
     "delete_cmd_postfix": ") ",
     "delete_cmd_prefix": "rm(",
     "library": "var_list.r",
     "varRefreshCmd": "cat(var_dic_list()) "
    }
   },
   "types_to_exclude": [
    "module",
    "function",
    "builtin_function_or_method",
    "instance",
    "_Feature"
   ],
   "window_display": false
  }
 },
 "nbformat": 4,
 "nbformat_minor": 2
}
