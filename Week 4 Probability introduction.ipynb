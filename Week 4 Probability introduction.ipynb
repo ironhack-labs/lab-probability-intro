{
 "cells": [
  {
   "cell_type": "markdown",
   "metadata": {},
   "source": [
    "# Probability"
   ]
  },
  {
   "cell_type": "markdown",
   "metadata": {},
   "source": [
    "## Challenge 1\n",
    "There is a box with 10 white balls, 12 red balls and 8 black balls. Calculate the probability of:\n",
    "* Taking a white ball out.\n",
    "* Taking a white ball on first extraction and a black ball out on second extraction without replacing the first one.\n",
    "* Taking a white ball on first extraction and a black ball out on second extraction replacing the first one.\n",
    "* Taking 3 balls and them being all different colours."
   ]
  },
  {
   "cell_type": "code",
   "execution_count": 1,
   "metadata": {},
   "outputs": [
    {
     "data": {
      "text/plain": [
       "(0.3333333333333333,\n",
       " 0.09195402298850575,\n",
       " 0.08888888888888888,\n",
       " 0.23645320197044337)"
      ]
     },
     "execution_count": 1,
     "metadata": {},
     "output_type": "execute_result"
    }
   ],
   "source": [
    "# Total balls\n",
    "total_balls = 10 + 12 + 8\n",
    "\n",
    "# 1. Probability of taking a white ball out\n",
    "prob_white = 10 / total_balls\n",
    "\n",
    "# 2. Probability of white ball on first and black ball on second without replacement\n",
    "prob_white_then_black_no_replace = (10 / total_balls) * (8 / (total_balls - 1))\n",
    "\n",
    "# 3. Probability of white ball on first and black ball on second with replacement\n",
    "prob_white_then_black_replace = (10 / total_balls) * (8 / total_balls)\n",
    "\n",
    "# 4. Probability of taking 3 balls of all different colors\n",
    "prob_diff_colors = (\n",
    "    (10 / total_balls) * (12 / (total_balls - 1)) * (8 / (total_balls - 2)) +\n",
    "    (10 / total_balls) * (8 / (total_balls - 1)) * (12 / (total_balls - 2)) +\n",
    "    (12 / total_balls) * (10 / (total_balls - 1)) * (8 / (total_balls - 2)) +\n",
    "    (12 / total_balls) * (8 / (total_balls - 1)) * (10 / (total_balls - 2)) +\n",
    "    (8 / total_balls) * (10 / (total_balls - 1)) * (12 / (total_balls - 2)) +\n",
    "    (8 / total_balls) * (12 / (total_balls - 1)) * (10 / (total_balls - 2))\n",
    ")\n",
    "\n",
    "# Results\n",
    "prob_white, prob_white_then_black_no_replace, prob_white_then_black_replace, prob_diff_colors\n"
   ]
  },
  {
   "cell_type": "markdown",
   "metadata": {},
   "source": [
    "## Challenge 2\n",
    "\n",
    "You want to go on picnic on Saturday. You hate rain, and would know to plan your weekend. To help you make a decision, you gather the following data about rainy days:\n",
    "\n",
    "* 40% of all days are cloudy.\n",
    "* About 50% of cloudy days are rainy. \n",
    "* About 20% of non-cloudy days are rainy.\n",
    "\n",
    "What is the chance of rain during next Saturday?"
   ]
  },
  {
   "cell_type": "code",
   "execution_count": 2,
   "metadata": {},
   "outputs": [
    {
     "data": {
      "text/plain": [
       "0.32"
      ]
     },
     "execution_count": 2,
     "metadata": {},
     "output_type": "execute_result"
    }
   ],
   "source": [
    "# Given probabilities\n",
    "p_cloudy = 0.4\n",
    "p_rain_given_cloudy = 0.5\n",
    "p_rain_given_non_cloudy = 0.2\n",
    "\n",
    "# Probability of rain (using the law of total probability)\n",
    "p_rain = (p_cloudy * p_rain_given_cloudy) + ((1 - p_cloudy) * p_rain_given_non_cloudy)\n",
    "\n",
    "# Result\n",
    "p_rain\n"
   ]
  },
  {
   "cell_type": "markdown",
   "metadata": {},
   "source": [
    "## Challenge 3\n",
    "\n",
    "A and B are events of a probability such that $P(A) = 0.3$, $P(B) = 0.6$ and $P(A \\cap B) = 0.1$\n",
    "\n",
    "Which of the following statements are true?  \n",
    "**HINT: draw a big Venn Diagram by your side**  \n",
    "* $P(\\overline{A}) = 0.7$\n",
    "* $P(A \\cup B) = 0.6$\n",
    "* $P(A \\cap \\overline{B}) = 0.2$\n",
    "* $P(A \\cup \\overline{A}) = 1$  \n",
    "* $P(A \\cap (B \\cup \\overline{B})) = 0.4$\n",
    "* $P(\\overline{A} \\cap \\overline{B}) = 0.3$\n",
    "* $P(\\overline{A \\cap B}) = 0.9$"
   ]
  },
  {
   "cell_type": "code",
   "execution_count": 3,
   "metadata": {},
   "outputs": [
    {
     "data": {
      "text/plain": [
       "{'P(A)': False,\n",
       " 'P(A ∪ B)': False,\n",
       " 'P(A ∩ B̅)': False,\n",
       " 'P(A ∪ A̅)': True,\n",
       " 'P(A ∩ (B ∪ B̅))': False,\n",
       " 'P(A̅ ∩ B)': False,\n",
       " 'P(A ∩ B)': False}"
      ]
     },
     "execution_count": 3,
     "metadata": {},
     "output_type": "execute_result"
    }
   ],
   "source": [
    "# Given probabilities\n",
    "p_A = 0.3\n",
    "p_B = 0.6\n",
    "p_A_and_B = 0.1\n",
    "\n",
    "# Calculations\n",
    "p_A_or_B = p_A + p_B - p_A_and_B  # Union of A and B\n",
    "p_A_complement = 1 - p_A          # Complement of A\n",
    "p_A_and_B_complement = p_A - p_A_and_B  # A and not B\n",
    "p_A_complement_and_B = p_B - p_A_and_B  # B and not A\n",
    "p_A_and_B_union = p_A_and_B + p_A_and_B_complement + p_A_complement_and_B  # Intersection of A and (B union B')\n",
    "\n",
    "# Statements to verify\n",
    "statements = {\n",
    "    \"P(A)\": p_A == 0.7,\n",
    "    \"P(A ∪ B)\": p_A_or_B == 0.6,\n",
    "    \"P(A ∩ B̅)\": p_A_and_B_complement == 0.2,\n",
    "    \"P(A ∪ A̅)\": p_A + p_A_complement == 1,\n",
    "    \"P(A ∩ (B ∪ B̅))\": p_A_and_B_union == 0.4,\n",
    "    \"P(A̅ ∩ B)\": p_A_complement_and_B == 0.3,\n",
    "    \"P(A ∩ B)\": p_A_and_B == 0.9,\n",
    "}\n",
    "\n",
    "# Result\n",
    "statements\n"
   ]
  },
  {
   "cell_type": "markdown",
   "metadata": {},
   "source": [
    "## Challenge 4\n",
    "\n",
    " * If someone flies to China, the probability of getting Covid is 1%  \n",
    " * If someone flies to Italy, the probability of getting Covid is 20%  \n",
    "\n",
    "I roll 1 dice with numbers 1, 2, 3, 4, 5, 6:  \n",
    " * If 1: I fly to Italy\n",
    " * If not 1: I fly to China\n",
    "\n",
    "During my trip, I got Covid. What is the probability that I flew to China?"
   ]
  },
  {
   "cell_type": "code",
   "execution_count": 4,
   "metadata": {},
   "outputs": [
    {
     "data": {
      "text/plain": [
       "0.2"
      ]
     },
     "execution_count": 4,
     "metadata": {},
     "output_type": "execute_result"
    }
   ],
   "source": [
    "# Given probabilities\n",
    "p_Italy = 1 / 6  # Probability of flying to Italy\n",
    "p_China = 5 / 6  # Probability of flying to China\n",
    "p_Covid_given_Italy = 0.2  # Probability of getting Covid in Italy\n",
    "p_Covid_given_China = 0.01  # Probability of getting Covid in China\n",
    "\n",
    "# Total probability of getting Covid (using the law of total probability)\n",
    "p_Covid = (p_Italy * p_Covid_given_Italy) + (p_China * p_Covid_given_China)\n",
    "\n",
    "# Probability of having flown to China given that Covid occurred (Bayes' theorem)\n",
    "p_China_given_Covid = (p_China * p_Covid_given_China) / p_Covid\n",
    "\n",
    "# Result\n",
    "p_China_given_Covid\n"
   ]
  },
  {
   "cell_type": "markdown",
   "metadata": {},
   "source": [
    "## BONUS\n",
    "\n",
    "You roll 2 dice. What is the probability that the sum of the numbers is 7? And 8? And 9? Then simulate 10000 times and draw a countplot."
   ]
  },
  {
   "cell_type": "markdown",
   "metadata": {},
   "source": [
    "your explanation here"
   ]
  },
  {
   "cell_type": "code",
   "execution_count": 5,
   "metadata": {},
   "outputs": [
    {
     "data": {
      "image/png": "[encoded data removed]",
      "text/plain": [
       "<Figure size 640x480 with 1 Axes>"
      ]
     },
     "metadata": {},
     "output_type": "display_data"
    },
    {
     "data": {
      "text/plain": [
       "(0.16666666666666666, 0.1388888888888889, 0.1111111111111111)"
      ]
     },
     "execution_count": 5,
     "metadata": {},
     "output_type": "execute_result"
    }
   ],
   "source": [
    "import random\n",
    "import matplotlib.pyplot as plt\n",
    "\n",
    "# Total possible outcomes when rolling two dice\n",
    "total_outcomes = 6 * 6\n",
    "\n",
    "# Probability calculations for sums 7, 8, and 9\n",
    "prob_7 = 6 / total_outcomes  # (1+6, 2+5, 3+4, 4+3, 5+2, 6+1)\n",
    "prob_8 = 5 / total_outcomes  # (2+6, 3+5, 4+4, 5+3, 6+2)\n",
    "prob_9 = 4 / total_outcomes  # (3+6, 4+5, 5+4, 6+3)\n",
    "\n",
    "# Simulation of 10,000 rolls\n",
    "simulations = 10000\n",
    "sums = [random.randint(1, 6) + random.randint(1, 6) for _ in range(simulations)]\n",
    "\n",
    "# Count occurrences of each sum\n",
    "count_sums = {sum_val: sums.count(sum_val) for sum_val in range(2, 13)}\n",
    "\n",
    "# Plot the results\n",
    "plt.bar(count_sums.keys(), count_sums.values())\n",
    "plt.xlabel(\"Sum of Two Dice\")\n",
    "plt.ylabel(\"Frequency\")\n",
    "plt.title(\"Frequency of Sums in 10,000 Dice Rolls\")\n",
    "plt.show()\n",
    "\n",
    "# Results\n",
    "prob_7, prob_8, prob_9\n"
   ]
  },
  {
   "cell_type": "code",
   "execution_count": null,
   "metadata": {},
   "outputs": [],
   "source": []
  }
 ],
 "metadata": {
  "kernelspec": {
   "display_name": "Python 3 (ipykernel)",
   "language": "python",
   "name": "python3"
  },
  "language_info": {
   "codemirror_mode": {
    "name": "ipython",
    "version": 3
   },
   "file_extension": ".py",
   "mimetype": "text/x-python",
   "name": "python",
   "nbconvert_exporter": "python",
   "pygments_lexer": "ipython3",
   "version": "3.12.7"
  },
  "toc": {
   "base_numbering": 1,
   "nav_menu": {},
   "number_sections": false,
   "sideBar": true,
   "skip_h1_title": false,
   "title_cell": "Table of Contents",
   "title_sidebar": "Contents",
   "toc_cell": false,
   "toc_position": {
    "height": "calc(100% - 180px)",
    "left": "10px",
    "top": "150px",
    "width": "296.475px"
   },
   "toc_section_display": true,
   "toc_window_display": false
  },
  "varInspector": {
   "cols": {
    "lenName": 16,
    "lenType": 16,
    "lenVar": 40
   },
   "kernels_config": {
    "python": {
     "delete_cmd_postfix": "",
     "delete_cmd_prefix": "del ",
     "library": "var_list.py",
     "varRefreshCmd": "print(var_dic_list())"
    },
    "r": {
     "delete_cmd_postfix": ") ",
     "delete_cmd_prefix": "rm(",
     "library": "var_list.r",
     "varRefreshCmd": "cat(var_dic_list()) "
    }
   },
   "types_to_exclude": [
    "module",
    "function",
    "builtin_function_or_method",
    "instance",
    "_Feature"
   ],
   "window_display": false
  }
 },
 "nbformat": 4,
 "nbformat_minor": 4
}
